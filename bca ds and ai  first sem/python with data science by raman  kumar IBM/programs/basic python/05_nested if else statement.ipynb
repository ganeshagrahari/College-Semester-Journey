{
 "cells": [
  {
   "cell_type": "code",
   "execution_count": 13,
   "metadata": {},
   "outputs": [
    {
     "name": "stdout",
     "output_type": "stream",
     "text": [
      "outside B\n",
      "Rest of the code.\n"
     ]
    }
   ],
   "source": [
    "a = 100\n",
    "b= 20\n",
    "if a==100:\n",
    "    if b==200:\n",
    "        print(\"inside B\")\n",
    "    else:\n",
    "        print(\"outside B\")\n",
    "\n",
    "else:\n",
    "    print(\"Out side A\")\n",
    "\n",
    "print(\"Rest of the code.\")        "
   ]
  },
  {
   "cell_type": "code",
   "execution_count": 18,
   "metadata": {},
   "outputs": [
    {
     "name": "stdout",
     "output_type": "stream",
     "text": [
      "a is greater  than b\n",
      "next line of codes\n"
     ]
    }
   ],
   "source": [
    "a = 9\n",
    "b= 8\n",
    "c= 3\n",
    "d= 2\n",
    "if a>b:\n",
    "    print(\"a is greater  than b\")\n",
    "    if c<d:\n",
    "        print(\"c is grater than d\")\n",
    "    else:\n",
    "        (\"c is smaller than d\")    \n",
    "else:\n",
    "    print(\"a is smaller than b\")   \n",
    "\n",
    "print(\"next line of codes\")             "
   ]
  },
  {
   "cell_type": "code",
   "execution_count": 1,
   "metadata": {},
   "outputs": [
    {
     "name": "stdout",
     "output_type": "stream",
     "text": [
      "wrong password\n",
      "still wrong password !\n"
     ]
    }
   ],
   "source": [
    "email = input(\"Enetr ur email: \")\n",
    "password= input(\"Enter your password: \")\n",
    "if email==\"ganeshagrahari049@gmail.com\" and password=='1234':\n",
    "    print(\"Login..\")\n",
    "elif email==\"ganeshagrahari049@gmail.com\" and password !='1234':\n",
    "    print(\"wrong password\")\n",
    "    password=input(\"Re-enter your password\")\n",
    "    if password == 1234:\n",
    "        print(\"login\")\n",
    "    else:\n",
    "        print(\"still wrong password !\")    "
   ]
  },
  {
   "cell_type": "code",
   "execution_count": 4,
   "metadata": {},
   "outputs": [
    {
     "name": "stdout",
     "output_type": "stream",
     "text": [
      "Login successfully\n"
     ]
    }
   ],
   "source": [
    "email = input(\"enter the email: \")\n",
    "password = input(\"enter the password: \")\n",
    "if email.lower() == 'ganesh@gmail.com' and password == '1234':\n",
    "    print(\"Login successfully\")\n",
    "else:\n",
    "    print(\"wrong email or password\")    "
   ]
  },
  {
   "cell_type": "code",
   "execution_count": 8,
   "metadata": {},
   "outputs": [
    {
     "name": "stdout",
     "output_type": "stream",
     "text": [
      "login successfully \n"
     ]
    }
   ],
   "source": [
    "\n",
    "email = input(\"enter the email = \").lower() ## LOWER IS STRING METHOD\n",
    "password = input(\"enter the password = \")\n",
    "if email == \"python@gmail.com\" and password ==\"1234\":\n",
    " print(\"login successfully \")\n",
    "elif email==\"python@gmail.com\" and password !=\"1234\":\n",
    " print(\"wrong password\")\n",
    " password = input(\"Re-enter the password \")\n",
    " if password == \"1234\":\n",
    "   print(\"login successfully \")\n",
    " else:\n",
    "   print(\"still wrong password \")\n",
    "else:\n",
    " print(\"wrong email or password \")"
   ]
  }
 ],
 "metadata": {
  "kernelspec": {
   "display_name": "Python 3",
   "language": "python",
   "name": "python3"
  },
  "language_info": {
   "codemirror_mode": {
    "name": "ipython",
    "version": 3
   },
   "file_extension": ".py",
   "mimetype": "text/x-python",
   "name": "python",
   "nbconvert_exporter": "python",
   "pygments_lexer": "ipython3",
   "version": "3.11.6"
  },
  "orig_nbformat": 4
 },
 "nbformat": 4,
 "nbformat_minor": 2
}
