{
 "cells": [
  {
   "cell_type": "code",
   "execution_count": 32,
   "id": "84e41502-4169-416f-8e9d-bb0ccd645b3d",
   "metadata": {},
   "outputs": [],
   "source": [
    "#imprting libraries\n",
    "from mlxtend.frequent_patterns import apriori, association_rules #Import fpgrowth(for using it)\n",
    "from mlxtend.preprocessing import TransactionEncoder\n",
    "import pandas as pd"
   ]
  },
  {
   "cell_type": "code",
   "execution_count": 13,
   "id": "0cc18b12-3e82-46a8-936a-ae943e5e01a1",
   "metadata": {},
   "outputs": [],
   "source": [
    "#sample Data\n",
    "#Each tracsaction is a list of items bought together\n",
    "# for eg ['I1','I2','I3',] means a transaction containing items I1,I2,I3\n",
    "\n",
    "data = [\n",
    "    ['I1','I2','I5'],\n",
    "     ['I2','I4'],\n",
    "     ['I2','I3'],\n",
    "     ['I1','I2','I4'],\n",
    "     ['I1','I3'],\n",
    "     ['I2','I3'],\n",
    "      ['I1','I3'],\n",
    "     ['I1','I2','I3','I5'],\n",
    "     ['I1','I2','I3']\n",
    "]"
   ]
  },
  {
   "cell_type": "code",
   "execution_count": 14,
   "id": "71ad61e2-58b8-4493-864f-0a980a6d27c7",
   "metadata": {},
   "outputs": [
    {
     "data": {
      "text/plain": [
       "list"
      ]
     },
     "execution_count": 14,
     "metadata": {},
     "output_type": "execute_result"
    }
   ],
   "source": [
    "type(data)"
   ]
  },
  {
   "cell_type": "code",
   "execution_count": 16,
   "id": "99e2728c-a75b-40bd-b2d7-0a3a92c09ba7",
   "metadata": {},
   "outputs": [],
   "source": [
    "#for creating True False matrix of our data\n",
    "te = TransactionEncoder()\n",
    "transformed_data = te.fit(data).transform(data)\n"
   ]
  },
  {
   "cell_type": "code",
   "execution_count": 18,
   "id": "c981a8ad-2649-43b0-9959-4bdd2382eea5",
   "metadata": {},
   "outputs": [
    {
     "data": {
      "text/plain": [
       "array([[ True,  True, False, False,  True],\n",
       "       [False,  True, False,  True, False],\n",
       "       [False,  True,  True, False, False],\n",
       "       [ True,  True, False,  True, False],\n",
       "       [ True, False,  True, False, False],\n",
       "       [False,  True,  True, False, False],\n",
       "       [ True, False,  True, False, False],\n",
       "       [ True,  True,  True, False,  True],\n",
       "       [ True,  True,  True, False, False]])"
      ]
     },
     "execution_count": 18,
     "metadata": {},
     "output_type": "execute_result"
    }
   ],
   "source": [
    "transformed_data"
   ]
  },
  {
   "cell_type": "code",
   "execution_count": 22,
   "id": "16ffc774-3d1a-4401-8136-3754b24d3c94",
   "metadata": {},
   "outputs": [],
   "source": [
    "#creating data frame for matrix\n",
    "df= pd.DataFrame(transformed_data,columns=te.columns_)"
   ]
  },
  {
   "cell_type": "code",
   "execution_count": 20,
   "id": "80d98e68-ae58-4c7b-a803-3b909dc8460b",
   "metadata": {},
   "outputs": [
    {
     "data": {
      "text/html": [
       "<div>\n",
       "<style scoped>\n",
       "    .dataframe tbody tr th:only-of-type {\n",
       "        vertical-align: middle;\n",
       "    }\n",
       "\n",
       "    .dataframe tbody tr th {\n",
       "        vertical-align: top;\n",
       "    }\n",
       "\n",
       "    .dataframe thead th {\n",
       "        text-align: right;\n",
       "    }\n",
       "</style>\n",
       "<table border=\"1\" class=\"dataframe\">\n",
       "  <thead>\n",
       "    <tr style=\"text-align: right;\">\n",
       "      <th></th>\n",
       "      <th>I1</th>\n",
       "      <th>I2</th>\n",
       "      <th>I3</th>\n",
       "      <th>I4</th>\n",
       "      <th>I5</th>\n",
       "    </tr>\n",
       "  </thead>\n",
       "  <tbody>\n",
       "    <tr>\n",
       "      <th>0</th>\n",
       "      <td>True</td>\n",
       "      <td>True</td>\n",
       "      <td>False</td>\n",
       "      <td>False</td>\n",
       "      <td>True</td>\n",
       "    </tr>\n",
       "    <tr>\n",
       "      <th>1</th>\n",
       "      <td>False</td>\n",
       "      <td>True</td>\n",
       "      <td>False</td>\n",
       "      <td>True</td>\n",
       "      <td>False</td>\n",
       "    </tr>\n",
       "    <tr>\n",
       "      <th>2</th>\n",
       "      <td>False</td>\n",
       "      <td>True</td>\n",
       "      <td>True</td>\n",
       "      <td>False</td>\n",
       "      <td>False</td>\n",
       "    </tr>\n",
       "    <tr>\n",
       "      <th>3</th>\n",
       "      <td>True</td>\n",
       "      <td>True</td>\n",
       "      <td>False</td>\n",
       "      <td>True</td>\n",
       "      <td>False</td>\n",
       "    </tr>\n",
       "    <tr>\n",
       "      <th>4</th>\n",
       "      <td>True</td>\n",
       "      <td>False</td>\n",
       "      <td>True</td>\n",
       "      <td>False</td>\n",
       "      <td>False</td>\n",
       "    </tr>\n",
       "    <tr>\n",
       "      <th>5</th>\n",
       "      <td>False</td>\n",
       "      <td>True</td>\n",
       "      <td>True</td>\n",
       "      <td>False</td>\n",
       "      <td>False</td>\n",
       "    </tr>\n",
       "    <tr>\n",
       "      <th>6</th>\n",
       "      <td>True</td>\n",
       "      <td>False</td>\n",
       "      <td>True</td>\n",
       "      <td>False</td>\n",
       "      <td>False</td>\n",
       "    </tr>\n",
       "    <tr>\n",
       "      <th>7</th>\n",
       "      <td>True</td>\n",
       "      <td>True</td>\n",
       "      <td>True</td>\n",
       "      <td>False</td>\n",
       "      <td>True</td>\n",
       "    </tr>\n",
       "    <tr>\n",
       "      <th>8</th>\n",
       "      <td>True</td>\n",
       "      <td>True</td>\n",
       "      <td>True</td>\n",
       "      <td>False</td>\n",
       "      <td>False</td>\n",
       "    </tr>\n",
       "  </tbody>\n",
       "</table>\n",
       "</div>"
      ],
      "text/plain": [
       "      I1     I2     I3     I4     I5\n",
       "0   True   True  False  False   True\n",
       "1  False   True  False   True  False\n",
       "2  False   True   True  False  False\n",
       "3   True   True  False   True  False\n",
       "4   True  False   True  False  False\n",
       "5  False   True   True  False  False\n",
       "6   True  False   True  False  False\n",
       "7   True   True   True  False   True\n",
       "8   True   True   True  False  False"
      ]
     },
     "execution_count": 20,
     "metadata": {},
     "output_type": "execute_result"
    }
   ],
   "source": [
    "df"
   ]
  },
  {
   "cell_type": "code",
   "execution_count": 21,
   "id": "b521aad6-8c5c-45cf-a6a8-b03f92244ced",
   "metadata": {},
   "outputs": [],
   "source": [
    "# get user input for minimum support as absolute count"
   ]
  },
  {
   "cell_type": "code",
   "execution_count": 24,
   "id": "fb7068c8-03aa-43bf-96b6-cdb5d9127715",
   "metadata": {},
   "outputs": [
    {
     "name": "stdin",
     "output_type": "stream",
     "text": [
      "Enter min support count(eg. absolute number of transaction , e.g 3 for 3 transaction ): 2\n"
     ]
    }
   ],
   "source": [
    "min_support_count = int(input(\"Enter min support count(eg. absolute number of transaction , e.g 3 for 3 transaction ):\"))\n",
    "#convert absolute count to relative count \n",
    "min_support= min_support_count/len(data)"
   ]
  },
  {
   "cell_type": "code",
   "execution_count": 31,
   "id": "40006dfb-01b8-4353-ab3a-8da56ac58b67",
   "metadata": {},
   "outputs": [
    {
     "name": "stdout",
     "output_type": "stream",
     "text": [
      "\n",
      "All Frequent_itemsets :\n"
     ]
    },
    {
     "data": {
      "text/html": [
       "<div>\n",
       "<style scoped>\n",
       "    .dataframe tbody tr th:only-of-type {\n",
       "        vertical-align: middle;\n",
       "    }\n",
       "\n",
       "    .dataframe tbody tr th {\n",
       "        vertical-align: top;\n",
       "    }\n",
       "\n",
       "    .dataframe thead th {\n",
       "        text-align: right;\n",
       "    }\n",
       "</style>\n",
       "<table border=\"1\" class=\"dataframe\">\n",
       "  <thead>\n",
       "    <tr style=\"text-align: right;\">\n",
       "      <th></th>\n",
       "      <th>support</th>\n",
       "      <th>itemsets</th>\n",
       "    </tr>\n",
       "  </thead>\n",
       "  <tbody>\n",
       "    <tr>\n",
       "      <th>0</th>\n",
       "      <td>0.666667</td>\n",
       "      <td>(I1)</td>\n",
       "    </tr>\n",
       "    <tr>\n",
       "      <th>1</th>\n",
       "      <td>0.777778</td>\n",
       "      <td>(I2)</td>\n",
       "    </tr>\n",
       "    <tr>\n",
       "      <th>2</th>\n",
       "      <td>0.666667</td>\n",
       "      <td>(I3)</td>\n",
       "    </tr>\n",
       "    <tr>\n",
       "      <th>3</th>\n",
       "      <td>0.222222</td>\n",
       "      <td>(I4)</td>\n",
       "    </tr>\n",
       "    <tr>\n",
       "      <th>4</th>\n",
       "      <td>0.222222</td>\n",
       "      <td>(I5)</td>\n",
       "    </tr>\n",
       "    <tr>\n",
       "      <th>5</th>\n",
       "      <td>0.444444</td>\n",
       "      <td>(I2, I1)</td>\n",
       "    </tr>\n",
       "    <tr>\n",
       "      <th>6</th>\n",
       "      <td>0.444444</td>\n",
       "      <td>(I3, I1)</td>\n",
       "    </tr>\n",
       "    <tr>\n",
       "      <th>7</th>\n",
       "      <td>0.222222</td>\n",
       "      <td>(I5, I1)</td>\n",
       "    </tr>\n",
       "    <tr>\n",
       "      <th>8</th>\n",
       "      <td>0.444444</td>\n",
       "      <td>(I2, I3)</td>\n",
       "    </tr>\n",
       "    <tr>\n",
       "      <th>9</th>\n",
       "      <td>0.222222</td>\n",
       "      <td>(I2, I4)</td>\n",
       "    </tr>\n",
       "    <tr>\n",
       "      <th>10</th>\n",
       "      <td>0.222222</td>\n",
       "      <td>(I2, I5)</td>\n",
       "    </tr>\n",
       "    <tr>\n",
       "      <th>11</th>\n",
       "      <td>0.222222</td>\n",
       "      <td>(I2, I3, I1)</td>\n",
       "    </tr>\n",
       "    <tr>\n",
       "      <th>12</th>\n",
       "      <td>0.222222</td>\n",
       "      <td>(I2, I5, I1)</td>\n",
       "    </tr>\n",
       "  </tbody>\n",
       "</table>\n",
       "</div>"
      ],
      "text/plain": [
       "     support      itemsets\n",
       "0   0.666667          (I1)\n",
       "1   0.777778          (I2)\n",
       "2   0.666667          (I3)\n",
       "3   0.222222          (I4)\n",
       "4   0.222222          (I5)\n",
       "5   0.444444      (I2, I1)\n",
       "6   0.444444      (I3, I1)\n",
       "7   0.222222      (I5, I1)\n",
       "8   0.444444      (I2, I3)\n",
       "9   0.222222      (I2, I4)\n",
       "10  0.222222      (I2, I5)\n",
       "11  0.222222  (I2, I3, I1)\n",
       "12  0.222222  (I2, I5, I1)"
      ]
     },
     "execution_count": 31,
     "metadata": {},
     "output_type": "execute_result"
    }
   ],
   "source": [
    "frequent_itemsets = apriori(df, min_support=min_support,use_colnames=True) #use fpgrowth if u want to use it \n",
    "print(\"\\nAll Frequent_itemsets :\")\n",
    "frequent_itemsets"
   ]
  },
  {
   "cell_type": "code",
   "execution_count": 28,
   "id": "823629f4-9756-4780-8cf3-a7fa369314c9",
   "metadata": {},
   "outputs": [
    {
     "name": "stdin",
     "output_type": "stream",
     "text": [
      "Enter minimun confidence (as a decimal, eg. 0.6 for 60%) : 0.6\n"
     ]
    }
   ],
   "source": [
    "#Get users input for minimum cofidence \n",
    "min_confidence = float(input(\"Enter minimun confidence (as a decimal, eg. 0.6 for 60%) :\"))"
   ]
  },
  {
   "cell_type": "code",
   "execution_count": 30,
   "id": "76c0ddcd-a740-4dd3-a4ad-75603c6149ee",
   "metadata": {},
   "outputs": [
    {
     "name": "stdout",
     "output_type": "stream",
     "text": [
      "\n",
      " All association rules are : \n",
      "  antecedents consequents   support  confidence\n",
      "0        (I1)        (I2)  0.444444    0.666667\n",
      "1        (I3)        (I1)  0.444444    0.666667\n",
      "2        (I1)        (I3)  0.444444    0.666667\n",
      "3        (I5)        (I1)  0.222222    1.000000\n",
      "4        (I3)        (I2)  0.444444    0.666667\n",
      "5        (I4)        (I2)  0.222222    1.000000\n",
      "6        (I5)        (I2)  0.222222    1.000000\n",
      "7    (I2, I5)        (I1)  0.222222    1.000000\n",
      "8    (I5, I1)        (I2)  0.222222    1.000000\n",
      "9        (I5)    (I2, I1)  0.222222    1.000000\n"
     ]
    }
   ],
   "source": [
    "rules = association_rules(frequent_itemsets,metric = \"confidence\", min_threshold = min_confidence)\n",
    "\n",
    "#display all rules based on confidence threshold\n",
    "print(\"\\n All association rules are : \")\n",
    "print(rules[['antecedents','consequents','support','confidence']])"
   ]
  },
  {
   "cell_type": "code",
   "execution_count": null,
   "id": "6b16c1b2-8147-41d8-a1f7-294f5a46e5f3",
   "metadata": {},
   "outputs": [],
   "source": []
  }
 ],
 "metadata": {
  "kernelspec": {
   "display_name": "Python 3 (ipykernel)",
   "language": "python",
   "name": "python3"
  },
  "language_info": {
   "codemirror_mode": {
    "name": "ipython",
    "version": 3
   },
   "file_extension": ".py",
   "mimetype": "text/x-python",
   "name": "python",
   "nbconvert_exporter": "python",
   "pygments_lexer": "ipython3",
   "version": "3.11.7"
  }
 },
 "nbformat": 4,
 "nbformat_minor": 5
}
