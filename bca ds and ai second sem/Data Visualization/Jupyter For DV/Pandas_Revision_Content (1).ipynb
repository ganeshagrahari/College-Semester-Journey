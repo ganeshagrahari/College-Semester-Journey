{
  "cells": [
    {
      "cell_type": "code",
      "execution_count": null,
      "metadata": {
        "id": "Vciyz1oRZzlp"
      },
      "outputs": [],
      "source": [
        "import numpy as np"
      ]
    },
    {
      "cell_type": "code",
      "execution_count": null,
      "metadata": {
        "id": "jENMGbS1Zzls"
      },
      "outputs": [],
      "source": [
        "a=np.array([[[1,2],[3,4]],\n",
        "            [[5,6],[7,8]],\n",
        "            [[0,1],[2,3]]])"
      ]
    },
    {
      "cell_type": "code",
      "execution_count": null,
      "metadata": {
        "id": "9UhITIpnZzls",
        "outputId": "66ab75fd-8b3f-4ff6-bbdb-9be9b1306d9f"
      },
      "outputs": [
        {
          "data": {
            "text/plain": [
              "array([[[1, 2],\n",
              "        [3, 4]],\n",
              "\n",
              "       [[5, 6],\n",
              "        [7, 8]],\n",
              "\n",
              "       [[0, 1],\n",
              "        [2, 3]]])"
            ]
          },
          "execution_count": 3,
          "metadata": {},
          "output_type": "execute_result"
        }
      ],
      "source": [
        "a"
      ]
    },
    {
      "cell_type": "code",
      "execution_count": null,
      "metadata": {
        "scrolled": true,
        "id": "5W4_Ab4NZzlu",
        "outputId": "5d43ae03-f08a-4984-8384-02f320f777af"
      },
      "outputs": [
        {
          "data": {
            "text/plain": [
              "array([[ 3,  7],\n",
              "       [11, 15],\n",
              "       [ 1,  5]])"
            ]
          },
          "execution_count": 4,
          "metadata": {},
          "output_type": "execute_result"
        }
      ],
      "source": [
        "a.sum(axis=2)"
      ]
    },
    {
      "cell_type": "code",
      "execution_count": null,
      "metadata": {
        "scrolled": true,
        "id": "Tefc1aS4Zzlu"
      },
      "outputs": [],
      "source": []
    },
    {
      "cell_type": "code",
      "execution_count": null,
      "metadata": {
        "id": "CRvWfx8bZzlv",
        "outputId": "e17d8b07-68f0-40a0-9814-381dfd6762c7"
      },
      "outputs": [
        {
          "data": {
            "text/plain": [
              "array([[ 4,  6],\n",
              "       [12, 14],\n",
              "       [ 2,  4]])"
            ]
          },
          "execution_count": 5,
          "metadata": {},
          "output_type": "execute_result"
        }
      ],
      "source": [
        "a.sum(axis=1)"
      ]
    },
    {
      "cell_type": "markdown",
      "metadata": {
        "id": "SvugWkSuZzlv"
      },
      "source": [
        "# Pandas\n",
        "\n",
        "Pandas is a package used for managing data.\n",
        "\n",
        "Pandas main use is that it creates 2 new data types for storing data: series and dataframe.\n",
        "\n",
        "A dataframe is made up of several series.  Each column of a dataframe is a series.\n",
        "\n",
        "We can name each column and row of a dataframe.\n",
        "\n",
        "Similar to numpy arrays, a dataframe is a more robust data type for storing data than lists of lists. Dataframes are more flexible than numpy arrays.\n",
        "\n",
        "A numpy array can create a matrix with all entries of the same data type.  In a dataframe each column can have its own datatype.  \n",
        "\n",
        "That's not to say numpy arrays aren't useful.  It is often easiest to convert some subset of a dataframe to a numpy array and then use that to do some math.\n",
        "\n",
        "Pandas also has SQL-like functions for merging, joining, and sorting dataframes.\n",
        "\n"
      ]
    },
    {
      "cell_type": "code",
      "execution_count": null,
      "metadata": {
        "id": "I3-3JjPQZzlx",
        "outputId": "0b0602f3-21ff-4911-c5af-da4fbc5eeef7"
      },
      "outputs": [
        {
          "name": "stdout",
          "output_type": "stream",
          "text": [
            "Requirement already satisfied: pandas in c:\\users\\sriaj\\anaconda3\\anaconda files1\\lib\\site-packages (1.4.2)\n",
            "Requirement already satisfied: pytz>=2020.1 in c:\\users\\sriaj\\anaconda3\\anaconda files1\\lib\\site-packages (from pandas) (2021.3)\n",
            "Requirement already satisfied: python-dateutil>=2.8.1 in c:\\users\\sriaj\\anaconda3\\anaconda files1\\lib\\site-packages (from pandas) (2.8.2)\n",
            "Requirement already satisfied: numpy>=1.18.5 in c:\\users\\sriaj\\anaconda3\\anaconda files1\\lib\\site-packages (from pandas) (1.21.5)\n",
            "Requirement already satisfied: six>=1.5 in c:\\users\\sriaj\\anaconda3\\anaconda files1\\lib\\site-packages (from python-dateutil>=2.8.1->pandas) (1.16.0)\n"
          ]
        }
      ],
      "source": [
        "!pip install pandas"
      ]
    },
    {
      "cell_type": "code",
      "execution_count": null,
      "metadata": {
        "id": "8j3YPBNYZzlx"
      },
      "outputs": [],
      "source": [
        "import pandas as pd\n",
        "import numpy as np  # numpy is not necessary for pandas, but we will use some np code in this example\n",
        "# in general it's good practice to import all pacakages at the beginning"
      ]
    },
    {
      "cell_type": "code",
      "execution_count": null,
      "metadata": {
        "id": "vqXu97BGZzly"
      },
      "outputs": [],
      "source": [
        "# series - list, np.array"
      ]
    },
    {
      "cell_type": "code",
      "execution_count": null,
      "metadata": {
        "id": "Z80sFhw4Zzly"
      },
      "outputs": [],
      "source": [
        "mylist=[1,2,3,4]\n",
        "array=np.random.randint(10,20,4)"
      ]
    },
    {
      "cell_type": "code",
      "execution_count": null,
      "metadata": {
        "id": "ehDUC61hZzly",
        "outputId": "e658b41f-68f7-4af8-f78c-7f9fcb22add7"
      },
      "outputs": [
        {
          "data": {
            "text/plain": [
              "array([19, 13, 15, 11])"
            ]
          },
          "execution_count": 11,
          "metadata": {},
          "output_type": "execute_result"
        }
      ],
      "source": [
        "array"
      ]
    },
    {
      "cell_type": "code",
      "execution_count": null,
      "metadata": {
        "scrolled": true,
        "id": "Pi0V4aMBZzlz",
        "outputId": "ed7d8dd4-c9cc-495c-995f-05c2e412177a"
      },
      "outputs": [
        {
          "data": {
            "text/plain": [
              "0    1\n",
              "1    2\n",
              "2    3\n",
              "3    4\n",
              "dtype: int64"
            ]
          },
          "execution_count": 12,
          "metadata": {},
          "output_type": "execute_result"
        }
      ],
      "source": [
        "s1=pd.Series(mylist)\n",
        "s1"
      ]
    },
    {
      "cell_type": "code",
      "execution_count": null,
      "metadata": {
        "id": "IBVbr9i2Zzlz",
        "outputId": "14504666-53ac-4d52-b8de-01ce05a785cd"
      },
      "outputs": [
        {
          "data": {
            "text/plain": [
              "0    19\n",
              "1    13\n",
              "2    15\n",
              "3    11\n",
              "dtype: int32"
            ]
          },
          "execution_count": 13,
          "metadata": {},
          "output_type": "execute_result"
        }
      ],
      "source": [
        "s2=pd.Series(array)\n",
        "s2"
      ]
    },
    {
      "cell_type": "code",
      "execution_count": null,
      "metadata": {
        "id": "6_mZhrwEZzlz"
      },
      "outputs": [],
      "source": [
        "# first let's look at series - think of this as a single column of a spreadsheet\n",
        "# each entry in a series corresponds to an individual row in the spreadsheet\n",
        "# we can create a series by converting a list, or numpy array\n",
        "\n",
        "mylist = [5.4,6.1,1.7,99.8]\n",
        "myarray = np.array(mylist)\n"
      ]
    },
    {
      "cell_type": "code",
      "execution_count": null,
      "metadata": {
        "id": "jE1M4E-UZzl0",
        "outputId": "c6a2e6d2-0d3d-41ca-d10d-39c58aa25c04"
      },
      "outputs": [
        {
          "data": {
            "text/plain": [
              "0     5.4\n",
              "1     6.1\n",
              "2     1.7\n",
              "3    99.8\n",
              "dtype: float64"
            ]
          },
          "execution_count": 15,
          "metadata": {},
          "output_type": "execute_result"
        }
      ],
      "source": [
        "a=pd.Series(mylist)\n",
        "a"
      ]
    },
    {
      "cell_type": "code",
      "execution_count": null,
      "metadata": {
        "id": "uQET70t1Zzl0",
        "outputId": "a90856fc-e52c-4d4e-a038-926ca37731a3"
      },
      "outputs": [
        {
          "name": "stdout",
          "output_type": "stream",
          "text": [
            "0     5.4\n",
            "1     6.1\n",
            "2     1.7\n",
            "3    99.8\n",
            "dtype: float64\n",
            "0     5.4\n",
            "1     6.1\n",
            "2     1.7\n",
            "3    99.8\n",
            "dtype: float64\n"
          ]
        }
      ],
      "source": [
        "myseries1 = pd.Series(data=mylist)\n",
        "print(myseries1)\n",
        "myseries2 = pd.Series(data=myarray)\n",
        "print(myseries2)"
      ]
    },
    {
      "cell_type": "code",
      "execution_count": null,
      "metadata": {
        "id": "I26oHMA5Zzl1",
        "outputId": "33871865-1b1c-4861-f3e9-8cd58083a0ee"
      },
      "outputs": [
        {
          "name": "stdout",
          "output_type": "stream",
          "text": [
            "2     1.7\n",
            "3    99.8\n",
            "dtype: float64\n"
          ]
        }
      ],
      "source": [
        "# we access individual entries the same way as with lists and arrays\n",
        "print(myseries2[2:])"
      ]
    },
    {
      "cell_type": "code",
      "execution_count": null,
      "metadata": {
        "id": "TQNEWjUxZzl1",
        "outputId": "5cab762b-75e0-41b4-c10b-2e977bf75b16"
      },
      "outputs": [
        {
          "name": "stdout",
          "output_type": "stream",
          "text": [
            "first      5.4\n",
            "second     6.1\n",
            "third      1.7\n",
            "fourth    99.8\n",
            "dtype: float64\n"
          ]
        }
      ],
      "source": [
        "# we can add labels to the entries of a series\n",
        "\n",
        "mylabels = ['first','second','third','fourth']\n",
        "myseries3 = pd.Series(data=mylist,index=mylabels)\n",
        "print(myseries3)"
      ]
    },
    {
      "cell_type": "code",
      "execution_count": null,
      "metadata": {
        "id": "dRrJU79XZzl1",
        "outputId": "e9dc0eb9-66bd-436a-e937-dfc218a9f5d8"
      },
      "outputs": [
        {
          "name": "stdout",
          "output_type": "stream",
          "text": [
            "5.4      first\n",
            "6.1     second\n",
            "1.7      third\n",
            "99.8    fourth\n",
            "dtype: object\n"
          ]
        }
      ],
      "source": [
        "# we need not be explicit about the entries of pd.Series\n",
        "myseries4 = pd.Series(mylabels,mylist)\n",
        "print(myseries4)"
      ]
    },
    {
      "cell_type": "code",
      "execution_count": null,
      "metadata": {
        "id": "Qb0A2UctZzl2",
        "outputId": "979d6311-7ad1-4e6e-925c-6497cf870655"
      },
      "outputs": [
        {
          "name": "stdout",
          "output_type": "stream",
          "text": [
            "99.8\n"
          ]
        }
      ],
      "source": [
        "# we can also access entries using the index labels\n",
        "print(myseries3['fourth'])"
      ]
    },
    {
      "cell_type": "code",
      "execution_count": null,
      "metadata": {
        "scrolled": true,
        "id": "khYF4Uq0Zzl2",
        "outputId": "222986ab-2ba4-493f-eb32-43836fac50da"
      },
      "outputs": [
        {
          "data": {
            "text/plain": [
              "'first'"
            ]
          },
          "execution_count": 21,
          "metadata": {},
          "output_type": "execute_result"
        }
      ],
      "source": [
        "myseries4[5.4]"
      ]
    },
    {
      "cell_type": "code",
      "execution_count": null,
      "metadata": {
        "id": "-EBeOb6PZzl2"
      },
      "outputs": [],
      "source": [
        "# myseries5"
      ]
    },
    {
      "cell_type": "code",
      "execution_count": null,
      "metadata": {
        "id": "AE5MyHQtZzl2",
        "outputId": "52df92b8-24a7-4f50-8d3c-1719f0b9b5b7"
      },
      "outputs": [
        {
          "name": "stdout",
          "output_type": "stream",
          "text": [
            "first     5.5\n",
            "third     1.1\n",
            "fourth    8.8\n",
            "fifth     1.6\n",
            "dtype: float64\n",
            "\n",
            "fifth       NaN\n",
            "first      10.9\n",
            "fourth    108.6\n",
            "second      NaN\n",
            "third       2.8\n",
            "dtype: float64\n"
          ]
        }
      ],
      "source": [
        "# we can do math on series\n",
        "myseries5 = pd.Series([5.5,1.1,8.8,1.6],['first','third','fourth','fifth'])\n",
        "print(myseries5)\n",
        "print('')\n",
        "print(myseries5+myseries3)"
      ]
    },
    {
      "cell_type": "code",
      "execution_count": null,
      "metadata": {
        "id": "MwCRinBwZzl3",
        "outputId": "98dca0c9-ccf0-4dc5-c833-ada14cb7591b"
      },
      "outputs": [
        {
          "ename": "SyntaxError",
          "evalue": "invalid syntax (733687337.py, line 1)",
          "output_type": "error",
          "traceback": [
            "\u001b[1;36m  Input \u001b[1;32mIn [24]\u001b[1;36m\u001b[0m\n\u001b[1;33m    concatenate 1,2 - 12\u001b[0m\n\u001b[1;37m                ^\u001b[0m\n\u001b[1;31mSyntaxError\u001b[0m\u001b[1;31m:\u001b[0m invalid syntax\n"
          ]
        }
      ],
      "source": [
        "concatenate 1,2 - 12"
      ]
    },
    {
      "cell_type": "code",
      "execution_count": null,
      "metadata": {
        "id": "9VIOyN9eZzl3",
        "outputId": "cc2a81db-42ea-4345-f34b-0f13e0ddb63b"
      },
      "outputs": [
        {
          "name": "stdout",
          "output_type": "stream",
          "text": [
            "first      5.4\n",
            "second     6.1\n",
            "third      1.7\n",
            "fourth    99.8\n",
            "dtype: float64\n",
            "\n",
            "first     5.5\n",
            "third     1.1\n",
            "fourth    8.8\n",
            "fifth     1.6\n",
            "dtype: float64\n"
          ]
        }
      ],
      "source": [
        "print(myseries3)\n",
        "print()\n",
        "print(myseries5)"
      ]
    },
    {
      "cell_type": "code",
      "execution_count": null,
      "metadata": {
        "id": "hfHZeLdHZzl3",
        "outputId": "6727d919-ab33-4846-bbd7-e9a1c6f61cb9"
      },
      "outputs": [
        {
          "data": {
            "text/html": [
              "<div>\n",
              "<style scoped>\n",
              "    .dataframe tbody tr th:only-of-type {\n",
              "        vertical-align: middle;\n",
              "    }\n",
              "\n",
              "    .dataframe tbody tr th {\n",
              "        vertical-align: top;\n",
              "    }\n",
              "\n",
              "    .dataframe thead th {\n",
              "        text-align: right;\n",
              "    }\n",
              "</style>\n",
              "<table border=\"1\" class=\"dataframe\">\n",
              "  <thead>\n",
              "    <tr style=\"text-align: right;\">\n",
              "      <th></th>\n",
              "      <th>0</th>\n",
              "      <th>1</th>\n",
              "    </tr>\n",
              "  </thead>\n",
              "  <tbody>\n",
              "    <tr>\n",
              "      <th>first</th>\n",
              "      <td>5.4</td>\n",
              "      <td>5.5</td>\n",
              "    </tr>\n",
              "    <tr>\n",
              "      <th>second</th>\n",
              "      <td>6.1</td>\n",
              "      <td>NaN</td>\n",
              "    </tr>\n",
              "    <tr>\n",
              "      <th>third</th>\n",
              "      <td>1.7</td>\n",
              "      <td>1.1</td>\n",
              "    </tr>\n",
              "    <tr>\n",
              "      <th>fourth</th>\n",
              "      <td>99.8</td>\n",
              "      <td>8.8</td>\n",
              "    </tr>\n",
              "    <tr>\n",
              "      <th>fifth</th>\n",
              "      <td>NaN</td>\n",
              "      <td>1.6</td>\n",
              "    </tr>\n",
              "  </tbody>\n",
              "</table>\n",
              "</div>"
            ],
            "text/plain": [
              "           0    1\n",
              "first    5.4  5.5\n",
              "second   6.1  NaN\n",
              "third    1.7  1.1\n",
              "fourth  99.8  8.8\n",
              "fifth    NaN  1.6"
            ]
          },
          "execution_count": 26,
          "metadata": {},
          "output_type": "execute_result"
        }
      ],
      "source": [
        "# we can combine series to create a dataframe using the concat function\n",
        "\n",
        "df1 = pd.concat([myseries3,myseries5],axis=1,sort=False)\n",
        "df1"
      ]
    },
    {
      "cell_type": "code",
      "execution_count": null,
      "metadata": {
        "id": "sIXMRoQDZzl3",
        "outputId": "4e6f06ed-7a85-4b48-a0e2-0cf05f6ea5d6"
      },
      "outputs": [
        {
          "data": {
            "text/html": [
              "<div>\n",
              "<style scoped>\n",
              "    .dataframe tbody tr th:only-of-type {\n",
              "        vertical-align: middle;\n",
              "    }\n",
              "\n",
              "    .dataframe tbody tr th {\n",
              "        vertical-align: top;\n",
              "    }\n",
              "\n",
              "    .dataframe thead th {\n",
              "        text-align: right;\n",
              "    }\n",
              "</style>\n",
              "<table border=\"1\" class=\"dataframe\">\n",
              "  <thead>\n",
              "    <tr style=\"text-align: right;\">\n",
              "      <th></th>\n",
              "      <th>p</th>\n",
              "      <th>q</th>\n",
              "      <th>r</th>\n",
              "      <th>s</th>\n",
              "      <th>t</th>\n",
              "    </tr>\n",
              "  </thead>\n",
              "  <tbody>\n",
              "    <tr>\n",
              "      <th>a</th>\n",
              "      <td>0.512325</td>\n",
              "      <td>0.792790</td>\n",
              "      <td>0.107013</td>\n",
              "      <td>0.545848</td>\n",
              "      <td>0.353009</td>\n",
              "    </tr>\n",
              "    <tr>\n",
              "      <th>b</th>\n",
              "      <td>0.853769</td>\n",
              "      <td>0.035232</td>\n",
              "      <td>0.019195</td>\n",
              "      <td>0.712925</td>\n",
              "      <td>0.966695</td>\n",
              "    </tr>\n",
              "    <tr>\n",
              "      <th>c</th>\n",
              "      <td>0.790443</td>\n",
              "      <td>0.564641</td>\n",
              "      <td>0.947495</td>\n",
              "      <td>0.732308</td>\n",
              "      <td>0.063018</td>\n",
              "    </tr>\n",
              "    <tr>\n",
              "      <th>d</th>\n",
              "      <td>0.944952</td>\n",
              "      <td>0.675020</td>\n",
              "      <td>0.658529</td>\n",
              "      <td>0.175713</td>\n",
              "      <td>0.821730</td>\n",
              "    </tr>\n",
              "    <tr>\n",
              "      <th>e</th>\n",
              "      <td>0.922854</td>\n",
              "      <td>0.100087</td>\n",
              "      <td>0.999255</td>\n",
              "      <td>0.726458</td>\n",
              "      <td>0.175784</td>\n",
              "    </tr>\n",
              "  </tbody>\n",
              "</table>\n",
              "</div>"
            ],
            "text/plain": [
              "          p         q         r         s         t\n",
              "a  0.512325  0.792790  0.107013  0.545848  0.353009\n",
              "b  0.853769  0.035232  0.019195  0.712925  0.966695\n",
              "c  0.790443  0.564641  0.947495  0.732308  0.063018\n",
              "d  0.944952  0.675020  0.658529  0.175713  0.821730\n",
              "e  0.922854  0.100087  0.999255  0.726458  0.175784"
            ]
          },
          "execution_count": 27,
          "metadata": {},
          "output_type": "execute_result"
        }
      ],
      "source": [
        "# we can create a new dataframe\n",
        "df2 = pd.DataFrame(np.random.rand(5,5),index=['a','b','c','d','e'],columns=['p','q','r','s','t'])\n",
        "df2"
      ]
    },
    {
      "cell_type": "code",
      "execution_count": null,
      "metadata": {
        "scrolled": true,
        "id": "rsxVLtgaZzl3",
        "outputId": "eefcd697-44ea-4d95-ba1c-fa7604110522"
      },
      "outputs": [
        {
          "data": {
            "text/html": [
              "<div>\n",
              "<style scoped>\n",
              "    .dataframe tbody tr th:only-of-type {\n",
              "        vertical-align: middle;\n",
              "    }\n",
              "\n",
              "    .dataframe tbody tr th {\n",
              "        vertical-align: top;\n",
              "    }\n",
              "\n",
              "    .dataframe thead th {\n",
              "        text-align: right;\n",
              "    }\n",
              "</style>\n",
              "<table border=\"1\" class=\"dataframe\">\n",
              "  <thead>\n",
              "    <tr style=\"text-align: right;\">\n",
              "      <th></th>\n",
              "      <th>first col</th>\n",
              "      <th>second col</th>\n",
              "      <th>third col</th>\n",
              "      <th>fourth col</th>\n",
              "      <th>fifth col</th>\n",
              "    </tr>\n",
              "  </thead>\n",
              "  <tbody>\n",
              "    <tr>\n",
              "      <th>first row</th>\n",
              "      <td>0.822893</td>\n",
              "      <td>-1.423711</td>\n",
              "      <td>0.418590</td>\n",
              "      <td>0.158221</td>\n",
              "      <td>-0.463175</td>\n",
              "    </tr>\n",
              "    <tr>\n",
              "      <th>second row</th>\n",
              "      <td>-0.152790</td>\n",
              "      <td>0.002065</td>\n",
              "      <td>1.858880</td>\n",
              "      <td>-0.636972</td>\n",
              "      <td>-0.738839</td>\n",
              "    </tr>\n",
              "    <tr>\n",
              "      <th>third row</th>\n",
              "      <td>-0.193864</td>\n",
              "      <td>-1.179945</td>\n",
              "      <td>0.380241</td>\n",
              "      <td>1.376465</td>\n",
              "      <td>0.184676</td>\n",
              "    </tr>\n",
              "    <tr>\n",
              "      <th>fourth row</th>\n",
              "      <td>1.131401</td>\n",
              "      <td>0.407221</td>\n",
              "      <td>-2.539193</td>\n",
              "      <td>0.328429</td>\n",
              "      <td>-0.027129</td>\n",
              "    </tr>\n",
              "    <tr>\n",
              "      <th>fifth row</th>\n",
              "      <td>-0.790992</td>\n",
              "      <td>0.408077</td>\n",
              "      <td>-0.746851</td>\n",
              "      <td>0.895058</td>\n",
              "      <td>-0.923893</td>\n",
              "    </tr>\n",
              "  </tbody>\n",
              "</table>\n",
              "</div>"
            ],
            "text/plain": [
              "            first col  second col  third col  fourth col  fifth col\n",
              "first row    0.822893   -1.423711   0.418590    0.158221  -0.463175\n",
              "second row  -0.152790    0.002065   1.858880   -0.636972  -0.738839\n",
              "third row   -0.193864   -1.179945   0.380241    1.376465   0.184676\n",
              "fourth row   1.131401    0.407221  -2.539193    0.328429  -0.027129\n",
              "fifth row   -0.790992    0.408077  -0.746851    0.895058  -0.923893"
            ]
          },
          "execution_count": 28,
          "metadata": {},
          "output_type": "execute_result"
        }
      ],
      "source": [
        "# lets give labels to rows and columns\n",
        "df3 = pd.DataFrame(np.random.randn(5,5),index=['first row','second row','third row','fourth row','fifth row'],\n",
        "                   columns=['first col','second col','third col','fourth col','fifth col'])\n",
        "df3"
      ]
    },
    {
      "cell_type": "code",
      "execution_count": null,
      "metadata": {
        "id": "RuDEHWg7Zzl4",
        "outputId": "c2f57339-79cc-4c5f-a643-58727ba41bfc"
      },
      "outputs": [
        {
          "data": {
            "text/html": [
              "<div>\n",
              "<style scoped>\n",
              "    .dataframe tbody tr th:only-of-type {\n",
              "        vertical-align: middle;\n",
              "    }\n",
              "\n",
              "    .dataframe tbody tr th {\n",
              "        vertical-align: top;\n",
              "    }\n",
              "\n",
              "    .dataframe thead th {\n",
              "        text-align: right;\n",
              "    }\n",
              "</style>\n",
              "<table border=\"1\" class=\"dataframe\">\n",
              "  <thead>\n",
              "    <tr style=\"text-align: right;\">\n",
              "      <th></th>\n",
              "      <th>third col</th>\n",
              "      <th>fourth col</th>\n",
              "      <th>first col</th>\n",
              "    </tr>\n",
              "  </thead>\n",
              "  <tbody>\n",
              "    <tr>\n",
              "      <th>first row</th>\n",
              "      <td>0.418590</td>\n",
              "      <td>0.158221</td>\n",
              "      <td>0.822893</td>\n",
              "    </tr>\n",
              "    <tr>\n",
              "      <th>second row</th>\n",
              "      <td>1.858880</td>\n",
              "      <td>-0.636972</td>\n",
              "      <td>-0.152790</td>\n",
              "    </tr>\n",
              "    <tr>\n",
              "      <th>third row</th>\n",
              "      <td>0.380241</td>\n",
              "      <td>1.376465</td>\n",
              "      <td>-0.193864</td>\n",
              "    </tr>\n",
              "    <tr>\n",
              "      <th>fourth row</th>\n",
              "      <td>-2.539193</td>\n",
              "      <td>0.328429</td>\n",
              "      <td>1.131401</td>\n",
              "    </tr>\n",
              "    <tr>\n",
              "      <th>fifth row</th>\n",
              "      <td>-0.746851</td>\n",
              "      <td>0.895058</td>\n",
              "      <td>-0.790992</td>\n",
              "    </tr>\n",
              "  </tbody>\n",
              "</table>\n",
              "</div>"
            ],
            "text/plain": [
              "            third col  fourth col  first col\n",
              "first row    0.418590    0.158221   0.822893\n",
              "second row   1.858880   -0.636972  -0.152790\n",
              "third row    0.380241    1.376465  -0.193864\n",
              "fourth row  -2.539193    0.328429   1.131401\n",
              "fifth row   -0.746851    0.895058  -0.790992"
            ]
          },
          "execution_count": 29,
          "metadata": {},
          "output_type": "execute_result"
        }
      ],
      "source": [
        "df3[['third col','fourth col','first col']]"
      ]
    },
    {
      "cell_type": "code",
      "execution_count": null,
      "metadata": {
        "id": "_x9vv2TqZzl4",
        "outputId": "20de0d8b-f72d-417c-a9df-9b726a696840"
      },
      "outputs": [
        {
          "data": {
            "text/plain": [
              "Index(['first col', 'second col', 'third col', 'fourth col', 'fifth col'], dtype='object')"
            ]
          },
          "execution_count": 30,
          "metadata": {},
          "output_type": "execute_result"
        }
      ],
      "source": [
        "df3.columns"
      ]
    },
    {
      "cell_type": "code",
      "execution_count": null,
      "metadata": {
        "scrolled": true,
        "id": "sSl_A1iMZzl4",
        "outputId": "ee95e6c8-aa52-486e-a93d-78eae31afc6b"
      },
      "outputs": [
        {
          "data": {
            "text/html": [
              "<div>\n",
              "<style scoped>\n",
              "    .dataframe tbody tr th:only-of-type {\n",
              "        vertical-align: middle;\n",
              "    }\n",
              "\n",
              "    .dataframe tbody tr th {\n",
              "        vertical-align: top;\n",
              "    }\n",
              "\n",
              "    .dataframe thead th {\n",
              "        text-align: right;\n",
              "    }\n",
              "</style>\n",
              "<table border=\"1\" class=\"dataframe\">\n",
              "  <thead>\n",
              "    <tr style=\"text-align: right;\">\n",
              "      <th></th>\n",
              "      <th>third col</th>\n",
              "      <th>first col</th>\n",
              "    </tr>\n",
              "  </thead>\n",
              "  <tbody>\n",
              "    <tr>\n",
              "      <th>second row</th>\n",
              "      <td>1.858880</td>\n",
              "      <td>-0.152790</td>\n",
              "    </tr>\n",
              "    <tr>\n",
              "      <th>fourth row</th>\n",
              "      <td>-2.539193</td>\n",
              "      <td>1.131401</td>\n",
              "    </tr>\n",
              "  </tbody>\n",
              "</table>\n",
              "</div>"
            ],
            "text/plain": [
              "            third col  first col\n",
              "second row   1.858880  -0.152790\n",
              "fourth row  -2.539193   1.131401"
            ]
          },
          "execution_count": 31,
          "metadata": {},
          "output_type": "execute_result"
        }
      ],
      "source": [
        "df3.loc[['second row','fourth row'],['third col','first col']]"
      ]
    },
    {
      "cell_type": "code",
      "execution_count": null,
      "metadata": {
        "id": "H6r2OSwLZzl4",
        "outputId": "6b1c2cd4-1bdc-40f3-edc8-ba6b87d61d51"
      },
      "outputs": [
        {
          "data": {
            "text/html": [
              "<div>\n",
              "<style scoped>\n",
              "    .dataframe tbody tr th:only-of-type {\n",
              "        vertical-align: middle;\n",
              "    }\n",
              "\n",
              "    .dataframe tbody tr th {\n",
              "        vertical-align: top;\n",
              "    }\n",
              "\n",
              "    .dataframe thead th {\n",
              "        text-align: right;\n",
              "    }\n",
              "</style>\n",
              "<table border=\"1\" class=\"dataframe\">\n",
              "  <thead>\n",
              "    <tr style=\"text-align: right;\">\n",
              "      <th></th>\n",
              "      <th>first col</th>\n",
              "      <th>second col</th>\n",
              "      <th>third col</th>\n",
              "      <th>fourth col</th>\n",
              "      <th>fifth col</th>\n",
              "    </tr>\n",
              "  </thead>\n",
              "  <tbody>\n",
              "    <tr>\n",
              "      <th>first row</th>\n",
              "      <td>0.822893</td>\n",
              "      <td>-1.423711</td>\n",
              "      <td>0.418590</td>\n",
              "      <td>0.158221</td>\n",
              "      <td>-0.463175</td>\n",
              "    </tr>\n",
              "    <tr>\n",
              "      <th>second row</th>\n",
              "      <td>-0.152790</td>\n",
              "      <td>0.002065</td>\n",
              "      <td>1.858880</td>\n",
              "      <td>-0.636972</td>\n",
              "      <td>-0.738839</td>\n",
              "    </tr>\n",
              "    <tr>\n",
              "      <th>third row</th>\n",
              "      <td>-0.193864</td>\n",
              "      <td>-1.179945</td>\n",
              "      <td>0.380241</td>\n",
              "      <td>1.376465</td>\n",
              "      <td>0.184676</td>\n",
              "    </tr>\n",
              "    <tr>\n",
              "      <th>fourth row</th>\n",
              "      <td>1.131401</td>\n",
              "      <td>0.407221</td>\n",
              "      <td>-2.539193</td>\n",
              "      <td>0.328429</td>\n",
              "      <td>-0.027129</td>\n",
              "    </tr>\n",
              "    <tr>\n",
              "      <th>fifth row</th>\n",
              "      <td>-0.790992</td>\n",
              "      <td>0.408077</td>\n",
              "      <td>-0.746851</td>\n",
              "      <td>0.895058</td>\n",
              "      <td>-0.923893</td>\n",
              "    </tr>\n",
              "  </tbody>\n",
              "</table>\n",
              "</div>"
            ],
            "text/plain": [
              "            first col  second col  third col  fourth col  fifth col\n",
              "first row    0.822893   -1.423711   0.418590    0.158221  -0.463175\n",
              "second row  -0.152790    0.002065   1.858880   -0.636972  -0.738839\n",
              "third row   -0.193864   -1.179945   0.380241    1.376465   0.184676\n",
              "fourth row   1.131401    0.407221  -2.539193    0.328429  -0.027129\n",
              "fifth row   -0.790992    0.408077  -0.746851    0.895058  -0.923893"
            ]
          },
          "execution_count": 32,
          "metadata": {},
          "output_type": "execute_result"
        }
      ],
      "source": [
        "df3"
      ]
    },
    {
      "cell_type": "code",
      "execution_count": null,
      "metadata": {
        "scrolled": true,
        "id": "9Gk-HQxBZzl4",
        "outputId": "47f1974b-95bc-45e5-fc7d-68b3a45c2d2d"
      },
      "outputs": [
        {
          "data": {
            "text/html": [
              "<div>\n",
              "<style scoped>\n",
              "    .dataframe tbody tr th:only-of-type {\n",
              "        vertical-align: middle;\n",
              "    }\n",
              "\n",
              "    .dataframe tbody tr th {\n",
              "        vertical-align: top;\n",
              "    }\n",
              "\n",
              "    .dataframe thead th {\n",
              "        text-align: right;\n",
              "    }\n",
              "</style>\n",
              "<table border=\"1\" class=\"dataframe\">\n",
              "  <thead>\n",
              "    <tr style=\"text-align: right;\">\n",
              "      <th></th>\n",
              "      <th>fourth col</th>\n",
              "      <th>fifth col</th>\n",
              "    </tr>\n",
              "  </thead>\n",
              "  <tbody>\n",
              "    <tr>\n",
              "      <th>second row</th>\n",
              "      <td>-0.636972</td>\n",
              "      <td>-0.738839</td>\n",
              "    </tr>\n",
              "    <tr>\n",
              "      <th>third row</th>\n",
              "      <td>1.376465</td>\n",
              "      <td>0.184676</td>\n",
              "    </tr>\n",
              "    <tr>\n",
              "      <th>fourth row</th>\n",
              "      <td>0.328429</td>\n",
              "      <td>-0.027129</td>\n",
              "    </tr>\n",
              "  </tbody>\n",
              "</table>\n",
              "</div>"
            ],
            "text/plain": [
              "            fourth col  fifth col\n",
              "second row   -0.636972  -0.738839\n",
              "third row     1.376465   0.184676\n",
              "fourth row    0.328429  -0.027129"
            ]
          },
          "execution_count": 33,
          "metadata": {},
          "output_type": "execute_result"
        }
      ],
      "source": [
        "df3.iloc[1:4,3:]"
      ]
    },
    {
      "cell_type": "code",
      "execution_count": null,
      "metadata": {
        "id": "M6AYhx7MZzl4"
      },
      "outputs": [],
      "source": []
    },
    {
      "cell_type": "code",
      "execution_count": null,
      "metadata": {
        "id": "UZSFI5N_Zzl4",
        "outputId": "b627befc-8646-4033-e30a-8fe4a26754e9"
      },
      "outputs": [
        {
          "name": "stdout",
          "output_type": "stream",
          "text": [
            "first row    -1.423711\n",
            "second row    0.002065\n",
            "third row    -1.179945\n",
            "fourth row    0.407221\n",
            "fifth row     0.408077\n",
            "Name: second col, dtype: float64\n",
            "\n"
          ]
        },
        {
          "data": {
            "text/html": [
              "<div>\n",
              "<style scoped>\n",
              "    .dataframe tbody tr th:only-of-type {\n",
              "        vertical-align: middle;\n",
              "    }\n",
              "\n",
              "    .dataframe tbody tr th {\n",
              "        vertical-align: top;\n",
              "    }\n",
              "\n",
              "    .dataframe thead th {\n",
              "        text-align: right;\n",
              "    }\n",
              "</style>\n",
              "<table border=\"1\" class=\"dataframe\">\n",
              "  <thead>\n",
              "    <tr style=\"text-align: right;\">\n",
              "      <th></th>\n",
              "      <th>third col</th>\n",
              "      <th>first col</th>\n",
              "    </tr>\n",
              "  </thead>\n",
              "  <tbody>\n",
              "    <tr>\n",
              "      <th>first row</th>\n",
              "      <td>0.418590</td>\n",
              "      <td>0.822893</td>\n",
              "    </tr>\n",
              "    <tr>\n",
              "      <th>second row</th>\n",
              "      <td>1.858880</td>\n",
              "      <td>-0.152790</td>\n",
              "    </tr>\n",
              "    <tr>\n",
              "      <th>third row</th>\n",
              "      <td>0.380241</td>\n",
              "      <td>-0.193864</td>\n",
              "    </tr>\n",
              "    <tr>\n",
              "      <th>fourth row</th>\n",
              "      <td>-2.539193</td>\n",
              "      <td>1.131401</td>\n",
              "    </tr>\n",
              "    <tr>\n",
              "      <th>fifth row</th>\n",
              "      <td>-0.746851</td>\n",
              "      <td>-0.790992</td>\n",
              "    </tr>\n",
              "  </tbody>\n",
              "</table>\n",
              "</div>"
            ],
            "text/plain": [
              "            third col  first col\n",
              "first row    0.418590   0.822893\n",
              "second row   1.858880  -0.152790\n",
              "third row    0.380241  -0.193864\n",
              "fourth row  -2.539193   1.131401\n",
              "fifth row   -0.746851  -0.790992"
            ]
          },
          "execution_count": 34,
          "metadata": {},
          "output_type": "execute_result"
        }
      ],
      "source": [
        "# we can access individual series in a data frame\n",
        "print(df3['second col'])\n",
        "print('')\n",
        "df3[['third col','first col']]"
      ]
    },
    {
      "cell_type": "code",
      "execution_count": null,
      "metadata": {
        "scrolled": true,
        "id": "DqhFcVHoZzl5",
        "outputId": "170df499-4177-4030-f153-55ccb61030e6"
      },
      "outputs": [
        {
          "data": {
            "text/plain": [
              "first col     1.131401\n",
              "second col    0.407221\n",
              "third col    -2.539193\n",
              "fourth col    0.328429\n",
              "fifth col    -0.027129\n",
              "Name: fourth row, dtype: float64"
            ]
          },
          "execution_count": 35,
          "metadata": {},
          "output_type": "execute_result"
        }
      ],
      "source": [
        "# we can access rows of a dataframe\n",
        "df3.loc['fourth row']"
      ]
    },
    {
      "cell_type": "code",
      "execution_count": null,
      "metadata": {
        "id": "Naxp9Mf7Zzl5",
        "outputId": "1d82b58f-678c-4b1a-c00d-5041172f51ba"
      },
      "outputs": [
        {
          "data": {
            "text/html": [
              "<div>\n",
              "<style scoped>\n",
              "    .dataframe tbody tr th:only-of-type {\n",
              "        vertical-align: middle;\n",
              "    }\n",
              "\n",
              "    .dataframe tbody tr th {\n",
              "        vertical-align: top;\n",
              "    }\n",
              "\n",
              "    .dataframe thead th {\n",
              "        text-align: right;\n",
              "    }\n",
              "</style>\n",
              "<table border=\"1\" class=\"dataframe\">\n",
              "  <thead>\n",
              "    <tr style=\"text-align: right;\">\n",
              "      <th></th>\n",
              "      <th>second col</th>\n",
              "      <th>first col</th>\n",
              "    </tr>\n",
              "  </thead>\n",
              "  <tbody>\n",
              "    <tr>\n",
              "      <th>fourth row</th>\n",
              "      <td>0.407221</td>\n",
              "      <td>1.131401</td>\n",
              "    </tr>\n",
              "    <tr>\n",
              "      <th>third row</th>\n",
              "      <td>-1.179945</td>\n",
              "      <td>-0.193864</td>\n",
              "    </tr>\n",
              "  </tbody>\n",
              "</table>\n",
              "</div>"
            ],
            "text/plain": [
              "            second col  first col\n",
              "fourth row    0.407221   1.131401\n",
              "third row    -1.179945  -0.193864"
            ]
          },
          "execution_count": 36,
          "metadata": {},
          "output_type": "execute_result"
        }
      ],
      "source": [
        "df3.loc[['fourth row','third row'],['second col','first col']]"
      ]
    },
    {
      "cell_type": "code",
      "execution_count": null,
      "metadata": {
        "id": "_t_shvvrZzl5",
        "outputId": "64ff969d-b8e6-4c0a-869e-39bdda7ec2ef"
      },
      "outputs": [
        {
          "data": {
            "text/html": [
              "<div>\n",
              "<style scoped>\n",
              "    .dataframe tbody tr th:only-of-type {\n",
              "        vertical-align: middle;\n",
              "    }\n",
              "\n",
              "    .dataframe tbody tr th {\n",
              "        vertical-align: top;\n",
              "    }\n",
              "\n",
              "    .dataframe thead th {\n",
              "        text-align: right;\n",
              "    }\n",
              "</style>\n",
              "<table border=\"1\" class=\"dataframe\">\n",
              "  <thead>\n",
              "    <tr style=\"text-align: right;\">\n",
              "      <th></th>\n",
              "      <th>fourth col</th>\n",
              "      <th>fifth col</th>\n",
              "    </tr>\n",
              "  </thead>\n",
              "  <tbody>\n",
              "    <tr>\n",
              "      <th>third row</th>\n",
              "      <td>1.376465</td>\n",
              "      <td>0.184676</td>\n",
              "    </tr>\n",
              "    <tr>\n",
              "      <th>fourth row</th>\n",
              "      <td>0.328429</td>\n",
              "      <td>-0.027129</td>\n",
              "    </tr>\n",
              "    <tr>\n",
              "      <th>fifth row</th>\n",
              "      <td>0.895058</td>\n",
              "      <td>-0.923893</td>\n",
              "    </tr>\n",
              "  </tbody>\n",
              "</table>\n",
              "</div>"
            ],
            "text/plain": [
              "            fourth col  fifth col\n",
              "third row     1.376465   0.184676\n",
              "fourth row    0.328429  -0.027129\n",
              "fifth row     0.895058  -0.923893"
            ]
          },
          "execution_count": 37,
          "metadata": {},
          "output_type": "execute_result"
        }
      ],
      "source": [
        "df3.iloc[2:,3:]"
      ]
    },
    {
      "cell_type": "code",
      "execution_count": null,
      "metadata": {
        "id": "oUmMtXKqZzl5",
        "outputId": "3f6ccfee-8e4c-47d8-bbbc-671285d7de3b"
      },
      "outputs": [
        {
          "data": {
            "text/html": [
              "<div>\n",
              "<style scoped>\n",
              "    .dataframe tbody tr th:only-of-type {\n",
              "        vertical-align: middle;\n",
              "    }\n",
              "\n",
              "    .dataframe tbody tr th {\n",
              "        vertical-align: top;\n",
              "    }\n",
              "\n",
              "    .dataframe thead th {\n",
              "        text-align: right;\n",
              "    }\n",
              "</style>\n",
              "<table border=\"1\" class=\"dataframe\">\n",
              "  <thead>\n",
              "    <tr style=\"text-align: right;\">\n",
              "      <th></th>\n",
              "      <th>first col</th>\n",
              "      <th>second col</th>\n",
              "      <th>third col</th>\n",
              "      <th>fourth col</th>\n",
              "      <th>fifth col</th>\n",
              "    </tr>\n",
              "  </thead>\n",
              "  <tbody>\n",
              "    <tr>\n",
              "      <th>first row</th>\n",
              "      <td>0.822893</td>\n",
              "      <td>-1.423711</td>\n",
              "      <td>0.418590</td>\n",
              "      <td>0.158221</td>\n",
              "      <td>-0.463175</td>\n",
              "    </tr>\n",
              "    <tr>\n",
              "      <th>second row</th>\n",
              "      <td>-0.152790</td>\n",
              "      <td>0.002065</td>\n",
              "      <td>1.858880</td>\n",
              "      <td>-0.636972</td>\n",
              "      <td>-0.738839</td>\n",
              "    </tr>\n",
              "    <tr>\n",
              "      <th>third row</th>\n",
              "      <td>-0.193864</td>\n",
              "      <td>-1.179945</td>\n",
              "      <td>0.380241</td>\n",
              "      <td>1.376465</td>\n",
              "      <td>0.184676</td>\n",
              "    </tr>\n",
              "    <tr>\n",
              "      <th>fourth row</th>\n",
              "      <td>1.131401</td>\n",
              "      <td>0.407221</td>\n",
              "      <td>-2.539193</td>\n",
              "      <td>0.328429</td>\n",
              "      <td>-0.027129</td>\n",
              "    </tr>\n",
              "    <tr>\n",
              "      <th>fifth row</th>\n",
              "      <td>-0.790992</td>\n",
              "      <td>0.408077</td>\n",
              "      <td>-0.746851</td>\n",
              "      <td>0.895058</td>\n",
              "      <td>-0.923893</td>\n",
              "    </tr>\n",
              "  </tbody>\n",
              "</table>\n",
              "</div>"
            ],
            "text/plain": [
              "            first col  second col  third col  fourth col  fifth col\n",
              "first row    0.822893   -1.423711   0.418590    0.158221  -0.463175\n",
              "second row  -0.152790    0.002065   1.858880   -0.636972  -0.738839\n",
              "third row   -0.193864   -1.179945   0.380241    1.376465   0.184676\n",
              "fourth row   1.131401    0.407221  -2.539193    0.328429  -0.027129\n",
              "fifth row   -0.790992    0.408077  -0.746851    0.895058  -0.923893"
            ]
          },
          "execution_count": 38,
          "metadata": {},
          "output_type": "execute_result"
        }
      ],
      "source": [
        "df3"
      ]
    },
    {
      "cell_type": "code",
      "execution_count": null,
      "metadata": {
        "scrolled": true,
        "id": "JnmTsc3KZzl5",
        "outputId": "e0b481c0-870f-44d3-9879-76f99e408568"
      },
      "outputs": [
        {
          "data": {
            "text/html": [
              "<div>\n",
              "<style scoped>\n",
              "    .dataframe tbody tr th:only-of-type {\n",
              "        vertical-align: middle;\n",
              "    }\n",
              "\n",
              "    .dataframe tbody tr th {\n",
              "        vertical-align: top;\n",
              "    }\n",
              "\n",
              "    .dataframe thead th {\n",
              "        text-align: right;\n",
              "    }\n",
              "</style>\n",
              "<table border=\"1\" class=\"dataframe\">\n",
              "  <thead>\n",
              "    <tr style=\"text-align: right;\">\n",
              "      <th></th>\n",
              "      <th>first col</th>\n",
              "      <th>second col</th>\n",
              "      <th>third col</th>\n",
              "      <th>fourth col</th>\n",
              "      <th>fifth col</th>\n",
              "    </tr>\n",
              "  </thead>\n",
              "  <tbody>\n",
              "    <tr>\n",
              "      <th>first row</th>\n",
              "      <td>0.822893</td>\n",
              "      <td>NaN</td>\n",
              "      <td>NaN</td>\n",
              "      <td>NaN</td>\n",
              "      <td>NaN</td>\n",
              "    </tr>\n",
              "    <tr>\n",
              "      <th>second row</th>\n",
              "      <td>NaN</td>\n",
              "      <td>0.002065</td>\n",
              "      <td>NaN</td>\n",
              "      <td>NaN</td>\n",
              "      <td>NaN</td>\n",
              "    </tr>\n",
              "    <tr>\n",
              "      <th>third row</th>\n",
              "      <td>NaN</td>\n",
              "      <td>NaN</td>\n",
              "      <td>NaN</td>\n",
              "      <td>NaN</td>\n",
              "      <td>NaN</td>\n",
              "    </tr>\n",
              "    <tr>\n",
              "      <th>fourth row</th>\n",
              "      <td>1.131401</td>\n",
              "      <td>0.407221</td>\n",
              "      <td>NaN</td>\n",
              "      <td>NaN</td>\n",
              "      <td>NaN</td>\n",
              "    </tr>\n",
              "    <tr>\n",
              "      <th>fifth row</th>\n",
              "      <td>NaN</td>\n",
              "      <td>0.408077</td>\n",
              "      <td>NaN</td>\n",
              "      <td>NaN</td>\n",
              "      <td>NaN</td>\n",
              "    </tr>\n",
              "  </tbody>\n",
              "</table>\n",
              "</div>"
            ],
            "text/plain": [
              "            first col  second col  third col  fourth col  fifth col\n",
              "first row    0.822893         NaN        NaN         NaN        NaN\n",
              "second row        NaN    0.002065        NaN         NaN        NaN\n",
              "third row         NaN         NaN        NaN         NaN        NaN\n",
              "fourth row   1.131401    0.407221        NaN         NaN        NaN\n",
              "fifth row         NaN    0.408077        NaN         NaN        NaN"
            ]
          },
          "execution_count": 39,
          "metadata": {},
          "output_type": "execute_result"
        }
      ],
      "source": [
        "df3[df3.iloc[:,:2]>0]"
      ]
    },
    {
      "cell_type": "code",
      "execution_count": null,
      "metadata": {
        "id": "Xf60Ig07Zzl5",
        "outputId": "06614289-d2b3-441c-c12d-66abce8f41d1"
      },
      "outputs": [
        {
          "data": {
            "text/html": [
              "<div>\n",
              "<style scoped>\n",
              "    .dataframe tbody tr th:only-of-type {\n",
              "        vertical-align: middle;\n",
              "    }\n",
              "\n",
              "    .dataframe tbody tr th {\n",
              "        vertical-align: top;\n",
              "    }\n",
              "\n",
              "    .dataframe thead th {\n",
              "        text-align: right;\n",
              "    }\n",
              "</style>\n",
              "<table border=\"1\" class=\"dataframe\">\n",
              "  <thead>\n",
              "    <tr style=\"text-align: right;\">\n",
              "      <th></th>\n",
              "      <th>third col</th>\n",
              "      <th>fourth col</th>\n",
              "      <th>fifth col</th>\n",
              "    </tr>\n",
              "  </thead>\n",
              "  <tbody>\n",
              "    <tr>\n",
              "      <th>fifth row</th>\n",
              "      <td>-0.746851</td>\n",
              "      <td>0.895058</td>\n",
              "      <td>-0.923893</td>\n",
              "    </tr>\n",
              "  </tbody>\n",
              "</table>\n",
              "</div>"
            ],
            "text/plain": [
              "           third col  fourth col  fifth col\n",
              "fifth row  -0.746851    0.895058  -0.923893"
            ]
          },
          "execution_count": 40,
          "metadata": {},
          "output_type": "execute_result"
        }
      ],
      "source": [
        "df3.iloc[4:,2:]"
      ]
    },
    {
      "cell_type": "code",
      "execution_count": null,
      "metadata": {
        "id": "5OV4E1dJZzl6",
        "outputId": "da1f9d55-395a-47ab-c235-eab430004c4a"
      },
      "outputs": [
        {
          "data": {
            "text/html": [
              "<div>\n",
              "<style scoped>\n",
              "    .dataframe tbody tr th:only-of-type {\n",
              "        vertical-align: middle;\n",
              "    }\n",
              "\n",
              "    .dataframe tbody tr th {\n",
              "        vertical-align: top;\n",
              "    }\n",
              "\n",
              "    .dataframe thead th {\n",
              "        text-align: right;\n",
              "    }\n",
              "</style>\n",
              "<table border=\"1\" class=\"dataframe\">\n",
              "  <thead>\n",
              "    <tr style=\"text-align: right;\">\n",
              "      <th></th>\n",
              "      <th>second col</th>\n",
              "      <th>third col</th>\n",
              "    </tr>\n",
              "  </thead>\n",
              "  <tbody>\n",
              "    <tr>\n",
              "      <th>fourth row</th>\n",
              "      <td>0.407221</td>\n",
              "      <td>-2.539193</td>\n",
              "    </tr>\n",
              "    <tr>\n",
              "      <th>first row</th>\n",
              "      <td>-1.423711</td>\n",
              "      <td>0.418590</td>\n",
              "    </tr>\n",
              "  </tbody>\n",
              "</table>\n",
              "</div>"
            ],
            "text/plain": [
              "            second col  third col\n",
              "fourth row    0.407221  -2.539193\n",
              "first row    -1.423711   0.418590"
            ]
          },
          "execution_count": 41,
          "metadata": {},
          "output_type": "execute_result"
        }
      ],
      "source": [
        "df3.loc[['fourth row','first row'],['second col','third col']]"
      ]
    },
    {
      "cell_type": "code",
      "execution_count": null,
      "metadata": {
        "id": "FVDbwTKJZzl6",
        "outputId": "ac34c5c0-ed67-4a0e-85cc-344e346b2d01"
      },
      "outputs": [
        {
          "data": {
            "text/html": [
              "<div>\n",
              "<style scoped>\n",
              "    .dataframe tbody tr th:only-of-type {\n",
              "        vertical-align: middle;\n",
              "    }\n",
              "\n",
              "    .dataframe tbody tr th {\n",
              "        vertical-align: top;\n",
              "    }\n",
              "\n",
              "    .dataframe thead th {\n",
              "        text-align: right;\n",
              "    }\n",
              "</style>\n",
              "<table border=\"1\" class=\"dataframe\">\n",
              "  <thead>\n",
              "    <tr style=\"text-align: right;\">\n",
              "      <th></th>\n",
              "      <th>first col</th>\n",
              "      <th>second col</th>\n",
              "      <th>third col</th>\n",
              "      <th>fourth col</th>\n",
              "      <th>fifth col</th>\n",
              "    </tr>\n",
              "  </thead>\n",
              "  <tbody>\n",
              "    <tr>\n",
              "      <th>first row</th>\n",
              "      <td>0.822893</td>\n",
              "      <td>-1.423711</td>\n",
              "      <td>0.418590</td>\n",
              "      <td>0.158221</td>\n",
              "      <td>-0.463175</td>\n",
              "    </tr>\n",
              "    <tr>\n",
              "      <th>second row</th>\n",
              "      <td>-0.152790</td>\n",
              "      <td>0.002065</td>\n",
              "      <td>1.858880</td>\n",
              "      <td>-0.636972</td>\n",
              "      <td>-0.738839</td>\n",
              "    </tr>\n",
              "    <tr>\n",
              "      <th>third row</th>\n",
              "      <td>-0.193864</td>\n",
              "      <td>-1.179945</td>\n",
              "      <td>0.380241</td>\n",
              "      <td>1.376465</td>\n",
              "      <td>0.184676</td>\n",
              "    </tr>\n",
              "    <tr>\n",
              "      <th>fourth row</th>\n",
              "      <td>1.131401</td>\n",
              "      <td>0.407221</td>\n",
              "      <td>-2.539193</td>\n",
              "      <td>0.328429</td>\n",
              "      <td>-0.027129</td>\n",
              "    </tr>\n",
              "    <tr>\n",
              "      <th>fifth row</th>\n",
              "      <td>-0.790992</td>\n",
              "      <td>0.408077</td>\n",
              "      <td>-0.746851</td>\n",
              "      <td>0.895058</td>\n",
              "      <td>-0.923893</td>\n",
              "    </tr>\n",
              "  </tbody>\n",
              "</table>\n",
              "</div>"
            ],
            "text/plain": [
              "            first col  second col  third col  fourth col  fifth col\n",
              "first row    0.822893   -1.423711   0.418590    0.158221  -0.463175\n",
              "second row  -0.152790    0.002065   1.858880   -0.636972  -0.738839\n",
              "third row   -0.193864   -1.179945   0.380241    1.376465   0.184676\n",
              "fourth row   1.131401    0.407221  -2.539193    0.328429  -0.027129\n",
              "fifth row   -0.790992    0.408077  -0.746851    0.895058  -0.923893"
            ]
          },
          "execution_count": 42,
          "metadata": {},
          "output_type": "execute_result"
        }
      ],
      "source": [
        "df3"
      ]
    },
    {
      "cell_type": "code",
      "execution_count": null,
      "metadata": {
        "scrolled": true,
        "id": "P0D2rC4iZzl6",
        "outputId": "d86febde-1e77-460d-870a-33102d30176a"
      },
      "outputs": [
        {
          "data": {
            "text/html": [
              "<div>\n",
              "<style scoped>\n",
              "    .dataframe tbody tr th:only-of-type {\n",
              "        vertical-align: middle;\n",
              "    }\n",
              "\n",
              "    .dataframe tbody tr th {\n",
              "        vertical-align: top;\n",
              "    }\n",
              "\n",
              "    .dataframe thead th {\n",
              "        text-align: right;\n",
              "    }\n",
              "</style>\n",
              "<table border=\"1\" class=\"dataframe\">\n",
              "  <thead>\n",
              "    <tr style=\"text-align: right;\">\n",
              "      <th></th>\n",
              "      <th>first col</th>\n",
              "      <th>second col</th>\n",
              "      <th>third col</th>\n",
              "      <th>fourth col</th>\n",
              "      <th>fifth col</th>\n",
              "    </tr>\n",
              "  </thead>\n",
              "  <tbody>\n",
              "    <tr>\n",
              "      <th>first row</th>\n",
              "      <td>True</td>\n",
              "      <td>False</td>\n",
              "      <td>True</td>\n",
              "      <td>True</td>\n",
              "      <td>False</td>\n",
              "    </tr>\n",
              "    <tr>\n",
              "      <th>second row</th>\n",
              "      <td>False</td>\n",
              "      <td>True</td>\n",
              "      <td>True</td>\n",
              "      <td>False</td>\n",
              "      <td>False</td>\n",
              "    </tr>\n",
              "    <tr>\n",
              "      <th>third row</th>\n",
              "      <td>False</td>\n",
              "      <td>False</td>\n",
              "      <td>True</td>\n",
              "      <td>True</td>\n",
              "      <td>True</td>\n",
              "    </tr>\n",
              "    <tr>\n",
              "      <th>fourth row</th>\n",
              "      <td>True</td>\n",
              "      <td>True</td>\n",
              "      <td>False</td>\n",
              "      <td>True</td>\n",
              "      <td>False</td>\n",
              "    </tr>\n",
              "    <tr>\n",
              "      <th>fifth row</th>\n",
              "      <td>False</td>\n",
              "      <td>True</td>\n",
              "      <td>False</td>\n",
              "      <td>True</td>\n",
              "      <td>False</td>\n",
              "    </tr>\n",
              "  </tbody>\n",
              "</table>\n",
              "</div>"
            ],
            "text/plain": [
              "            first col  second col  third col  fourth col  fifth col\n",
              "first row        True       False       True        True      False\n",
              "second row      False        True       True       False      False\n",
              "third row       False       False       True        True       True\n",
              "fourth row       True        True      False        True      False\n",
              "fifth row       False        True      False        True      False"
            ]
          },
          "execution_count": 43,
          "metadata": {},
          "output_type": "execute_result"
        }
      ],
      "source": [
        "# we can use logical indexing for dataframes just like for numpy arrays\n",
        "df3>0"
      ]
    },
    {
      "cell_type": "code",
      "execution_count": null,
      "metadata": {
        "id": "W6u3LoexZzl6",
        "outputId": "b50392c8-1e92-4cb4-da49-ec0cef4ca38a"
      },
      "outputs": [
        {
          "data": {
            "text/html": [
              "<div>\n",
              "<style scoped>\n",
              "    .dataframe tbody tr th:only-of-type {\n",
              "        vertical-align: middle;\n",
              "    }\n",
              "\n",
              "    .dataframe tbody tr th {\n",
              "        vertical-align: top;\n",
              "    }\n",
              "\n",
              "    .dataframe thead th {\n",
              "        text-align: right;\n",
              "    }\n",
              "</style>\n",
              "<table border=\"1\" class=\"dataframe\">\n",
              "  <thead>\n",
              "    <tr style=\"text-align: right;\">\n",
              "      <th></th>\n",
              "      <th>first col</th>\n",
              "      <th>second col</th>\n",
              "      <th>third col</th>\n",
              "      <th>fourth col</th>\n",
              "      <th>fifth col</th>\n",
              "    </tr>\n",
              "  </thead>\n",
              "  <tbody>\n",
              "    <tr>\n",
              "      <th>first row</th>\n",
              "      <td>0.822893</td>\n",
              "      <td>NaN</td>\n",
              "      <td>0.418590</td>\n",
              "      <td>0.158221</td>\n",
              "      <td>NaN</td>\n",
              "    </tr>\n",
              "    <tr>\n",
              "      <th>second row</th>\n",
              "      <td>NaN</td>\n",
              "      <td>0.002065</td>\n",
              "      <td>1.858880</td>\n",
              "      <td>NaN</td>\n",
              "      <td>NaN</td>\n",
              "    </tr>\n",
              "    <tr>\n",
              "      <th>third row</th>\n",
              "      <td>NaN</td>\n",
              "      <td>NaN</td>\n",
              "      <td>0.380241</td>\n",
              "      <td>1.376465</td>\n",
              "      <td>0.184676</td>\n",
              "    </tr>\n",
              "    <tr>\n",
              "      <th>fourth row</th>\n",
              "      <td>1.131401</td>\n",
              "      <td>0.407221</td>\n",
              "      <td>NaN</td>\n",
              "      <td>0.328429</td>\n",
              "      <td>NaN</td>\n",
              "    </tr>\n",
              "    <tr>\n",
              "      <th>fifth row</th>\n",
              "      <td>NaN</td>\n",
              "      <td>0.408077</td>\n",
              "      <td>NaN</td>\n",
              "      <td>0.895058</td>\n",
              "      <td>NaN</td>\n",
              "    </tr>\n",
              "  </tbody>\n",
              "</table>\n",
              "</div>"
            ],
            "text/plain": [
              "            first col  second col  third col  fourth col  fifth col\n",
              "first row    0.822893         NaN   0.418590    0.158221        NaN\n",
              "second row        NaN    0.002065   1.858880         NaN        NaN\n",
              "third row         NaN         NaN   0.380241    1.376465   0.184676\n",
              "fourth row   1.131401    0.407221        NaN    0.328429        NaN\n",
              "fifth row         NaN    0.408077        NaN    0.895058        NaN"
            ]
          },
          "execution_count": 44,
          "metadata": {},
          "output_type": "execute_result"
        }
      ],
      "source": [
        "df3[(df3>0)]"
      ]
    },
    {
      "cell_type": "code",
      "execution_count": null,
      "metadata": {
        "id": "5bSQpXSMZzl6",
        "outputId": "acef1090-9ac9-4071-a858-7f3fb7eb864d"
      },
      "outputs": [
        {
          "data": {
            "text/html": [
              "<div>\n",
              "<style scoped>\n",
              "    .dataframe tbody tr th:only-of-type {\n",
              "        vertical-align: middle;\n",
              "    }\n",
              "\n",
              "    .dataframe tbody tr th {\n",
              "        vertical-align: top;\n",
              "    }\n",
              "\n",
              "    .dataframe thead th {\n",
              "        text-align: right;\n",
              "    }\n",
              "</style>\n",
              "<table border=\"1\" class=\"dataframe\">\n",
              "  <thead>\n",
              "    <tr style=\"text-align: right;\">\n",
              "      <th></th>\n",
              "      <th>first col</th>\n",
              "      <th>second col</th>\n",
              "      <th>third col</th>\n",
              "      <th>fourth col</th>\n",
              "      <th>fifth col</th>\n",
              "      <th>abc</th>\n",
              "    </tr>\n",
              "  </thead>\n",
              "  <tbody>\n",
              "    <tr>\n",
              "      <th>first row</th>\n",
              "      <td>0.822893</td>\n",
              "      <td>-1.423711</td>\n",
              "      <td>0.418590</td>\n",
              "      <td>0.158221</td>\n",
              "      <td>-0.463175</td>\n",
              "      <td>Yet</td>\n",
              "    </tr>\n",
              "    <tr>\n",
              "      <th>second row</th>\n",
              "      <td>-0.152790</td>\n",
              "      <td>0.002065</td>\n",
              "      <td>1.858880</td>\n",
              "      <td>-0.636972</td>\n",
              "      <td>-0.738839</td>\n",
              "      <td>another</td>\n",
              "    </tr>\n",
              "    <tr>\n",
              "      <th>third row</th>\n",
              "      <td>-0.193864</td>\n",
              "      <td>-1.179945</td>\n",
              "      <td>0.380241</td>\n",
              "      <td>1.376465</td>\n",
              "      <td>0.184676</td>\n",
              "      <td>new</td>\n",
              "    </tr>\n",
              "    <tr>\n",
              "      <th>fourth row</th>\n",
              "      <td>1.131401</td>\n",
              "      <td>0.407221</td>\n",
              "      <td>-2.539193</td>\n",
              "      <td>0.328429</td>\n",
              "      <td>-0.027129</td>\n",
              "      <td>col</td>\n",
              "    </tr>\n",
              "    <tr>\n",
              "      <th>fifth row</th>\n",
              "      <td>-0.790992</td>\n",
              "      <td>0.408077</td>\n",
              "      <td>-0.746851</td>\n",
              "      <td>0.895058</td>\n",
              "      <td>-0.923893</td>\n",
              "      <td>NaN</td>\n",
              "    </tr>\n",
              "  </tbody>\n",
              "</table>\n",
              "</div>"
            ],
            "text/plain": [
              "            first col  second col  third col  fourth col  fifth col      abc\n",
              "first row    0.822893   -1.423711   0.418590    0.158221  -0.463175      Yet\n",
              "second row  -0.152790    0.002065   1.858880   -0.636972  -0.738839  another\n",
              "third row   -0.193864   -1.179945   0.380241    1.376465   0.184676      new\n",
              "fourth row   1.131401    0.407221  -2.539193    0.328429  -0.027129      col\n",
              "fifth row   -0.790992    0.408077  -0.746851    0.895058  -0.923893      NaN"
            ]
          },
          "execution_count": 45,
          "metadata": {},
          "output_type": "execute_result"
        }
      ],
      "source": [
        "# df3['sixth col']=['This','is','a','new','col']\n",
        "df3['abc']=['Yet','another','new','col',np.NaN]\n",
        "df3"
      ]
    },
    {
      "cell_type": "code",
      "execution_count": null,
      "metadata": {
        "id": "Aa_unuvCZzl6",
        "outputId": "e5034924-a560-4f46-e4f1-f353f5a5bb95"
      },
      "outputs": [
        {
          "data": {
            "text/html": [
              "<div>\n",
              "<style scoped>\n",
              "    .dataframe tbody tr th:only-of-type {\n",
              "        vertical-align: middle;\n",
              "    }\n",
              "\n",
              "    .dataframe tbody tr th {\n",
              "        vertical-align: top;\n",
              "    }\n",
              "\n",
              "    .dataframe thead th {\n",
              "        text-align: right;\n",
              "    }\n",
              "</style>\n",
              "<table border=\"1\" class=\"dataframe\">\n",
              "  <thead>\n",
              "    <tr style=\"text-align: right;\">\n",
              "      <th></th>\n",
              "      <th>first col</th>\n",
              "      <th>second col</th>\n",
              "      <th>third col</th>\n",
              "      <th>fourth col</th>\n",
              "      <th>fifth col</th>\n",
              "      <th>abc</th>\n",
              "      <th>sixth col</th>\n",
              "    </tr>\n",
              "  </thead>\n",
              "  <tbody>\n",
              "    <tr>\n",
              "      <th>first row</th>\n",
              "      <td>0.822893</td>\n",
              "      <td>-1.423711</td>\n",
              "      <td>0.418590</td>\n",
              "      <td>0.158221</td>\n",
              "      <td>-0.463175</td>\n",
              "      <td>Yet</td>\n",
              "      <td>-1.440577</td>\n",
              "    </tr>\n",
              "    <tr>\n",
              "      <th>second row</th>\n",
              "      <td>-0.152790</td>\n",
              "      <td>0.002065</td>\n",
              "      <td>1.858880</td>\n",
              "      <td>-0.636972</td>\n",
              "      <td>-0.738839</td>\n",
              "      <td>another</td>\n",
              "      <td>0.281420</td>\n",
              "    </tr>\n",
              "    <tr>\n",
              "      <th>third row</th>\n",
              "      <td>-0.193864</td>\n",
              "      <td>-1.179945</td>\n",
              "      <td>0.380241</td>\n",
              "      <td>1.376465</td>\n",
              "      <td>0.184676</td>\n",
              "      <td>new</td>\n",
              "      <td>-0.024457</td>\n",
              "    </tr>\n",
              "    <tr>\n",
              "      <th>fourth row</th>\n",
              "      <td>1.131401</td>\n",
              "      <td>0.407221</td>\n",
              "      <td>-2.539193</td>\n",
              "      <td>0.328429</td>\n",
              "      <td>-0.027129</td>\n",
              "      <td>col</td>\n",
              "      <td>0.873589</td>\n",
              "    </tr>\n",
              "    <tr>\n",
              "      <th>fifth row</th>\n",
              "      <td>-0.790992</td>\n",
              "      <td>0.408077</td>\n",
              "      <td>-0.746851</td>\n",
              "      <td>0.895058</td>\n",
              "      <td>-0.923893</td>\n",
              "      <td>NaN</td>\n",
              "      <td>-0.268849</td>\n",
              "    </tr>\n",
              "  </tbody>\n",
              "</table>\n",
              "</div>"
            ],
            "text/plain": [
              "            first col  second col  third col  fourth col  fifth col      abc  \\\n",
              "first row    0.822893   -1.423711   0.418590    0.158221  -0.463175      Yet   \n",
              "second row  -0.152790    0.002065   1.858880   -0.636972  -0.738839  another   \n",
              "third row   -0.193864   -1.179945   0.380241    1.376465   0.184676      new   \n",
              "fourth row   1.131401    0.407221  -2.539193    0.328429  -0.027129      col   \n",
              "fifth row   -0.790992    0.408077  -0.746851    0.895058  -0.923893      NaN   \n",
              "\n",
              "            sixth col  \n",
              "first row   -1.440577  \n",
              "second row   0.281420  \n",
              "third row   -0.024457  \n",
              "fourth row   0.873589  \n",
              "fifth row   -0.268849  "
            ]
          },
          "execution_count": 46,
          "metadata": {},
          "output_type": "execute_result"
        }
      ],
      "source": [
        "# we can add columns to a dataframe\n",
        "df3['sixth col'] = np.random.randn(5,1)\n",
        "df3"
      ]
    },
    {
      "cell_type": "code",
      "execution_count": null,
      "metadata": {
        "id": "KSwWvty-Zzl6"
      },
      "outputs": [],
      "source": [
        "# we can remove columns or rows from a dataframe\n",
        "# Method 1\n",
        "df3=df3.drop('third col',axis=1)"
      ]
    },
    {
      "cell_type": "code",
      "execution_count": null,
      "metadata": {
        "id": "VMb0R6GtZzl6"
      },
      "outputs": [],
      "source": [
        "# Method 2\n",
        "df3.drop('abc',axis=1,inplace=True)"
      ]
    },
    {
      "cell_type": "code",
      "execution_count": null,
      "metadata": {
        "id": "0nv7c6WaZzl7",
        "outputId": "66a07a8c-7753-4882-d48f-6a01d718671b"
      },
      "outputs": [
        {
          "data": {
            "text/html": [
              "<div>\n",
              "<style scoped>\n",
              "    .dataframe tbody tr th:only-of-type {\n",
              "        vertical-align: middle;\n",
              "    }\n",
              "\n",
              "    .dataframe tbody tr th {\n",
              "        vertical-align: top;\n",
              "    }\n",
              "\n",
              "    .dataframe thead th {\n",
              "        text-align: right;\n",
              "    }\n",
              "</style>\n",
              "<table border=\"1\" class=\"dataframe\">\n",
              "  <thead>\n",
              "    <tr style=\"text-align: right;\">\n",
              "      <th></th>\n",
              "      <th>first col</th>\n",
              "      <th>second col</th>\n",
              "      <th>fourth col</th>\n",
              "      <th>fifth col</th>\n",
              "      <th>sixth col</th>\n",
              "    </tr>\n",
              "  </thead>\n",
              "  <tbody>\n",
              "    <tr>\n",
              "      <th>first row</th>\n",
              "      <td>0.822893</td>\n",
              "      <td>-1.423711</td>\n",
              "      <td>0.158221</td>\n",
              "      <td>-0.463175</td>\n",
              "      <td>-1.440577</td>\n",
              "    </tr>\n",
              "    <tr>\n",
              "      <th>second row</th>\n",
              "      <td>-0.152790</td>\n",
              "      <td>0.002065</td>\n",
              "      <td>-0.636972</td>\n",
              "      <td>-0.738839</td>\n",
              "      <td>0.281420</td>\n",
              "    </tr>\n",
              "    <tr>\n",
              "      <th>third row</th>\n",
              "      <td>-0.193864</td>\n",
              "      <td>-1.179945</td>\n",
              "      <td>1.376465</td>\n",
              "      <td>0.184676</td>\n",
              "      <td>-0.024457</td>\n",
              "    </tr>\n",
              "    <tr>\n",
              "      <th>fourth row</th>\n",
              "      <td>1.131401</td>\n",
              "      <td>0.407221</td>\n",
              "      <td>0.328429</td>\n",
              "      <td>-0.027129</td>\n",
              "      <td>0.873589</td>\n",
              "    </tr>\n",
              "    <tr>\n",
              "      <th>fifth row</th>\n",
              "      <td>-0.790992</td>\n",
              "      <td>0.408077</td>\n",
              "      <td>0.895058</td>\n",
              "      <td>-0.923893</td>\n",
              "      <td>-0.268849</td>\n",
              "    </tr>\n",
              "  </tbody>\n",
              "</table>\n",
              "</div>"
            ],
            "text/plain": [
              "            first col  second col  fourth col  fifth col  sixth col\n",
              "first row    0.822893   -1.423711    0.158221  -0.463175  -1.440577\n",
              "second row  -0.152790    0.002065   -0.636972  -0.738839   0.281420\n",
              "third row   -0.193864   -1.179945    1.376465   0.184676  -0.024457\n",
              "fourth row   1.131401    0.407221    0.328429  -0.027129   0.873589\n",
              "fifth row   -0.790992    0.408077    0.895058  -0.923893  -0.268849"
            ]
          },
          "execution_count": 49,
          "metadata": {},
          "output_type": "execute_result"
        }
      ],
      "source": [
        "df3"
      ]
    },
    {
      "cell_type": "code",
      "execution_count": null,
      "metadata": {
        "id": "0Jdq9SUbZzl7",
        "outputId": "b05ca486-d7b3-4265-e359-8c69e037274d"
      },
      "outputs": [
        {
          "data": {
            "text/html": [
              "<div>\n",
              "<style scoped>\n",
              "    .dataframe tbody tr th:only-of-type {\n",
              "        vertical-align: middle;\n",
              "    }\n",
              "\n",
              "    .dataframe tbody tr th {\n",
              "        vertical-align: top;\n",
              "    }\n",
              "\n",
              "    .dataframe thead th {\n",
              "        text-align: right;\n",
              "    }\n",
              "</style>\n",
              "<table border=\"1\" class=\"dataframe\">\n",
              "  <thead>\n",
              "    <tr style=\"text-align: right;\">\n",
              "      <th></th>\n",
              "      <th>first col</th>\n",
              "      <th>fourth col</th>\n",
              "      <th>fifth col</th>\n",
              "      <th>sixth col</th>\n",
              "    </tr>\n",
              "  </thead>\n",
              "  <tbody>\n",
              "    <tr>\n",
              "      <th>first row</th>\n",
              "      <td>0.822893</td>\n",
              "      <td>0.158221</td>\n",
              "      <td>-0.463175</td>\n",
              "      <td>-1.440577</td>\n",
              "    </tr>\n",
              "    <tr>\n",
              "      <th>second row</th>\n",
              "      <td>-0.152790</td>\n",
              "      <td>-0.636972</td>\n",
              "      <td>-0.738839</td>\n",
              "      <td>0.281420</td>\n",
              "    </tr>\n",
              "    <tr>\n",
              "      <th>third row</th>\n",
              "      <td>-0.193864</td>\n",
              "      <td>1.376465</td>\n",
              "      <td>0.184676</td>\n",
              "      <td>-0.024457</td>\n",
              "    </tr>\n",
              "    <tr>\n",
              "      <th>fourth row</th>\n",
              "      <td>1.131401</td>\n",
              "      <td>0.328429</td>\n",
              "      <td>-0.027129</td>\n",
              "      <td>0.873589</td>\n",
              "    </tr>\n",
              "    <tr>\n",
              "      <th>fifth row</th>\n",
              "      <td>-0.790992</td>\n",
              "      <td>0.895058</td>\n",
              "      <td>-0.923893</td>\n",
              "      <td>-0.268849</td>\n",
              "    </tr>\n",
              "  </tbody>\n",
              "</table>\n",
              "</div>"
            ],
            "text/plain": [
              "            first col  fourth col  fifth col  sixth col\n",
              "first row    0.822893    0.158221  -0.463175  -1.440577\n",
              "second row  -0.152790   -0.636972  -0.738839   0.281420\n",
              "third row   -0.193864    1.376465   0.184676  -0.024457\n",
              "fourth row   1.131401    0.328429  -0.027129   0.873589\n",
              "fifth row   -0.790992    0.895058  -0.923893  -0.268849"
            ]
          },
          "execution_count": 50,
          "metadata": {},
          "output_type": "execute_result"
        }
      ],
      "source": [
        "df3.drop('second col',axis=1)"
      ]
    },
    {
      "cell_type": "code",
      "execution_count": null,
      "metadata": {
        "id": "v1BT117oZzl7",
        "outputId": "88be1544-2e7c-4831-affe-b46542a8bec5"
      },
      "outputs": [
        {
          "data": {
            "text/html": [
              "<div>\n",
              "<style scoped>\n",
              "    .dataframe tbody tr th:only-of-type {\n",
              "        vertical-align: middle;\n",
              "    }\n",
              "\n",
              "    .dataframe tbody tr th {\n",
              "        vertical-align: top;\n",
              "    }\n",
              "\n",
              "    .dataframe thead th {\n",
              "        text-align: right;\n",
              "    }\n",
              "</style>\n",
              "<table border=\"1\" class=\"dataframe\">\n",
              "  <thead>\n",
              "    <tr style=\"text-align: right;\">\n",
              "      <th></th>\n",
              "      <th>first col</th>\n",
              "      <th>second col</th>\n",
              "      <th>fourth col</th>\n",
              "      <th>fifth col</th>\n",
              "      <th>sixth col</th>\n",
              "    </tr>\n",
              "  </thead>\n",
              "  <tbody>\n",
              "    <tr>\n",
              "      <th>first row</th>\n",
              "      <td>0.822893</td>\n",
              "      <td>-1.423711</td>\n",
              "      <td>0.158221</td>\n",
              "      <td>-0.463175</td>\n",
              "      <td>-1.440577</td>\n",
              "    </tr>\n",
              "    <tr>\n",
              "      <th>second row</th>\n",
              "      <td>-0.152790</td>\n",
              "      <td>0.002065</td>\n",
              "      <td>-0.636972</td>\n",
              "      <td>-0.738839</td>\n",
              "      <td>0.281420</td>\n",
              "    </tr>\n",
              "    <tr>\n",
              "      <th>third row</th>\n",
              "      <td>-0.193864</td>\n",
              "      <td>-1.179945</td>\n",
              "      <td>1.376465</td>\n",
              "      <td>0.184676</td>\n",
              "      <td>-0.024457</td>\n",
              "    </tr>\n",
              "    <tr>\n",
              "      <th>fourth row</th>\n",
              "      <td>1.131401</td>\n",
              "      <td>0.407221</td>\n",
              "      <td>0.328429</td>\n",
              "      <td>-0.027129</td>\n",
              "      <td>0.873589</td>\n",
              "    </tr>\n",
              "    <tr>\n",
              "      <th>fifth row</th>\n",
              "      <td>-0.790992</td>\n",
              "      <td>0.408077</td>\n",
              "      <td>0.895058</td>\n",
              "      <td>-0.923893</td>\n",
              "      <td>-0.268849</td>\n",
              "    </tr>\n",
              "  </tbody>\n",
              "</table>\n",
              "</div>"
            ],
            "text/plain": [
              "            first col  second col  fourth col  fifth col  sixth col\n",
              "first row    0.822893   -1.423711    0.158221  -0.463175  -1.440577\n",
              "second row  -0.152790    0.002065   -0.636972  -0.738839   0.281420\n",
              "third row   -0.193864   -1.179945    1.376465   0.184676  -0.024457\n",
              "fourth row   1.131401    0.407221    0.328429  -0.027129   0.873589\n",
              "fifth row   -0.790992    0.408077    0.895058  -0.923893  -0.268849"
            ]
          },
          "execution_count": 51,
          "metadata": {},
          "output_type": "execute_result"
        }
      ],
      "source": [
        "df3"
      ]
    },
    {
      "cell_type": "code",
      "execution_count": null,
      "metadata": {
        "jupyter": {
          "outputs_hidden": true
        },
        "id": "1-AuqAYNZzl7",
        "outputId": "61547827-951b-4b4a-ea3f-203c8057f1a6"
      },
      "outputs": [
        {
          "data": {
            "text/html": [
              "<div>\n",
              "<style scoped>\n",
              "    .dataframe tbody tr th:only-of-type {\n",
              "        vertical-align: middle;\n",
              "    }\n",
              "\n",
              "    .dataframe tbody tr th {\n",
              "        vertical-align: top;\n",
              "    }\n",
              "\n",
              "    .dataframe thead th {\n",
              "        text-align: right;\n",
              "    }\n",
              "</style>\n",
              "<table border=\"1\" class=\"dataframe\">\n",
              "  <thead>\n",
              "    <tr style=\"text-align: right;\">\n",
              "      <th></th>\n",
              "      <th>first col</th>\n",
              "      <th>fourth col</th>\n",
              "      <th>fifth col</th>\n",
              "      <th>sixth col</th>\n",
              "    </tr>\n",
              "  </thead>\n",
              "  <tbody>\n",
              "    <tr>\n",
              "      <th>first row</th>\n",
              "      <td>0.822893</td>\n",
              "      <td>0.158221</td>\n",
              "      <td>-0.463175</td>\n",
              "      <td>-1.440577</td>\n",
              "    </tr>\n",
              "    <tr>\n",
              "      <th>second row</th>\n",
              "      <td>-0.152790</td>\n",
              "      <td>-0.636972</td>\n",
              "      <td>-0.738839</td>\n",
              "      <td>0.281420</td>\n",
              "    </tr>\n",
              "    <tr>\n",
              "      <th>third row</th>\n",
              "      <td>-0.193864</td>\n",
              "      <td>1.376465</td>\n",
              "      <td>0.184676</td>\n",
              "      <td>-0.024457</td>\n",
              "    </tr>\n",
              "    <tr>\n",
              "      <th>fourth row</th>\n",
              "      <td>1.131401</td>\n",
              "      <td>0.328429</td>\n",
              "      <td>-0.027129</td>\n",
              "      <td>0.873589</td>\n",
              "    </tr>\n",
              "    <tr>\n",
              "      <th>fifth row</th>\n",
              "      <td>-0.790992</td>\n",
              "      <td>0.895058</td>\n",
              "      <td>-0.923893</td>\n",
              "      <td>-0.268849</td>\n",
              "    </tr>\n",
              "  </tbody>\n",
              "</table>\n",
              "</div>"
            ],
            "text/plain": [
              "            first col  fourth col  fifth col  sixth col\n",
              "first row    0.822893    0.158221  -0.463175  -1.440577\n",
              "second row  -0.152790   -0.636972  -0.738839   0.281420\n",
              "third row   -0.193864    1.376465   0.184676  -0.024457\n",
              "fourth row   1.131401    0.328429  -0.027129   0.873589\n",
              "fifth row   -0.790992    0.895058  -0.923893  -0.268849"
            ]
          },
          "execution_count": 52,
          "metadata": {},
          "output_type": "execute_result"
        }
      ],
      "source": [
        "df4 = df3.drop(['second col'],axis=1)\n",
        "df4"
      ]
    },
    {
      "cell_type": "code",
      "execution_count": null,
      "metadata": {
        "scrolled": true,
        "id": "RcRfoXmkZzl7",
        "outputId": "668eabf2-f079-4b0d-c0e6-5de23d1720d1"
      },
      "outputs": [
        {
          "data": {
            "text/html": [
              "<div>\n",
              "<style scoped>\n",
              "    .dataframe tbody tr th:only-of-type {\n",
              "        vertical-align: middle;\n",
              "    }\n",
              "\n",
              "    .dataframe tbody tr th {\n",
              "        vertical-align: top;\n",
              "    }\n",
              "\n",
              "    .dataframe thead th {\n",
              "        text-align: right;\n",
              "    }\n",
              "</style>\n",
              "<table border=\"1\" class=\"dataframe\">\n",
              "  <thead>\n",
              "    <tr style=\"text-align: right;\">\n",
              "      <th></th>\n",
              "      <th>first col</th>\n",
              "      <th>second col</th>\n",
              "      <th>fourth col</th>\n",
              "      <th>fifth col</th>\n",
              "      <th>sixth col</th>\n",
              "    </tr>\n",
              "  </thead>\n",
              "  <tbody>\n",
              "    <tr>\n",
              "      <th>first row</th>\n",
              "      <td>0.822893</td>\n",
              "      <td>-1.423711</td>\n",
              "      <td>0.158221</td>\n",
              "      <td>-0.463175</td>\n",
              "      <td>-1.440577</td>\n",
              "    </tr>\n",
              "    <tr>\n",
              "      <th>third row</th>\n",
              "      <td>-0.193864</td>\n",
              "      <td>-1.179945</td>\n",
              "      <td>1.376465</td>\n",
              "      <td>0.184676</td>\n",
              "      <td>-0.024457</td>\n",
              "    </tr>\n",
              "    <tr>\n",
              "      <th>fourth row</th>\n",
              "      <td>1.131401</td>\n",
              "      <td>0.407221</td>\n",
              "      <td>0.328429</td>\n",
              "      <td>-0.027129</td>\n",
              "      <td>0.873589</td>\n",
              "    </tr>\n",
              "    <tr>\n",
              "      <th>fifth row</th>\n",
              "      <td>-0.790992</td>\n",
              "      <td>0.408077</td>\n",
              "      <td>0.895058</td>\n",
              "      <td>-0.923893</td>\n",
              "      <td>-0.268849</td>\n",
              "    </tr>\n",
              "  </tbody>\n",
              "</table>\n",
              "</div>"
            ],
            "text/plain": [
              "            first col  second col  fourth col  fifth col  sixth col\n",
              "first row    0.822893   -1.423711    0.158221  -0.463175  -1.440577\n",
              "third row   -0.193864   -1.179945    1.376465   0.184676  -0.024457\n",
              "fourth row   1.131401    0.407221    0.328429  -0.027129   0.873589\n",
              "fifth row   -0.790992    0.408077    0.895058  -0.923893  -0.268849"
            ]
          },
          "execution_count": 53,
          "metadata": {},
          "output_type": "execute_result"
        }
      ],
      "source": [
        "df5 = df3.drop('second row',axis=0)\n",
        "df5"
      ]
    },
    {
      "cell_type": "code",
      "execution_count": null,
      "metadata": {
        "scrolled": true,
        "id": "pdhMIcUnZzl7",
        "outputId": "c40a6e1d-7bd7-4b47-e923-3d75acb7a840"
      },
      "outputs": [
        {
          "data": {
            "text/html": [
              "<div>\n",
              "<style scoped>\n",
              "    .dataframe tbody tr th:only-of-type {\n",
              "        vertical-align: middle;\n",
              "    }\n",
              "\n",
              "    .dataframe tbody tr th {\n",
              "        vertical-align: top;\n",
              "    }\n",
              "\n",
              "    .dataframe thead th {\n",
              "        text-align: right;\n",
              "    }\n",
              "</style>\n",
              "<table border=\"1\" class=\"dataframe\">\n",
              "  <thead>\n",
              "    <tr style=\"text-align: right;\">\n",
              "      <th></th>\n",
              "      <th>first col</th>\n",
              "      <th>second col</th>\n",
              "      <th>fourth col</th>\n",
              "      <th>fifth col</th>\n",
              "      <th>sixth col</th>\n",
              "    </tr>\n",
              "  </thead>\n",
              "  <tbody>\n",
              "    <tr>\n",
              "      <th>first row</th>\n",
              "      <td>0.822893</td>\n",
              "      <td>-1.423711</td>\n",
              "      <td>0.158221</td>\n",
              "      <td>-0.463175</td>\n",
              "      <td>-1.440577</td>\n",
              "    </tr>\n",
              "    <tr>\n",
              "      <th>third row</th>\n",
              "      <td>-0.193864</td>\n",
              "      <td>-1.179945</td>\n",
              "      <td>1.376465</td>\n",
              "      <td>0.184676</td>\n",
              "      <td>-0.024457</td>\n",
              "    </tr>\n",
              "    <tr>\n",
              "      <th>fourth row</th>\n",
              "      <td>1.131401</td>\n",
              "      <td>0.407221</td>\n",
              "      <td>0.328429</td>\n",
              "      <td>-0.027129</td>\n",
              "      <td>0.873589</td>\n",
              "    </tr>\n",
              "    <tr>\n",
              "      <th>fifth row</th>\n",
              "      <td>-0.790992</td>\n",
              "      <td>0.408077</td>\n",
              "      <td>0.895058</td>\n",
              "      <td>-0.923893</td>\n",
              "      <td>-0.268849</td>\n",
              "    </tr>\n",
              "  </tbody>\n",
              "</table>\n",
              "</div>"
            ],
            "text/plain": [
              "            first col  second col  fourth col  fifth col  sixth col\n",
              "first row    0.822893   -1.423711    0.158221  -0.463175  -1.440577\n",
              "third row   -0.193864   -1.179945    1.376465   0.184676  -0.024457\n",
              "fourth row   1.131401    0.407221    0.328429  -0.027129   0.873589\n",
              "fifth row   -0.790992    0.408077    0.895058  -0.923893  -0.268849"
            ]
          },
          "execution_count": 54,
          "metadata": {},
          "output_type": "execute_result"
        }
      ],
      "source": [
        "df3=df3.drop('second row',axis=0)\n",
        "df3"
      ]
    },
    {
      "cell_type": "code",
      "execution_count": null,
      "metadata": {
        "scrolled": true,
        "id": "qoDl3HhxZzl8",
        "outputId": "f380f0aa-1533-4b1e-d386-05d074f5f283"
      },
      "outputs": [
        {
          "data": {
            "text/html": [
              "<div>\n",
              "<style scoped>\n",
              "    .dataframe tbody tr th:only-of-type {\n",
              "        vertical-align: middle;\n",
              "    }\n",
              "\n",
              "    .dataframe tbody tr th {\n",
              "        vertical-align: top;\n",
              "    }\n",
              "\n",
              "    .dataframe thead th {\n",
              "        text-align: right;\n",
              "    }\n",
              "</style>\n",
              "<table border=\"1\" class=\"dataframe\">\n",
              "  <thead>\n",
              "    <tr style=\"text-align: right;\">\n",
              "      <th></th>\n",
              "      <th>first col</th>\n",
              "      <th>second col</th>\n",
              "      <th>fourth col</th>\n",
              "      <th>fifth col</th>\n",
              "      <th>sixth col</th>\n",
              "    </tr>\n",
              "  </thead>\n",
              "  <tbody>\n",
              "    <tr>\n",
              "      <th>first row</th>\n",
              "      <td>0.822893</td>\n",
              "      <td>-1.423711</td>\n",
              "      <td>0.158221</td>\n",
              "      <td>-0.463175</td>\n",
              "      <td>-1.440577</td>\n",
              "    </tr>\n",
              "    <tr>\n",
              "      <th>third row</th>\n",
              "      <td>-0.193864</td>\n",
              "      <td>-1.179945</td>\n",
              "      <td>1.376465</td>\n",
              "      <td>0.184676</td>\n",
              "      <td>-0.024457</td>\n",
              "    </tr>\n",
              "    <tr>\n",
              "      <th>fourth row</th>\n",
              "      <td>1.131401</td>\n",
              "      <td>0.407221</td>\n",
              "      <td>0.328429</td>\n",
              "      <td>-0.027129</td>\n",
              "      <td>0.873589</td>\n",
              "    </tr>\n",
              "  </tbody>\n",
              "</table>\n",
              "</div>"
            ],
            "text/plain": [
              "            first col  second col  fourth col  fifth col  sixth col\n",
              "first row    0.822893   -1.423711    0.158221  -0.463175  -1.440577\n",
              "third row   -0.193864   -1.179945    1.376465   0.184676  -0.024457\n",
              "fourth row   1.131401    0.407221    0.328429  -0.027129   0.873589"
            ]
          },
          "execution_count": 55,
          "metadata": {},
          "output_type": "execute_result"
        }
      ],
      "source": [
        "df3.drop('fifth row',axis=0,inplace=True)\n",
        "df3"
      ]
    },
    {
      "cell_type": "code",
      "execution_count": null,
      "metadata": {
        "id": "K9DirgnoZzl8"
      },
      "outputs": [],
      "source": [
        "# Pandas - Series, DataFrame\n"
      ]
    },
    {
      "cell_type": "code",
      "execution_count": null,
      "metadata": {
        "id": "_ttdILzFZzl8"
      },
      "outputs": [],
      "source": [
        "s=pd.Series([1,2,3,4],index=['a','b','c','d'])"
      ]
    },
    {
      "cell_type": "code",
      "execution_count": null,
      "metadata": {
        "id": "EmTYt33BZzl8",
        "outputId": "44780d70-e5e6-4af6-bed2-f5990fa580a9"
      },
      "outputs": [
        {
          "data": {
            "text/plain": [
              "b    2\n",
              "c    3\n",
              "dtype: int64"
            ]
          },
          "execution_count": 60,
          "metadata": {},
          "output_type": "execute_result"
        }
      ],
      "source": [
        "s[1:3]"
      ]
    },
    {
      "cell_type": "code",
      "execution_count": null,
      "metadata": {
        "id": "ilSKFN9uZzl8",
        "outputId": "b66b35cb-18fc-4f0b-8799-093dbda3fdd4"
      },
      "outputs": [
        {
          "data": {
            "text/html": [
              "<div>\n",
              "<style scoped>\n",
              "    .dataframe tbody tr th:only-of-type {\n",
              "        vertical-align: middle;\n",
              "    }\n",
              "\n",
              "    .dataframe tbody tr th {\n",
              "        vertical-align: top;\n",
              "    }\n",
              "\n",
              "    .dataframe thead th {\n",
              "        text-align: right;\n",
              "    }\n",
              "</style>\n",
              "<table border=\"1\" class=\"dataframe\">\n",
              "  <thead>\n",
              "    <tr style=\"text-align: right;\">\n",
              "      <th></th>\n",
              "      <th>second col</th>\n",
              "      <th>fourth col</th>\n",
              "    </tr>\n",
              "  </thead>\n",
              "  <tbody>\n",
              "    <tr>\n",
              "      <th>third row</th>\n",
              "      <td>-1.179945</td>\n",
              "      <td>1.376465</td>\n",
              "    </tr>\n",
              "    <tr>\n",
              "      <th>fourth row</th>\n",
              "      <td>0.407221</td>\n",
              "      <td>0.328429</td>\n",
              "    </tr>\n",
              "  </tbody>\n",
              "</table>\n",
              "</div>"
            ],
            "text/plain": [
              "            second col  fourth col\n",
              "third row    -1.179945    1.376465\n",
              "fourth row    0.407221    0.328429"
            ]
          },
          "execution_count": 69,
          "metadata": {},
          "output_type": "execute_result"
        }
      ],
      "source": [
        "df5.iloc[1:3,1:3]"
      ]
    },
    {
      "cell_type": "code",
      "execution_count": null,
      "metadata": {
        "id": "OgNU6bURZzl8",
        "outputId": "ca6cf4ca-6a37-407f-8d86-00a24d418aa7"
      },
      "outputs": [
        {
          "data": {
            "text/html": [
              "<div>\n",
              "<style scoped>\n",
              "    .dataframe tbody tr th:only-of-type {\n",
              "        vertical-align: middle;\n",
              "    }\n",
              "\n",
              "    .dataframe tbody tr th {\n",
              "        vertical-align: top;\n",
              "    }\n",
              "\n",
              "    .dataframe thead th {\n",
              "        text-align: right;\n",
              "    }\n",
              "</style>\n",
              "<table border=\"1\" class=\"dataframe\">\n",
              "  <thead>\n",
              "    <tr style=\"text-align: right;\">\n",
              "      <th></th>\n",
              "      <th>first col</th>\n",
              "      <th>second col</th>\n",
              "      <th>fourth col</th>\n",
              "      <th>fifth col</th>\n",
              "      <th>sixth col</th>\n",
              "    </tr>\n",
              "  </thead>\n",
              "  <tbody>\n",
              "    <tr>\n",
              "      <th>first row</th>\n",
              "      <td>0.822893</td>\n",
              "      <td>-1.423711</td>\n",
              "      <td>0.158221</td>\n",
              "      <td>-0.463175</td>\n",
              "      <td>-1.440577</td>\n",
              "    </tr>\n",
              "    <tr>\n",
              "      <th>third row</th>\n",
              "      <td>-0.193864</td>\n",
              "      <td>-1.179945</td>\n",
              "      <td>1.376465</td>\n",
              "      <td>0.184676</td>\n",
              "      <td>-0.024457</td>\n",
              "    </tr>\n",
              "    <tr>\n",
              "      <th>fourth row</th>\n",
              "      <td>1.131401</td>\n",
              "      <td>0.407221</td>\n",
              "      <td>0.328429</td>\n",
              "      <td>-0.027129</td>\n",
              "      <td>0.873589</td>\n",
              "    </tr>\n",
              "    <tr>\n",
              "      <th>fifth row</th>\n",
              "      <td>-0.790992</td>\n",
              "      <td>0.408077</td>\n",
              "      <td>0.895058</td>\n",
              "      <td>-0.923893</td>\n",
              "      <td>-0.268849</td>\n",
              "    </tr>\n",
              "  </tbody>\n",
              "</table>\n",
              "</div>"
            ],
            "text/plain": [
              "            first col  second col  fourth col  fifth col  sixth col\n",
              "first row    0.822893   -1.423711    0.158221  -0.463175  -1.440577\n",
              "third row   -0.193864   -1.179945    1.376465   0.184676  -0.024457\n",
              "fourth row   1.131401    0.407221    0.328429  -0.027129   0.873589\n",
              "fifth row   -0.790992    0.408077    0.895058  -0.923893  -0.268849"
            ]
          },
          "execution_count": 72,
          "metadata": {},
          "output_type": "execute_result"
        }
      ],
      "source": [
        "df5"
      ]
    },
    {
      "cell_type": "code",
      "execution_count": null,
      "metadata": {
        "scrolled": true,
        "id": "Zppm3O2LZzl8",
        "outputId": "eb3327a0-4b9f-4799-affb-7d696b635876"
      },
      "outputs": [
        {
          "data": {
            "text/html": [
              "<div>\n",
              "<style scoped>\n",
              "    .dataframe tbody tr th:only-of-type {\n",
              "        vertical-align: middle;\n",
              "    }\n",
              "\n",
              "    .dataframe tbody tr th {\n",
              "        vertical-align: top;\n",
              "    }\n",
              "\n",
              "    .dataframe thead th {\n",
              "        text-align: right;\n",
              "    }\n",
              "</style>\n",
              "<table border=\"1\" class=\"dataframe\">\n",
              "  <thead>\n",
              "    <tr style=\"text-align: right;\">\n",
              "      <th></th>\n",
              "      <th>first col</th>\n",
              "      <th>fourth col</th>\n",
              "    </tr>\n",
              "  </thead>\n",
              "  <tbody>\n",
              "    <tr>\n",
              "      <th>fifth row</th>\n",
              "      <td>-0.790992</td>\n",
              "      <td>0.895058</td>\n",
              "    </tr>\n",
              "    <tr>\n",
              "      <th>fourth row</th>\n",
              "      <td>1.131401</td>\n",
              "      <td>0.328429</td>\n",
              "    </tr>\n",
              "  </tbody>\n",
              "</table>\n",
              "</div>"
            ],
            "text/plain": [
              "            first col  fourth col\n",
              "fifth row   -0.790992    0.895058\n",
              "fourth row   1.131401    0.328429"
            ]
          },
          "execution_count": 74,
          "metadata": {},
          "output_type": "execute_result"
        }
      ],
      "source": [
        "df5.loc[['fifth row','fourth row'],['first col','fourth col']]"
      ]
    },
    {
      "cell_type": "code",
      "execution_count": null,
      "metadata": {
        "id": "OgYOjqUiZzl9",
        "outputId": "5776de65-f9e4-4dac-add9-1d82677f20e1"
      },
      "outputs": [
        {
          "data": {
            "text/html": [
              "<div>\n",
              "<style scoped>\n",
              "    .dataframe tbody tr th:only-of-type {\n",
              "        vertical-align: middle;\n",
              "    }\n",
              "\n",
              "    .dataframe tbody tr th {\n",
              "        vertical-align: top;\n",
              "    }\n",
              "\n",
              "    .dataframe thead th {\n",
              "        text-align: right;\n",
              "    }\n",
              "</style>\n",
              "<table border=\"1\" class=\"dataframe\">\n",
              "  <thead>\n",
              "    <tr style=\"text-align: right;\">\n",
              "      <th></th>\n",
              "      <th>first col</th>\n",
              "      <th>second col</th>\n",
              "      <th>fourth col</th>\n",
              "      <th>fifth col</th>\n",
              "      <th>sixth col</th>\n",
              "    </tr>\n",
              "  </thead>\n",
              "  <tbody>\n",
              "    <tr>\n",
              "      <th>first row</th>\n",
              "      <td>0.822893</td>\n",
              "      <td>NaN</td>\n",
              "      <td>0.158221</td>\n",
              "      <td>NaN</td>\n",
              "      <td>NaN</td>\n",
              "    </tr>\n",
              "    <tr>\n",
              "      <th>third row</th>\n",
              "      <td>NaN</td>\n",
              "      <td>NaN</td>\n",
              "      <td>1.376465</td>\n",
              "      <td>0.184676</td>\n",
              "      <td>NaN</td>\n",
              "    </tr>\n",
              "    <tr>\n",
              "      <th>fourth row</th>\n",
              "      <td>1.131401</td>\n",
              "      <td>0.407221</td>\n",
              "      <td>0.328429</td>\n",
              "      <td>NaN</td>\n",
              "      <td>0.873589</td>\n",
              "    </tr>\n",
              "    <tr>\n",
              "      <th>fifth row</th>\n",
              "      <td>NaN</td>\n",
              "      <td>0.408077</td>\n",
              "      <td>0.895058</td>\n",
              "      <td>NaN</td>\n",
              "      <td>NaN</td>\n",
              "    </tr>\n",
              "  </tbody>\n",
              "</table>\n",
              "</div>"
            ],
            "text/plain": [
              "            first col  second col  fourth col  fifth col  sixth col\n",
              "first row    0.822893         NaN    0.158221        NaN        NaN\n",
              "third row         NaN         NaN    1.376465   0.184676        NaN\n",
              "fourth row   1.131401    0.407221    0.328429        NaN   0.873589\n",
              "fifth row         NaN    0.408077    0.895058        NaN        NaN"
            ]
          },
          "execution_count": 77,
          "metadata": {},
          "output_type": "execute_result"
        }
      ],
      "source": [
        "df5[df5>0]"
      ]
    },
    {
      "cell_type": "code",
      "execution_count": null,
      "metadata": {
        "id": "_h8TUNE9Zzl9"
      },
      "outputs": [],
      "source": [
        "df=pd.DataFrame(np.random.randint(5,35,(5,6)))"
      ]
    },
    {
      "cell_type": "code",
      "execution_count": null,
      "metadata": {
        "id": "hVfqUd4nZzl9",
        "outputId": "b8b42040-ba28-4211-d2c7-5e03beb79dc9"
      },
      "outputs": [
        {
          "data": {
            "text/html": [
              "<div>\n",
              "<style scoped>\n",
              "    .dataframe tbody tr th:only-of-type {\n",
              "        vertical-align: middle;\n",
              "    }\n",
              "\n",
              "    .dataframe tbody tr th {\n",
              "        vertical-align: top;\n",
              "    }\n",
              "\n",
              "    .dataframe thead th {\n",
              "        text-align: right;\n",
              "    }\n",
              "</style>\n",
              "<table border=\"1\" class=\"dataframe\">\n",
              "  <thead>\n",
              "    <tr style=\"text-align: right;\">\n",
              "      <th></th>\n",
              "      <th>0</th>\n",
              "      <th>1</th>\n",
              "      <th>2</th>\n",
              "      <th>3</th>\n",
              "      <th>4</th>\n",
              "      <th>5</th>\n",
              "    </tr>\n",
              "  </thead>\n",
              "  <tbody>\n",
              "    <tr>\n",
              "      <th>0</th>\n",
              "      <td>24</td>\n",
              "      <td>7</td>\n",
              "      <td>17</td>\n",
              "      <td>8</td>\n",
              "      <td>33</td>\n",
              "      <td>29</td>\n",
              "    </tr>\n",
              "    <tr>\n",
              "      <th>1</th>\n",
              "      <td>17</td>\n",
              "      <td>31</td>\n",
              "      <td>15</td>\n",
              "      <td>28</td>\n",
              "      <td>27</td>\n",
              "      <td>31</td>\n",
              "    </tr>\n",
              "    <tr>\n",
              "      <th>2</th>\n",
              "      <td>24</td>\n",
              "      <td>14</td>\n",
              "      <td>11</td>\n",
              "      <td>8</td>\n",
              "      <td>29</td>\n",
              "      <td>24</td>\n",
              "    </tr>\n",
              "    <tr>\n",
              "      <th>3</th>\n",
              "      <td>26</td>\n",
              "      <td>30</td>\n",
              "      <td>20</td>\n",
              "      <td>13</td>\n",
              "      <td>32</td>\n",
              "      <td>19</td>\n",
              "    </tr>\n",
              "    <tr>\n",
              "      <th>4</th>\n",
              "      <td>27</td>\n",
              "      <td>31</td>\n",
              "      <td>29</td>\n",
              "      <td>8</td>\n",
              "      <td>5</td>\n",
              "      <td>7</td>\n",
              "    </tr>\n",
              "  </tbody>\n",
              "</table>\n",
              "</div>"
            ],
            "text/plain": [
              "    0   1   2   3   4   5\n",
              "0  24   7  17   8  33  29\n",
              "1  17  31  15  28  27  31\n",
              "2  24  14  11   8  29  24\n",
              "3  26  30  20  13  32  19\n",
              "4  27  31  29   8   5   7"
            ]
          },
          "execution_count": 83,
          "metadata": {},
          "output_type": "execute_result"
        }
      ],
      "source": [
        "df"
      ]
    },
    {
      "cell_type": "code",
      "execution_count": null,
      "metadata": {
        "id": "rtFdvnKRZzl9",
        "outputId": "5c3fc9c3-0fc5-4d8a-a506-bd4fa017c13c"
      },
      "outputs": [
        {
          "data": {
            "text/html": [
              "<div>\n",
              "<style scoped>\n",
              "    .dataframe tbody tr th:only-of-type {\n",
              "        vertical-align: middle;\n",
              "    }\n",
              "\n",
              "    .dataframe tbody tr th {\n",
              "        vertical-align: top;\n",
              "    }\n",
              "\n",
              "    .dataframe thead th {\n",
              "        text-align: right;\n",
              "    }\n",
              "</style>\n",
              "<table border=\"1\" class=\"dataframe\">\n",
              "  <thead>\n",
              "    <tr style=\"text-align: right;\">\n",
              "      <th></th>\n",
              "      <th>0</th>\n",
              "      <th>1</th>\n",
              "      <th>2</th>\n",
              "      <th>3</th>\n",
              "      <th>4</th>\n",
              "      <th>5</th>\n",
              "    </tr>\n",
              "  </thead>\n",
              "  <tbody>\n",
              "    <tr>\n",
              "      <th>0</th>\n",
              "      <td>NaN</td>\n",
              "      <td>NaN</td>\n",
              "      <td>NaN</td>\n",
              "      <td>NaN</td>\n",
              "      <td>NaN</td>\n",
              "      <td>NaN</td>\n",
              "    </tr>\n",
              "    <tr>\n",
              "      <th>1</th>\n",
              "      <td>NaN</td>\n",
              "      <td>NaN</td>\n",
              "      <td>NaN</td>\n",
              "      <td>28.0</td>\n",
              "      <td>NaN</td>\n",
              "      <td>NaN</td>\n",
              "    </tr>\n",
              "    <tr>\n",
              "      <th>2</th>\n",
              "      <td>NaN</td>\n",
              "      <td>NaN</td>\n",
              "      <td>NaN</td>\n",
              "      <td>NaN</td>\n",
              "      <td>NaN</td>\n",
              "      <td>NaN</td>\n",
              "    </tr>\n",
              "    <tr>\n",
              "      <th>3</th>\n",
              "      <td>26.0</td>\n",
              "      <td>30.0</td>\n",
              "      <td>NaN</td>\n",
              "      <td>NaN</td>\n",
              "      <td>32.0</td>\n",
              "      <td>NaN</td>\n",
              "    </tr>\n",
              "    <tr>\n",
              "      <th>4</th>\n",
              "      <td>NaN</td>\n",
              "      <td>NaN</td>\n",
              "      <td>NaN</td>\n",
              "      <td>NaN</td>\n",
              "      <td>NaN</td>\n",
              "      <td>NaN</td>\n",
              "    </tr>\n",
              "  </tbody>\n",
              "</table>\n",
              "</div>"
            ],
            "text/plain": [
              "      0     1   2     3     4   5\n",
              "0   NaN   NaN NaN   NaN   NaN NaN\n",
              "1   NaN   NaN NaN  28.0   NaN NaN\n",
              "2   NaN   NaN NaN   NaN   NaN NaN\n",
              "3  26.0  30.0 NaN   NaN  32.0 NaN\n",
              "4   NaN   NaN NaN   NaN   NaN NaN"
            ]
          },
          "execution_count": 82,
          "metadata": {},
          "output_type": "execute_result"
        }
      ],
      "source": [
        "# - Give me numbers greater than 25\n",
        "df[(df>25) & (df%2==0)]"
      ]
    },
    {
      "cell_type": "code",
      "execution_count": null,
      "metadata": {
        "id": "w-HelB0sZzl9",
        "outputId": "5fd6233d-1761-443d-e5db-fcd80a9c6999"
      },
      "outputs": [
        {
          "data": {
            "text/html": [
              "<div>\n",
              "<style scoped>\n",
              "    .dataframe tbody tr th:only-of-type {\n",
              "        vertical-align: middle;\n",
              "    }\n",
              "\n",
              "    .dataframe tbody tr th {\n",
              "        vertical-align: top;\n",
              "    }\n",
              "\n",
              "    .dataframe thead th {\n",
              "        text-align: right;\n",
              "    }\n",
              "</style>\n",
              "<table border=\"1\" class=\"dataframe\">\n",
              "  <thead>\n",
              "    <tr style=\"text-align: right;\">\n",
              "      <th></th>\n",
              "      <th>first col</th>\n",
              "      <th>second col</th>\n",
              "      <th>fourth col</th>\n",
              "      <th>fifth col</th>\n",
              "      <th>sixth col</th>\n",
              "    </tr>\n",
              "  </thead>\n",
              "  <tbody>\n",
              "    <tr>\n",
              "      <th>first row</th>\n",
              "      <td>0.822893</td>\n",
              "      <td>NaN</td>\n",
              "      <td>NaN</td>\n",
              "      <td>NaN</td>\n",
              "      <td>NaN</td>\n",
              "    </tr>\n",
              "    <tr>\n",
              "      <th>third row</th>\n",
              "      <td>NaN</td>\n",
              "      <td>NaN</td>\n",
              "      <td>1.376465</td>\n",
              "      <td>NaN</td>\n",
              "      <td>NaN</td>\n",
              "    </tr>\n",
              "    <tr>\n",
              "      <th>fourth row</th>\n",
              "      <td>1.131401</td>\n",
              "      <td>NaN</td>\n",
              "      <td>NaN</td>\n",
              "      <td>NaN</td>\n",
              "      <td>0.873589</td>\n",
              "    </tr>\n",
              "    <tr>\n",
              "      <th>fifth row</th>\n",
              "      <td>NaN</td>\n",
              "      <td>NaN</td>\n",
              "      <td>0.895058</td>\n",
              "      <td>NaN</td>\n",
              "      <td>NaN</td>\n",
              "    </tr>\n",
              "  </tbody>\n",
              "</table>\n",
              "</div>"
            ],
            "text/plain": [
              "            first col  second col  fourth col  fifth col  sixth col\n",
              "first row    0.822893         NaN         NaN        NaN        NaN\n",
              "third row         NaN         NaN    1.376465        NaN        NaN\n",
              "fourth row   1.131401         NaN         NaN        NaN   0.873589\n",
              "fifth row         NaN         NaN    0.895058        NaN        NaN"
            ]
          },
          "execution_count": 89,
          "metadata": {},
          "output_type": "execute_result"
        }
      ],
      "source": [
        "df5[(df5>0.5)]"
      ]
    },
    {
      "cell_type": "code",
      "execution_count": null,
      "metadata": {
        "id": "zuV5mEZkZzl9"
      },
      "outputs": [],
      "source": [
        "df5.drop('first row',axis=0,inplace=True)"
      ]
    },
    {
      "cell_type": "code",
      "execution_count": null,
      "metadata": {
        "id": "lkbbooIMZzl9",
        "outputId": "0cc18c47-8efb-442a-9727-0c0bb1200d64"
      },
      "outputs": [
        {
          "data": {
            "text/html": [
              "<div>\n",
              "<style scoped>\n",
              "    .dataframe tbody tr th:only-of-type {\n",
              "        vertical-align: middle;\n",
              "    }\n",
              "\n",
              "    .dataframe tbody tr th {\n",
              "        vertical-align: top;\n",
              "    }\n",
              "\n",
              "    .dataframe thead th {\n",
              "        text-align: right;\n",
              "    }\n",
              "</style>\n",
              "<table border=\"1\" class=\"dataframe\">\n",
              "  <thead>\n",
              "    <tr style=\"text-align: right;\">\n",
              "      <th></th>\n",
              "      <th>first col</th>\n",
              "      <th>second col</th>\n",
              "      <th>fourth col</th>\n",
              "      <th>fifth col</th>\n",
              "      <th>sixth col</th>\n",
              "    </tr>\n",
              "  </thead>\n",
              "  <tbody>\n",
              "    <tr>\n",
              "      <th>third row</th>\n",
              "      <td>-0.193864</td>\n",
              "      <td>-1.179945</td>\n",
              "      <td>1.376465</td>\n",
              "      <td>0.184676</td>\n",
              "      <td>-0.024457</td>\n",
              "    </tr>\n",
              "    <tr>\n",
              "      <th>fourth row</th>\n",
              "      <td>1.131401</td>\n",
              "      <td>0.407221</td>\n",
              "      <td>0.328429</td>\n",
              "      <td>-0.027129</td>\n",
              "      <td>0.873589</td>\n",
              "    </tr>\n",
              "    <tr>\n",
              "      <th>fifth row</th>\n",
              "      <td>-0.790992</td>\n",
              "      <td>0.408077</td>\n",
              "      <td>0.895058</td>\n",
              "      <td>-0.923893</td>\n",
              "      <td>-0.268849</td>\n",
              "    </tr>\n",
              "  </tbody>\n",
              "</table>\n",
              "</div>"
            ],
            "text/plain": [
              "            first col  second col  fourth col  fifth col  sixth col\n",
              "third row   -0.193864   -1.179945    1.376465   0.184676  -0.024457\n",
              "fourth row   1.131401    0.407221    0.328429  -0.027129   0.873589\n",
              "fifth row   -0.790992    0.408077    0.895058  -0.923893  -0.268849"
            ]
          },
          "execution_count": 94,
          "metadata": {},
          "output_type": "execute_result"
        }
      ],
      "source": [
        "df5"
      ]
    },
    {
      "cell_type": "code",
      "execution_count": null,
      "metadata": {
        "id": "9eIff29lZzl9"
      },
      "outputs": [],
      "source": []
    },
    {
      "cell_type": "code",
      "execution_count": null,
      "metadata": {
        "id": "Mpzs2KraZzl9"
      },
      "outputs": [],
      "source": []
    },
    {
      "cell_type": "code",
      "execution_count": null,
      "metadata": {
        "id": "TEY8GnpQZzl9"
      },
      "outputs": [],
      "source": []
    },
    {
      "cell_type": "code",
      "execution_count": null,
      "metadata": {
        "id": "GjIb1mJzZzl-"
      },
      "outputs": [],
      "source": [
        "# we can remove a dataframe's index labels\n",
        "df5.reset_index(inplace=True)"
      ]
    },
    {
      "cell_type": "code",
      "execution_count": null,
      "metadata": {
        "id": "j2s5h1ObZzl-",
        "outputId": "fd36d2d9-7c20-464d-d0a0-6848d79fdf90"
      },
      "outputs": [
        {
          "data": {
            "text/html": [
              "<div>\n",
              "<style scoped>\n",
              "    .dataframe tbody tr th:only-of-type {\n",
              "        vertical-align: middle;\n",
              "    }\n",
              "\n",
              "    .dataframe tbody tr th {\n",
              "        vertical-align: top;\n",
              "    }\n",
              "\n",
              "    .dataframe thead th {\n",
              "        text-align: right;\n",
              "    }\n",
              "</style>\n",
              "<table border=\"1\" class=\"dataframe\">\n",
              "  <thead>\n",
              "    <tr style=\"text-align: right;\">\n",
              "      <th></th>\n",
              "      <th>index</th>\n",
              "      <th>first col</th>\n",
              "      <th>second col</th>\n",
              "      <th>fourth col</th>\n",
              "      <th>fifth col</th>\n",
              "      <th>sixth col</th>\n",
              "    </tr>\n",
              "  </thead>\n",
              "  <tbody>\n",
              "    <tr>\n",
              "      <th>0</th>\n",
              "      <td>third row</td>\n",
              "      <td>-0.193864</td>\n",
              "      <td>-1.179945</td>\n",
              "      <td>1.376465</td>\n",
              "      <td>0.184676</td>\n",
              "      <td>-0.024457</td>\n",
              "    </tr>\n",
              "    <tr>\n",
              "      <th>1</th>\n",
              "      <td>fourth row</td>\n",
              "      <td>1.131401</td>\n",
              "      <td>0.407221</td>\n",
              "      <td>0.328429</td>\n",
              "      <td>-0.027129</td>\n",
              "      <td>0.873589</td>\n",
              "    </tr>\n",
              "    <tr>\n",
              "      <th>2</th>\n",
              "      <td>fifth row</td>\n",
              "      <td>-0.790992</td>\n",
              "      <td>0.408077</td>\n",
              "      <td>0.895058</td>\n",
              "      <td>-0.923893</td>\n",
              "      <td>-0.268849</td>\n",
              "    </tr>\n",
              "  </tbody>\n",
              "</table>\n",
              "</div>"
            ],
            "text/plain": [
              "        index  first col  second col  fourth col  fifth col  sixth col\n",
              "0   third row  -0.193864   -1.179945    1.376465   0.184676  -0.024457\n",
              "1  fourth row   1.131401    0.407221    0.328429  -0.027129   0.873589\n",
              "2   fifth row  -0.790992    0.408077    0.895058  -0.923893  -0.268849"
            ]
          },
          "execution_count": 96,
          "metadata": {},
          "output_type": "execute_result"
        }
      ],
      "source": [
        "df5"
      ]
    },
    {
      "cell_type": "code",
      "execution_count": null,
      "metadata": {
        "scrolled": true,
        "id": "wxJnzJ-2Zzl-",
        "outputId": "652a577e-6c8e-46e2-a981-65ee00134a6d"
      },
      "outputs": [
        {
          "data": {
            "text/html": [
              "<div>\n",
              "<style scoped>\n",
              "    .dataframe tbody tr th:only-of-type {\n",
              "        vertical-align: middle;\n",
              "    }\n",
              "\n",
              "    .dataframe tbody tr th {\n",
              "        vertical-align: top;\n",
              "    }\n",
              "\n",
              "    .dataframe thead th {\n",
              "        text-align: right;\n",
              "    }\n",
              "</style>\n",
              "<table border=\"1\" class=\"dataframe\">\n",
              "  <thead>\n",
              "    <tr style=\"text-align: right;\">\n",
              "      <th></th>\n",
              "      <th>level_0</th>\n",
              "      <th>index</th>\n",
              "      <th>first col</th>\n",
              "      <th>second col</th>\n",
              "      <th>fourth col</th>\n",
              "      <th>fifth col</th>\n",
              "      <th>sixth col</th>\n",
              "    </tr>\n",
              "  </thead>\n",
              "  <tbody>\n",
              "    <tr>\n",
              "      <th>0</th>\n",
              "      <td>0</td>\n",
              "      <td>third row</td>\n",
              "      <td>-0.193864</td>\n",
              "      <td>-1.179945</td>\n",
              "      <td>1.376465</td>\n",
              "      <td>0.184676</td>\n",
              "      <td>-0.024457</td>\n",
              "    </tr>\n",
              "    <tr>\n",
              "      <th>1</th>\n",
              "      <td>1</td>\n",
              "      <td>fourth row</td>\n",
              "      <td>1.131401</td>\n",
              "      <td>0.407221</td>\n",
              "      <td>0.328429</td>\n",
              "      <td>-0.027129</td>\n",
              "      <td>0.873589</td>\n",
              "    </tr>\n",
              "    <tr>\n",
              "      <th>2</th>\n",
              "      <td>2</td>\n",
              "      <td>fifth row</td>\n",
              "      <td>-0.790992</td>\n",
              "      <td>0.408077</td>\n",
              "      <td>0.895058</td>\n",
              "      <td>-0.923893</td>\n",
              "      <td>-0.268849</td>\n",
              "    </tr>\n",
              "  </tbody>\n",
              "</table>\n",
              "</div>"
            ],
            "text/plain": [
              "   level_0       index  first col  second col  fourth col  fifth col  \\\n",
              "0        0   third row  -0.193864   -1.179945    1.376465   0.184676   \n",
              "1        1  fourth row   1.131401    0.407221    0.328429  -0.027129   \n",
              "2        2   fifth row  -0.790992    0.408077    0.895058  -0.923893   \n",
              "\n",
              "   sixth col  \n",
              "0  -0.024457  \n",
              "1   0.873589  \n",
              "2  -0.268849  "
            ]
          },
          "execution_count": 97,
          "metadata": {},
          "output_type": "execute_result"
        }
      ],
      "source": [
        "df5.reset_index(inplace=True)\n",
        "df5"
      ]
    },
    {
      "cell_type": "code",
      "execution_count": null,
      "metadata": {
        "id": "_ekkGc6kZzl-"
      },
      "outputs": [],
      "source": [
        "s=['uno','dos','tres']"
      ]
    },
    {
      "cell_type": "code",
      "execution_count": null,
      "metadata": {
        "id": "Ttsik5J7Zzl-",
        "outputId": "707ac98a-d68d-40a6-ba05-68098632e330"
      },
      "outputs": [
        {
          "data": {
            "text/html": [
              "<div>\n",
              "<style scoped>\n",
              "    .dataframe tbody tr th:only-of-type {\n",
              "        vertical-align: middle;\n",
              "    }\n",
              "\n",
              "    .dataframe tbody tr th {\n",
              "        vertical-align: top;\n",
              "    }\n",
              "\n",
              "    .dataframe thead th {\n",
              "        text-align: right;\n",
              "    }\n",
              "</style>\n",
              "<table border=\"1\" class=\"dataframe\">\n",
              "  <thead>\n",
              "    <tr style=\"text-align: right;\">\n",
              "      <th></th>\n",
              "      <th>level_0</th>\n",
              "      <th>index</th>\n",
              "      <th>first col</th>\n",
              "      <th>second col</th>\n",
              "      <th>fourth col</th>\n",
              "      <th>fifth col</th>\n",
              "      <th>sixth col</th>\n",
              "    </tr>\n",
              "    <tr>\n",
              "      <th>Level_1</th>\n",
              "      <th></th>\n",
              "      <th></th>\n",
              "      <th></th>\n",
              "      <th></th>\n",
              "      <th></th>\n",
              "      <th></th>\n",
              "      <th></th>\n",
              "    </tr>\n",
              "  </thead>\n",
              "  <tbody>\n",
              "    <tr>\n",
              "      <th>uno</th>\n",
              "      <td>0</td>\n",
              "      <td>third row</td>\n",
              "      <td>-0.193864</td>\n",
              "      <td>-1.179945</td>\n",
              "      <td>1.376465</td>\n",
              "      <td>0.184676</td>\n",
              "      <td>-0.024457</td>\n",
              "    </tr>\n",
              "    <tr>\n",
              "      <th>dos</th>\n",
              "      <td>1</td>\n",
              "      <td>fourth row</td>\n",
              "      <td>1.131401</td>\n",
              "      <td>0.407221</td>\n",
              "      <td>0.328429</td>\n",
              "      <td>-0.027129</td>\n",
              "      <td>0.873589</td>\n",
              "    </tr>\n",
              "    <tr>\n",
              "      <th>tres</th>\n",
              "      <td>2</td>\n",
              "      <td>fifth row</td>\n",
              "      <td>-0.790992</td>\n",
              "      <td>0.408077</td>\n",
              "      <td>0.895058</td>\n",
              "      <td>-0.923893</td>\n",
              "      <td>-0.268849</td>\n",
              "    </tr>\n",
              "  </tbody>\n",
              "</table>\n",
              "</div>"
            ],
            "text/plain": [
              "         level_0       index  first col  second col  fourth col  fifth col  \\\n",
              "Level_1                                                                      \n",
              "uno            0   third row  -0.193864   -1.179945    1.376465   0.184676   \n",
              "dos            1  fourth row   1.131401    0.407221    0.328429  -0.027129   \n",
              "tres           2   fifth row  -0.790992    0.408077    0.895058  -0.923893   \n",
              "\n",
              "         sixth col  \n",
              "Level_1             \n",
              "uno      -0.024457  \n",
              "dos       0.873589  \n",
              "tres     -0.268849  "
            ]
          },
          "execution_count": 101,
          "metadata": {},
          "output_type": "execute_result"
        }
      ],
      "source": [
        "df5['Level_1']=s\n",
        "df5.set_index('Level_1')"
      ]
    },
    {
      "cell_type": "code",
      "execution_count": null,
      "metadata": {
        "id": "zSzrzclVZzl-",
        "outputId": "f8a96c34-d3c7-40b1-843d-204bbfd1070a"
      },
      "outputs": [
        {
          "data": {
            "text/html": [
              "<div>\n",
              "<style scoped>\n",
              "    .dataframe tbody tr th:only-of-type {\n",
              "        vertical-align: middle;\n",
              "    }\n",
              "\n",
              "    .dataframe tbody tr th {\n",
              "        vertical-align: top;\n",
              "    }\n",
              "\n",
              "    .dataframe thead th {\n",
              "        text-align: right;\n",
              "    }\n",
              "</style>\n",
              "<table border=\"1\" class=\"dataframe\">\n",
              "  <thead>\n",
              "    <tr style=\"text-align: right;\">\n",
              "      <th></th>\n",
              "      <th>index</th>\n",
              "      <th>first col</th>\n",
              "      <th>second col</th>\n",
              "      <th>fourth col</th>\n",
              "      <th>fifth col</th>\n",
              "      <th>sixth col</th>\n",
              "      <th>Level_1</th>\n",
              "    </tr>\n",
              "  </thead>\n",
              "  <tbody>\n",
              "    <tr>\n",
              "      <th>0</th>\n",
              "      <td>third row</td>\n",
              "      <td>-0.193864</td>\n",
              "      <td>-1.179945</td>\n",
              "      <td>1.376465</td>\n",
              "      <td>0.184676</td>\n",
              "      <td>-0.024457</td>\n",
              "      <td>uno</td>\n",
              "    </tr>\n",
              "    <tr>\n",
              "      <th>1</th>\n",
              "      <td>fourth row</td>\n",
              "      <td>1.131401</td>\n",
              "      <td>0.407221</td>\n",
              "      <td>0.328429</td>\n",
              "      <td>-0.027129</td>\n",
              "      <td>0.873589</td>\n",
              "      <td>dos</td>\n",
              "    </tr>\n",
              "    <tr>\n",
              "      <th>2</th>\n",
              "      <td>fifth row</td>\n",
              "      <td>-0.790992</td>\n",
              "      <td>0.408077</td>\n",
              "      <td>0.895058</td>\n",
              "      <td>-0.923893</td>\n",
              "      <td>-0.268849</td>\n",
              "      <td>tres</td>\n",
              "    </tr>\n",
              "  </tbody>\n",
              "</table>\n",
              "</div>"
            ],
            "text/plain": [
              "        index  first col  second col  fourth col  fifth col  sixth col Level_1\n",
              "0   third row  -0.193864   -1.179945    1.376465   0.184676  -0.024457     uno\n",
              "1  fourth row   1.131401    0.407221    0.328429  -0.027129   0.873589     dos\n",
              "2   fifth row  -0.790992    0.408077    0.895058  -0.923893  -0.268849    tres"
            ]
          },
          "execution_count": 103,
          "metadata": {},
          "output_type": "execute_result"
        }
      ],
      "source": [
        "df5.drop('level_0',axis=1)"
      ]
    },
    {
      "cell_type": "code",
      "execution_count": null,
      "metadata": {
        "id": "fp-oDFYUZzl-",
        "outputId": "5315c28e-98f7-44ae-9a7d-4720cfab1298"
      },
      "outputs": [
        {
          "data": {
            "text/html": [
              "<div>\n",
              "<style scoped>\n",
              "    .dataframe tbody tr th:only-of-type {\n",
              "        vertical-align: middle;\n",
              "    }\n",
              "\n",
              "    .dataframe tbody tr th {\n",
              "        vertical-align: top;\n",
              "    }\n",
              "\n",
              "    .dataframe thead th {\n",
              "        text-align: right;\n",
              "    }\n",
              "</style>\n",
              "<table border=\"1\" class=\"dataframe\">\n",
              "  <thead>\n",
              "    <tr style=\"text-align: right;\">\n",
              "      <th></th>\n",
              "      <th>level_0</th>\n",
              "      <th>index</th>\n",
              "      <th>first col</th>\n",
              "      <th>fourth col</th>\n",
              "      <th>fifth col</th>\n",
              "      <th>sixth col</th>\n",
              "      <th>Level_1</th>\n",
              "    </tr>\n",
              "    <tr>\n",
              "      <th>second col</th>\n",
              "      <th></th>\n",
              "      <th></th>\n",
              "      <th></th>\n",
              "      <th></th>\n",
              "      <th></th>\n",
              "      <th></th>\n",
              "      <th></th>\n",
              "    </tr>\n",
              "  </thead>\n",
              "  <tbody>\n",
              "    <tr>\n",
              "      <th>-1.179945</th>\n",
              "      <td>0</td>\n",
              "      <td>third row</td>\n",
              "      <td>-0.193864</td>\n",
              "      <td>1.376465</td>\n",
              "      <td>0.184676</td>\n",
              "      <td>-0.024457</td>\n",
              "      <td>uno</td>\n",
              "    </tr>\n",
              "    <tr>\n",
              "      <th>0.407221</th>\n",
              "      <td>1</td>\n",
              "      <td>fourth row</td>\n",
              "      <td>1.131401</td>\n",
              "      <td>0.328429</td>\n",
              "      <td>-0.027129</td>\n",
              "      <td>0.873589</td>\n",
              "      <td>dos</td>\n",
              "    </tr>\n",
              "    <tr>\n",
              "      <th>0.408077</th>\n",
              "      <td>2</td>\n",
              "      <td>fifth row</td>\n",
              "      <td>-0.790992</td>\n",
              "      <td>0.895058</td>\n",
              "      <td>-0.923893</td>\n",
              "      <td>-0.268849</td>\n",
              "      <td>tres</td>\n",
              "    </tr>\n",
              "  </tbody>\n",
              "</table>\n",
              "</div>"
            ],
            "text/plain": [
              "            level_0       index  first col  fourth col  fifth col  sixth col  \\\n",
              "second col                                                                     \n",
              "-1.179945         0   third row  -0.193864    1.376465   0.184676  -0.024457   \n",
              " 0.407221         1  fourth row   1.131401    0.328429  -0.027129   0.873589   \n",
              " 0.408077         2   fifth row  -0.790992    0.895058  -0.923893  -0.268849   \n",
              "\n",
              "           Level_1  \n",
              "second col          \n",
              "-1.179945      uno  \n",
              " 0.407221      dos  \n",
              " 0.408077     tres  "
            ]
          },
          "execution_count": 104,
          "metadata": {},
          "output_type": "execute_result"
        }
      ],
      "source": [
        "df5.set_index('second col')"
      ]
    },
    {
      "cell_type": "code",
      "execution_count": null,
      "metadata": {
        "id": "xlRUexuyZzl-"
      },
      "outputs": [],
      "source": []
    },
    {
      "cell_type": "code",
      "execution_count": null,
      "metadata": {
        "id": "Ec2oB4f0Zzl_"
      },
      "outputs": [],
      "source": []
    },
    {
      "cell_type": "code",
      "execution_count": null,
      "metadata": {
        "collapsed": true,
        "id": "X7LzMjqvZzl_",
        "outputId": "5647ac2d-1e02-4893-c286-4b7b6ce52706"
      },
      "outputs": [
        {
          "ename": "ValueError",
          "evalue": "Length of values (3) does not match length of index (4)",
          "output_type": "error",
          "traceback": [
            "\u001b[1;31m---------------------------------------------------------------------------\u001b[0m",
            "\u001b[1;31mValueError\u001b[0m                                Traceback (most recent call last)",
            "Input \u001b[1;32mIn [40]\u001b[0m, in \u001b[0;36m<cell line: 2>\u001b[1;34m()\u001b[0m\n\u001b[0;32m      1\u001b[0m \u001b[38;5;66;03m# we can assign new names to the index\u001b[39;00m\n\u001b[1;32m----> 2\u001b[0m df5[\u001b[38;5;124m'\u001b[39m\u001b[38;5;124mnew index\u001b[39m\u001b[38;5;124m'\u001b[39m] \u001b[38;5;241m=\u001b[39m [\u001b[38;5;124m'\u001b[39m\u001b[38;5;124mThis\u001b[39m\u001b[38;5;124m'\u001b[39m,\u001b[38;5;124m'\u001b[39m\u001b[38;5;124mis a new\u001b[39m\u001b[38;5;124m'\u001b[39m,\u001b[38;5;124m'\u001b[39m\u001b[38;5;124mrow\u001b[39m\u001b[38;5;124m'\u001b[39m]\n\u001b[0;32m      3\u001b[0m df5\n",
            "File \u001b[1;32m~\\anaconda3\\Anaconda Files1\\lib\\site-packages\\pandas\\core\\frame.py:3655\u001b[0m, in \u001b[0;36mDataFrame.__setitem__\u001b[1;34m(self, key, value)\u001b[0m\n\u001b[0;32m   3652\u001b[0m     \u001b[38;5;28mself\u001b[39m\u001b[38;5;241m.\u001b[39m_setitem_array([key], value)\n\u001b[0;32m   3653\u001b[0m \u001b[38;5;28;01melse\u001b[39;00m:\n\u001b[0;32m   3654\u001b[0m     \u001b[38;5;66;03m# set column\u001b[39;00m\n\u001b[1;32m-> 3655\u001b[0m     \u001b[38;5;28;43mself\u001b[39;49m\u001b[38;5;241;43m.\u001b[39;49m\u001b[43m_set_item\u001b[49m\u001b[43m(\u001b[49m\u001b[43mkey\u001b[49m\u001b[43m,\u001b[49m\u001b[43m \u001b[49m\u001b[43mvalue\u001b[49m\u001b[43m)\u001b[49m\n",
            "File \u001b[1;32m~\\anaconda3\\Anaconda Files1\\lib\\site-packages\\pandas\\core\\frame.py:3832\u001b[0m, in \u001b[0;36mDataFrame._set_item\u001b[1;34m(self, key, value)\u001b[0m\n\u001b[0;32m   3822\u001b[0m \u001b[38;5;28;01mdef\u001b[39;00m \u001b[38;5;21m_set_item\u001b[39m(\u001b[38;5;28mself\u001b[39m, key, value) \u001b[38;5;241m-\u001b[39m\u001b[38;5;241m>\u001b[39m \u001b[38;5;28;01mNone\u001b[39;00m:\n\u001b[0;32m   3823\u001b[0m     \u001b[38;5;124;03m\"\"\"\u001b[39;00m\n\u001b[0;32m   3824\u001b[0m \u001b[38;5;124;03m    Add series to DataFrame in specified column.\u001b[39;00m\n\u001b[0;32m   3825\u001b[0m \n\u001b[1;32m   (...)\u001b[0m\n\u001b[0;32m   3830\u001b[0m \u001b[38;5;124;03m    ensure homogeneity.\u001b[39;00m\n\u001b[0;32m   3831\u001b[0m \u001b[38;5;124;03m    \"\"\"\u001b[39;00m\n\u001b[1;32m-> 3832\u001b[0m     value \u001b[38;5;241m=\u001b[39m \u001b[38;5;28;43mself\u001b[39;49m\u001b[38;5;241;43m.\u001b[39;49m\u001b[43m_sanitize_column\u001b[49m\u001b[43m(\u001b[49m\u001b[43mvalue\u001b[49m\u001b[43m)\u001b[49m\n\u001b[0;32m   3834\u001b[0m     \u001b[38;5;28;01mif\u001b[39;00m (\n\u001b[0;32m   3835\u001b[0m         key \u001b[38;5;129;01min\u001b[39;00m \u001b[38;5;28mself\u001b[39m\u001b[38;5;241m.\u001b[39mcolumns\n\u001b[0;32m   3836\u001b[0m         \u001b[38;5;129;01mand\u001b[39;00m value\u001b[38;5;241m.\u001b[39mndim \u001b[38;5;241m==\u001b[39m \u001b[38;5;241m1\u001b[39m\n\u001b[0;32m   3837\u001b[0m         \u001b[38;5;129;01mand\u001b[39;00m \u001b[38;5;129;01mnot\u001b[39;00m is_extension_array_dtype(value)\n\u001b[0;32m   3838\u001b[0m     ):\n\u001b[0;32m   3839\u001b[0m         \u001b[38;5;66;03m# broadcast across multiple columns if necessary\u001b[39;00m\n\u001b[0;32m   3840\u001b[0m         \u001b[38;5;28;01mif\u001b[39;00m \u001b[38;5;129;01mnot\u001b[39;00m \u001b[38;5;28mself\u001b[39m\u001b[38;5;241m.\u001b[39mcolumns\u001b[38;5;241m.\u001b[39mis_unique \u001b[38;5;129;01mor\u001b[39;00m \u001b[38;5;28misinstance\u001b[39m(\u001b[38;5;28mself\u001b[39m\u001b[38;5;241m.\u001b[39mcolumns, MultiIndex):\n",
            "File \u001b[1;32m~\\anaconda3\\Anaconda Files1\\lib\\site-packages\\pandas\\core\\frame.py:4535\u001b[0m, in \u001b[0;36mDataFrame._sanitize_column\u001b[1;34m(self, value)\u001b[0m\n\u001b[0;32m   4532\u001b[0m     \u001b[38;5;28;01mreturn\u001b[39;00m _reindex_for_setitem(value, \u001b[38;5;28mself\u001b[39m\u001b[38;5;241m.\u001b[39mindex)\n\u001b[0;32m   4534\u001b[0m \u001b[38;5;28;01mif\u001b[39;00m is_list_like(value):\n\u001b[1;32m-> 4535\u001b[0m     \u001b[43mcom\u001b[49m\u001b[38;5;241;43m.\u001b[39;49m\u001b[43mrequire_length_match\u001b[49m\u001b[43m(\u001b[49m\u001b[43mvalue\u001b[49m\u001b[43m,\u001b[49m\u001b[43m \u001b[49m\u001b[38;5;28;43mself\u001b[39;49m\u001b[38;5;241;43m.\u001b[39;49m\u001b[43mindex\u001b[49m\u001b[43m)\u001b[49m\n\u001b[0;32m   4536\u001b[0m \u001b[38;5;28;01mreturn\u001b[39;00m sanitize_array(value, \u001b[38;5;28mself\u001b[39m\u001b[38;5;241m.\u001b[39mindex, copy\u001b[38;5;241m=\u001b[39m\u001b[38;5;28;01mTrue\u001b[39;00m, allow_2d\u001b[38;5;241m=\u001b[39m\u001b[38;5;28;01mTrue\u001b[39;00m)\n",
            "File \u001b[1;32m~\\anaconda3\\Anaconda Files1\\lib\\site-packages\\pandas\\core\\common.py:557\u001b[0m, in \u001b[0;36mrequire_length_match\u001b[1;34m(data, index)\u001b[0m\n\u001b[0;32m    553\u001b[0m \u001b[38;5;124;03m\"\"\"\u001b[39;00m\n\u001b[0;32m    554\u001b[0m \u001b[38;5;124;03mCheck the length of data matches the length of the index.\u001b[39;00m\n\u001b[0;32m    555\u001b[0m \u001b[38;5;124;03m\"\"\"\u001b[39;00m\n\u001b[0;32m    556\u001b[0m \u001b[38;5;28;01mif\u001b[39;00m \u001b[38;5;28mlen\u001b[39m(data) \u001b[38;5;241m!=\u001b[39m \u001b[38;5;28mlen\u001b[39m(index):\n\u001b[1;32m--> 557\u001b[0m     \u001b[38;5;28;01mraise\u001b[39;00m \u001b[38;5;167;01mValueError\u001b[39;00m(\n\u001b[0;32m    558\u001b[0m         \u001b[38;5;124m\"\u001b[39m\u001b[38;5;124mLength of values \u001b[39m\u001b[38;5;124m\"\u001b[39m\n\u001b[0;32m    559\u001b[0m         \u001b[38;5;124mf\u001b[39m\u001b[38;5;124m\"\u001b[39m\u001b[38;5;124m(\u001b[39m\u001b[38;5;132;01m{\u001b[39;00m\u001b[38;5;28mlen\u001b[39m(data)\u001b[38;5;132;01m}\u001b[39;00m\u001b[38;5;124m) \u001b[39m\u001b[38;5;124m\"\u001b[39m\n\u001b[0;32m    560\u001b[0m         \u001b[38;5;124m\"\u001b[39m\u001b[38;5;124mdoes not match length of index \u001b[39m\u001b[38;5;124m\"\u001b[39m\n\u001b[0;32m    561\u001b[0m         \u001b[38;5;124mf\u001b[39m\u001b[38;5;124m\"\u001b[39m\u001b[38;5;124m(\u001b[39m\u001b[38;5;132;01m{\u001b[39;00m\u001b[38;5;28mlen\u001b[39m(index)\u001b[38;5;132;01m}\u001b[39;00m\u001b[38;5;124m)\u001b[39m\u001b[38;5;124m\"\u001b[39m\n\u001b[0;32m    562\u001b[0m     )\n",
            "\u001b[1;31mValueError\u001b[0m: Length of values (3) does not match length of index (4)"
          ]
        }
      ],
      "source": [
        "# we can assign new names to the index\n",
        "df5['new index'] = ['This','is a new','row']\n",
        "df5"
      ]
    },
    {
      "cell_type": "code",
      "execution_count": null,
      "metadata": {
        "scrolled": true,
        "id": "mR6sEP84Zzl_"
      },
      "outputs": [],
      "source": [
        "df5.reset_index()"
      ]
    },
    {
      "cell_type": "code",
      "execution_count": null,
      "metadata": {
        "scrolled": true,
        "id": "ztweesXHZzl_"
      },
      "outputs": [],
      "source": [
        "df5['Row_index']=['uno','dos','tres','cuanta']\n",
        "df5.set_index('Row_index')"
      ]
    },
    {
      "cell_type": "code",
      "execution_count": null,
      "metadata": {
        "id": "VDeoRIM5Zzl_"
      },
      "outputs": [],
      "source": [
        "df5"
      ]
    },
    {
      "cell_type": "code",
      "execution_count": null,
      "metadata": {
        "id": "d9O6JzmeZzl_"
      },
      "outputs": [],
      "source": [
        "df5.set_index('Row_index',inplace=True)\n",
        "df5"
      ]
    },
    {
      "cell_type": "code",
      "execution_count": null,
      "metadata": {
        "collapsed": true,
        "id": "dbtJ2zpGZzl_",
        "outputId": "bf286207-8435-47d6-8ad0-41a8dc0f1bc7"
      },
      "outputs": [
        {
          "ename": "ValueError",
          "evalue": "cannot insert level_0, already exists",
          "output_type": "error",
          "traceback": [
            "\u001b[1;31m---------------------------------------------------------------------------\u001b[0m",
            "\u001b[1;31mValueError\u001b[0m                                Traceback (most recent call last)",
            "Input \u001b[1;32mIn [41]\u001b[0m, in \u001b[0;36m<cell line: 1>\u001b[1;34m()\u001b[0m\n\u001b[1;32m----> 1\u001b[0m \u001b[43mdf5\u001b[49m\u001b[38;5;241;43m.\u001b[39;49m\u001b[43mreset_index\u001b[49m\u001b[43m(\u001b[49m\u001b[43m)\u001b[49m\n",
            "File \u001b[1;32m~\\anaconda3\\Anaconda Files1\\lib\\site-packages\\pandas\\util\\_decorators.py:311\u001b[0m, in \u001b[0;36mdeprecate_nonkeyword_arguments.<locals>.decorate.<locals>.wrapper\u001b[1;34m(*args, **kwargs)\u001b[0m\n\u001b[0;32m    305\u001b[0m \u001b[38;5;28;01mif\u001b[39;00m \u001b[38;5;28mlen\u001b[39m(args) \u001b[38;5;241m>\u001b[39m num_allow_args:\n\u001b[0;32m    306\u001b[0m     warnings\u001b[38;5;241m.\u001b[39mwarn(\n\u001b[0;32m    307\u001b[0m         msg\u001b[38;5;241m.\u001b[39mformat(arguments\u001b[38;5;241m=\u001b[39marguments),\n\u001b[0;32m    308\u001b[0m         \u001b[38;5;167;01mFutureWarning\u001b[39;00m,\n\u001b[0;32m    309\u001b[0m         stacklevel\u001b[38;5;241m=\u001b[39mstacklevel,\n\u001b[0;32m    310\u001b[0m     )\n\u001b[1;32m--> 311\u001b[0m \u001b[38;5;28;01mreturn\u001b[39;00m func(\u001b[38;5;241m*\u001b[39margs, \u001b[38;5;241m*\u001b[39m\u001b[38;5;241m*\u001b[39mkwargs)\n",
            "File \u001b[1;32m~\\anaconda3\\Anaconda Files1\\lib\\site-packages\\pandas\\core\\frame.py:5839\u001b[0m, in \u001b[0;36mDataFrame.reset_index\u001b[1;34m(self, level, drop, inplace, col_level, col_fill)\u001b[0m\n\u001b[0;32m   5833\u001b[0m         \u001b[38;5;28;01mif\u001b[39;00m lab \u001b[38;5;129;01mis\u001b[39;00m \u001b[38;5;129;01mnot\u001b[39;00m \u001b[38;5;28;01mNone\u001b[39;00m:\n\u001b[0;32m   5834\u001b[0m             \u001b[38;5;66;03m# if we have the codes, extract the values with a mask\u001b[39;00m\n\u001b[0;32m   5835\u001b[0m             level_values \u001b[38;5;241m=\u001b[39m algorithms\u001b[38;5;241m.\u001b[39mtake(\n\u001b[0;32m   5836\u001b[0m                 level_values, lab, allow_fill\u001b[38;5;241m=\u001b[39m\u001b[38;5;28;01mTrue\u001b[39;00m, fill_value\u001b[38;5;241m=\u001b[39mlev\u001b[38;5;241m.\u001b[39m_na_value\n\u001b[0;32m   5837\u001b[0m             )\n\u001b[1;32m-> 5839\u001b[0m         \u001b[43mnew_obj\u001b[49m\u001b[38;5;241;43m.\u001b[39;49m\u001b[43minsert\u001b[49m\u001b[43m(\u001b[49m\u001b[38;5;241;43m0\u001b[39;49m\u001b[43m,\u001b[49m\u001b[43m \u001b[49m\u001b[43mname\u001b[49m\u001b[43m,\u001b[49m\u001b[43m \u001b[49m\u001b[43mlevel_values\u001b[49m\u001b[43m)\u001b[49m\n\u001b[0;32m   5841\u001b[0m new_obj\u001b[38;5;241m.\u001b[39mindex \u001b[38;5;241m=\u001b[39m new_index\n\u001b[0;32m   5842\u001b[0m \u001b[38;5;28;01mif\u001b[39;00m \u001b[38;5;129;01mnot\u001b[39;00m inplace:\n",
            "File \u001b[1;32m~\\anaconda3\\Anaconda Files1\\lib\\site-packages\\pandas\\core\\frame.py:4440\u001b[0m, in \u001b[0;36mDataFrame.insert\u001b[1;34m(self, loc, column, value, allow_duplicates)\u001b[0m\n\u001b[0;32m   4434\u001b[0m     \u001b[38;5;28;01mraise\u001b[39;00m \u001b[38;5;167;01mValueError\u001b[39;00m(\n\u001b[0;32m   4435\u001b[0m         \u001b[38;5;124m\"\u001b[39m\u001b[38;5;124mCannot specify \u001b[39m\u001b[38;5;124m'\u001b[39m\u001b[38;5;124mallow_duplicates=True\u001b[39m\u001b[38;5;124m'\u001b[39m\u001b[38;5;124m when \u001b[39m\u001b[38;5;124m\"\u001b[39m\n\u001b[0;32m   4436\u001b[0m         \u001b[38;5;124m\"\u001b[39m\u001b[38;5;124m'\u001b[39m\u001b[38;5;124mself.flags.allows_duplicate_labels\u001b[39m\u001b[38;5;124m'\u001b[39m\u001b[38;5;124m is False.\u001b[39m\u001b[38;5;124m\"\u001b[39m\n\u001b[0;32m   4437\u001b[0m     )\n\u001b[0;32m   4438\u001b[0m \u001b[38;5;28;01mif\u001b[39;00m \u001b[38;5;129;01mnot\u001b[39;00m allow_duplicates \u001b[38;5;129;01mand\u001b[39;00m column \u001b[38;5;129;01min\u001b[39;00m \u001b[38;5;28mself\u001b[39m\u001b[38;5;241m.\u001b[39mcolumns:\n\u001b[0;32m   4439\u001b[0m     \u001b[38;5;66;03m# Should this be a different kind of error??\u001b[39;00m\n\u001b[1;32m-> 4440\u001b[0m     \u001b[38;5;28;01mraise\u001b[39;00m \u001b[38;5;167;01mValueError\u001b[39;00m(\u001b[38;5;124mf\u001b[39m\u001b[38;5;124m\"\u001b[39m\u001b[38;5;124mcannot insert \u001b[39m\u001b[38;5;132;01m{\u001b[39;00mcolumn\u001b[38;5;132;01m}\u001b[39;00m\u001b[38;5;124m, already exists\u001b[39m\u001b[38;5;124m\"\u001b[39m)\n\u001b[0;32m   4441\u001b[0m \u001b[38;5;28;01mif\u001b[39;00m \u001b[38;5;129;01mnot\u001b[39;00m \u001b[38;5;28misinstance\u001b[39m(loc, \u001b[38;5;28mint\u001b[39m):\n\u001b[0;32m   4442\u001b[0m     \u001b[38;5;28;01mraise\u001b[39;00m \u001b[38;5;167;01mTypeError\u001b[39;00m(\u001b[38;5;124m\"\u001b[39m\u001b[38;5;124mloc must be int\u001b[39m\u001b[38;5;124m\"\u001b[39m)\n",
            "\u001b[1;31mValueError\u001b[0m: cannot insert level_0, already exists"
          ]
        }
      ],
      "source": [
        "df5.reset_index()"
      ]
    },
    {
      "cell_type": "code",
      "execution_count": null,
      "metadata": {
        "id": "Y63-m4CYZzl_"
      },
      "outputs": [],
      "source": []
    },
    {
      "cell_type": "markdown",
      "metadata": {
        "id": "ub8Wgro_Zzl_"
      },
      "source": [
        "## Pandas Lecture 2"
      ]
    },
    {
      "cell_type": "markdown",
      "metadata": {
        "id": "GxJfqUrKZzmA"
      },
      "source": [
        "# Combining data frames\n",
        "\n",
        "The ways dataframes are combined in pandas is similar to SQL\n",
        "\n",
        "We will examine 3 methods for combining dataframes\n",
        "\n",
        "1. concat\n",
        "2. join\n",
        "3. merge"
      ]
    },
    {
      "cell_type": "code",
      "execution_count": null,
      "metadata": {
        "id": "e66pfZvzZzmA"
      },
      "outputs": [],
      "source": [
        "\n",
        "\n",
        "df7 = pd.DataFrame({\"customer\":['101','102','103','104'],\n",
        "                    'category': ['cat2','cat2','cat1','cat3'],\n",
        "                    'important': ['yes','no','yes','yes'],\n",
        "                    'sales': [123,52,214,663]},index=[0,1,2,3])\n",
        "\n",
        "df8 = pd.DataFrame({\"customer\":['101','103','104','105'],\n",
        "                    'color': ['yellow','green','green','blue'],\n",
        "                    'distance': [12,9,44,21],\n",
        "                    'sales': [123,214,663,331]},index=[4,5,6,7])\n",
        "\n",
        "#list of tuples\n"
      ]
    },
    {
      "cell_type": "code",
      "execution_count": null,
      "metadata": {
        "scrolled": true,
        "id": "sNsYyiJgZzmA",
        "outputId": "6215f00d-5e88-4bd3-836b-82b5a90c61b0"
      },
      "outputs": [
        {
          "name": "stdout",
          "output_type": "stream",
          "text": [
            "  customer category important  sales\n",
            "0      101     cat2       yes    123\n",
            "1      102     cat2        no     52\n",
            "2      103     cat1       yes    214\n",
            "3      104     cat3       yes    663\n",
            "\n",
            "  customer   color  distance  sales\n",
            "4      101  yellow        12    123\n",
            "5      103   green         9    214\n",
            "6      104   green        44    663\n",
            "7      105    blue        21    331\n"
          ]
        }
      ],
      "source": [
        "print(df7)\n",
        "print('')\n",
        "print(df8)"
      ]
    },
    {
      "cell_type": "code",
      "execution_count": null,
      "metadata": {
        "id": "uksGoAGxZzmA",
        "outputId": "d8a44e70-8276-4c09-994b-1a02f10076da"
      },
      "outputs": [
        {
          "data": {
            "text/html": [
              "<div>\n",
              "<style scoped>\n",
              "    .dataframe tbody tr th:only-of-type {\n",
              "        vertical-align: middle;\n",
              "    }\n",
              "\n",
              "    .dataframe tbody tr th {\n",
              "        vertical-align: top;\n",
              "    }\n",
              "\n",
              "    .dataframe thead th {\n",
              "        text-align: right;\n",
              "    }\n",
              "</style>\n",
              "<table border=\"1\" class=\"dataframe\">\n",
              "  <thead>\n",
              "    <tr style=\"text-align: right;\">\n",
              "      <th></th>\n",
              "      <th>customer</th>\n",
              "      <th>category</th>\n",
              "      <th>important</th>\n",
              "      <th>sales</th>\n",
              "    </tr>\n",
              "  </thead>\n",
              "  <tbody>\n",
              "    <tr>\n",
              "      <th>0</th>\n",
              "      <td>101</td>\n",
              "      <td>cat2</td>\n",
              "      <td>yes</td>\n",
              "      <td>123</td>\n",
              "    </tr>\n",
              "    <tr>\n",
              "      <th>1</th>\n",
              "      <td>102</td>\n",
              "      <td>cat2</td>\n",
              "      <td>no</td>\n",
              "      <td>52</td>\n",
              "    </tr>\n",
              "    <tr>\n",
              "      <th>2</th>\n",
              "      <td>103</td>\n",
              "      <td>cat1</td>\n",
              "      <td>yes</td>\n",
              "      <td>214</td>\n",
              "    </tr>\n",
              "    <tr>\n",
              "      <th>3</th>\n",
              "      <td>104</td>\n",
              "      <td>cat3</td>\n",
              "      <td>yes</td>\n",
              "      <td>663</td>\n",
              "    </tr>\n",
              "  </tbody>\n",
              "</table>\n",
              "</div>"
            ],
            "text/plain": [
              "  customer category important  sales\n",
              "0      101     cat2       yes    123\n",
              "1      102     cat2        no     52\n",
              "2      103     cat1       yes    214\n",
              "3      104     cat3       yes    663"
            ]
          },
          "execution_count": 114,
          "metadata": {},
          "output_type": "execute_result"
        }
      ],
      "source": [
        "df7"
      ]
    },
    {
      "cell_type": "code",
      "execution_count": null,
      "metadata": {
        "id": "nlvTktkMZzmA",
        "outputId": "1905a65a-6099-4084-a484-267ca3a29886"
      },
      "outputs": [
        {
          "data": {
            "text/html": [
              "<div>\n",
              "<style scoped>\n",
              "    .dataframe tbody tr th:only-of-type {\n",
              "        vertical-align: middle;\n",
              "    }\n",
              "\n",
              "    .dataframe tbody tr th {\n",
              "        vertical-align: top;\n",
              "    }\n",
              "\n",
              "    .dataframe thead th {\n",
              "        text-align: right;\n",
              "    }\n",
              "</style>\n",
              "<table border=\"1\" class=\"dataframe\">\n",
              "  <thead>\n",
              "    <tr style=\"text-align: right;\">\n",
              "      <th></th>\n",
              "      <th>customer</th>\n",
              "      <th>category</th>\n",
              "      <th>important</th>\n",
              "      <th>sales</th>\n",
              "      <th>color</th>\n",
              "      <th>distance</th>\n",
              "    </tr>\n",
              "  </thead>\n",
              "  <tbody>\n",
              "    <tr>\n",
              "      <th>0</th>\n",
              "      <td>101</td>\n",
              "      <td>cat2</td>\n",
              "      <td>yes</td>\n",
              "      <td>123</td>\n",
              "      <td>NaN</td>\n",
              "      <td>NaN</td>\n",
              "    </tr>\n",
              "    <tr>\n",
              "      <th>1</th>\n",
              "      <td>102</td>\n",
              "      <td>cat2</td>\n",
              "      <td>no</td>\n",
              "      <td>52</td>\n",
              "      <td>NaN</td>\n",
              "      <td>NaN</td>\n",
              "    </tr>\n",
              "    <tr>\n",
              "      <th>2</th>\n",
              "      <td>103</td>\n",
              "      <td>cat1</td>\n",
              "      <td>yes</td>\n",
              "      <td>214</td>\n",
              "      <td>NaN</td>\n",
              "      <td>NaN</td>\n",
              "    </tr>\n",
              "    <tr>\n",
              "      <th>3</th>\n",
              "      <td>104</td>\n",
              "      <td>cat3</td>\n",
              "      <td>yes</td>\n",
              "      <td>663</td>\n",
              "      <td>NaN</td>\n",
              "      <td>NaN</td>\n",
              "    </tr>\n",
              "    <tr>\n",
              "      <th>4</th>\n",
              "      <td>101</td>\n",
              "      <td>NaN</td>\n",
              "      <td>NaN</td>\n",
              "      <td>123</td>\n",
              "      <td>yellow</td>\n",
              "      <td>12.0</td>\n",
              "    </tr>\n",
              "    <tr>\n",
              "      <th>5</th>\n",
              "      <td>103</td>\n",
              "      <td>NaN</td>\n",
              "      <td>NaN</td>\n",
              "      <td>214</td>\n",
              "      <td>green</td>\n",
              "      <td>9.0</td>\n",
              "    </tr>\n",
              "    <tr>\n",
              "      <th>6</th>\n",
              "      <td>104</td>\n",
              "      <td>NaN</td>\n",
              "      <td>NaN</td>\n",
              "      <td>663</td>\n",
              "      <td>green</td>\n",
              "      <td>44.0</td>\n",
              "    </tr>\n",
              "    <tr>\n",
              "      <th>7</th>\n",
              "      <td>105</td>\n",
              "      <td>NaN</td>\n",
              "      <td>NaN</td>\n",
              "      <td>331</td>\n",
              "      <td>blue</td>\n",
              "      <td>21.0</td>\n",
              "    </tr>\n",
              "  </tbody>\n",
              "</table>\n",
              "</div>"
            ],
            "text/plain": [
              "  customer category important  sales   color  distance\n",
              "0      101     cat2       yes    123     NaN       NaN\n",
              "1      102     cat2        no     52     NaN       NaN\n",
              "2      103     cat1       yes    214     NaN       NaN\n",
              "3      104     cat3       yes    663     NaN       NaN\n",
              "4      101      NaN       NaN    123  yellow      12.0\n",
              "5      103      NaN       NaN    214   green       9.0\n",
              "6      104      NaN       NaN    663   green      44.0\n",
              "7      105      NaN       NaN    331    blue      21.0"
            ]
          },
          "execution_count": 111,
          "metadata": {},
          "output_type": "execute_result"
        }
      ],
      "source": [
        "pd.concat([df7,df8],axis=0,sort=False)"
      ]
    },
    {
      "cell_type": "code",
      "execution_count": null,
      "metadata": {
        "id": "cU1fVLvaZzmA",
        "outputId": "9044733d-923c-435e-fa5b-338c96b80f1c"
      },
      "outputs": [
        {
          "data": {
            "text/html": [
              "<div>\n",
              "<style scoped>\n",
              "    .dataframe tbody tr th:only-of-type {\n",
              "        vertical-align: middle;\n",
              "    }\n",
              "\n",
              "    .dataframe tbody tr th {\n",
              "        vertical-align: top;\n",
              "    }\n",
              "\n",
              "    .dataframe thead th {\n",
              "        text-align: right;\n",
              "    }\n",
              "</style>\n",
              "<table border=\"1\" class=\"dataframe\">\n",
              "  <thead>\n",
              "    <tr style=\"text-align: right;\">\n",
              "      <th></th>\n",
              "      <th>customer</th>\n",
              "      <th>category</th>\n",
              "      <th>important</th>\n",
              "      <th>sales</th>\n",
              "      <th>customer</th>\n",
              "      <th>color</th>\n",
              "      <th>distance</th>\n",
              "      <th>sales</th>\n",
              "    </tr>\n",
              "  </thead>\n",
              "  <tbody>\n",
              "    <tr>\n",
              "      <th>0</th>\n",
              "      <td>101</td>\n",
              "      <td>cat2</td>\n",
              "      <td>yes</td>\n",
              "      <td>123.0</td>\n",
              "      <td>NaN</td>\n",
              "      <td>NaN</td>\n",
              "      <td>NaN</td>\n",
              "      <td>NaN</td>\n",
              "    </tr>\n",
              "    <tr>\n",
              "      <th>1</th>\n",
              "      <td>102</td>\n",
              "      <td>cat2</td>\n",
              "      <td>no</td>\n",
              "      <td>52.0</td>\n",
              "      <td>NaN</td>\n",
              "      <td>NaN</td>\n",
              "      <td>NaN</td>\n",
              "      <td>NaN</td>\n",
              "    </tr>\n",
              "    <tr>\n",
              "      <th>2</th>\n",
              "      <td>103</td>\n",
              "      <td>cat1</td>\n",
              "      <td>yes</td>\n",
              "      <td>214.0</td>\n",
              "      <td>NaN</td>\n",
              "      <td>NaN</td>\n",
              "      <td>NaN</td>\n",
              "      <td>NaN</td>\n",
              "    </tr>\n",
              "    <tr>\n",
              "      <th>3</th>\n",
              "      <td>104</td>\n",
              "      <td>cat3</td>\n",
              "      <td>yes</td>\n",
              "      <td>663.0</td>\n",
              "      <td>NaN</td>\n",
              "      <td>NaN</td>\n",
              "      <td>NaN</td>\n",
              "      <td>NaN</td>\n",
              "    </tr>\n",
              "    <tr>\n",
              "      <th>4</th>\n",
              "      <td>NaN</td>\n",
              "      <td>NaN</td>\n",
              "      <td>NaN</td>\n",
              "      <td>NaN</td>\n",
              "      <td>101</td>\n",
              "      <td>yellow</td>\n",
              "      <td>12.0</td>\n",
              "      <td>123.0</td>\n",
              "    </tr>\n",
              "    <tr>\n",
              "      <th>5</th>\n",
              "      <td>NaN</td>\n",
              "      <td>NaN</td>\n",
              "      <td>NaN</td>\n",
              "      <td>NaN</td>\n",
              "      <td>103</td>\n",
              "      <td>green</td>\n",
              "      <td>9.0</td>\n",
              "      <td>214.0</td>\n",
              "    </tr>\n",
              "    <tr>\n",
              "      <th>6</th>\n",
              "      <td>NaN</td>\n",
              "      <td>NaN</td>\n",
              "      <td>NaN</td>\n",
              "      <td>NaN</td>\n",
              "      <td>104</td>\n",
              "      <td>green</td>\n",
              "      <td>44.0</td>\n",
              "      <td>663.0</td>\n",
              "    </tr>\n",
              "    <tr>\n",
              "      <th>7</th>\n",
              "      <td>NaN</td>\n",
              "      <td>NaN</td>\n",
              "      <td>NaN</td>\n",
              "      <td>NaN</td>\n",
              "      <td>105</td>\n",
              "      <td>blue</td>\n",
              "      <td>21.0</td>\n",
              "      <td>331.0</td>\n",
              "    </tr>\n",
              "  </tbody>\n",
              "</table>\n",
              "</div>"
            ],
            "text/plain": [
              "  customer category important  sales customer   color  distance  sales\n",
              "0      101     cat2       yes  123.0      NaN     NaN       NaN    NaN\n",
              "1      102     cat2        no   52.0      NaN     NaN       NaN    NaN\n",
              "2      103     cat1       yes  214.0      NaN     NaN       NaN    NaN\n",
              "3      104     cat3       yes  663.0      NaN     NaN       NaN    NaN\n",
              "4      NaN      NaN       NaN    NaN      101  yellow      12.0  123.0\n",
              "5      NaN      NaN       NaN    NaN      103   green       9.0  214.0\n",
              "6      NaN      NaN       NaN    NaN      104   green      44.0  663.0\n",
              "7      NaN      NaN       NaN    NaN      105    blue      21.0  331.0"
            ]
          },
          "execution_count": 113,
          "metadata": {},
          "output_type": "execute_result"
        }
      ],
      "source": [
        "pd.concat([df7,df8],axis=1,sort=True)"
      ]
    },
    {
      "cell_type": "code",
      "execution_count": null,
      "metadata": {
        "id": "F7NUMIpiZzmA",
        "outputId": "07f7f967-ae0a-45ac-c20d-46c2dcd45121"
      },
      "outputs": [
        {
          "data": {
            "text/html": [
              "<div>\n",
              "<style scoped>\n",
              "    .dataframe tbody tr th:only-of-type {\n",
              "        vertical-align: middle;\n",
              "    }\n",
              "\n",
              "    .dataframe tbody tr th {\n",
              "        vertical-align: top;\n",
              "    }\n",
              "\n",
              "    .dataframe thead th {\n",
              "        text-align: right;\n",
              "    }\n",
              "</style>\n",
              "<table border=\"1\" class=\"dataframe\">\n",
              "  <thead>\n",
              "    <tr style=\"text-align: right;\">\n",
              "      <th></th>\n",
              "      <th>customer</th>\n",
              "      <th>category</th>\n",
              "      <th>important</th>\n",
              "      <th>sales</th>\n",
              "      <th>customer</th>\n",
              "      <th>color</th>\n",
              "      <th>distance</th>\n",
              "      <th>sales</th>\n",
              "    </tr>\n",
              "  </thead>\n",
              "  <tbody>\n",
              "    <tr>\n",
              "      <th>0</th>\n",
              "      <td>101</td>\n",
              "      <td>cat2</td>\n",
              "      <td>yes</td>\n",
              "      <td>123.0</td>\n",
              "      <td>NaN</td>\n",
              "      <td>NaN</td>\n",
              "      <td>NaN</td>\n",
              "      <td>NaN</td>\n",
              "    </tr>\n",
              "    <tr>\n",
              "      <th>1</th>\n",
              "      <td>102</td>\n",
              "      <td>cat2</td>\n",
              "      <td>no</td>\n",
              "      <td>52.0</td>\n",
              "      <td>NaN</td>\n",
              "      <td>NaN</td>\n",
              "      <td>NaN</td>\n",
              "      <td>NaN</td>\n",
              "    </tr>\n",
              "    <tr>\n",
              "      <th>2</th>\n",
              "      <td>103</td>\n",
              "      <td>cat1</td>\n",
              "      <td>yes</td>\n",
              "      <td>214.0</td>\n",
              "      <td>NaN</td>\n",
              "      <td>NaN</td>\n",
              "      <td>NaN</td>\n",
              "      <td>NaN</td>\n",
              "    </tr>\n",
              "    <tr>\n",
              "      <th>3</th>\n",
              "      <td>104</td>\n",
              "      <td>cat3</td>\n",
              "      <td>yes</td>\n",
              "      <td>663.0</td>\n",
              "      <td>NaN</td>\n",
              "      <td>NaN</td>\n",
              "      <td>NaN</td>\n",
              "      <td>NaN</td>\n",
              "    </tr>\n",
              "    <tr>\n",
              "      <th>4</th>\n",
              "      <td>NaN</td>\n",
              "      <td>NaN</td>\n",
              "      <td>NaN</td>\n",
              "      <td>NaN</td>\n",
              "      <td>101</td>\n",
              "      <td>yellow</td>\n",
              "      <td>12.0</td>\n",
              "      <td>123.0</td>\n",
              "    </tr>\n",
              "    <tr>\n",
              "      <th>5</th>\n",
              "      <td>NaN</td>\n",
              "      <td>NaN</td>\n",
              "      <td>NaN</td>\n",
              "      <td>NaN</td>\n",
              "      <td>103</td>\n",
              "      <td>green</td>\n",
              "      <td>9.0</td>\n",
              "      <td>214.0</td>\n",
              "    </tr>\n",
              "    <tr>\n",
              "      <th>6</th>\n",
              "      <td>NaN</td>\n",
              "      <td>NaN</td>\n",
              "      <td>NaN</td>\n",
              "      <td>NaN</td>\n",
              "      <td>104</td>\n",
              "      <td>green</td>\n",
              "      <td>44.0</td>\n",
              "      <td>663.0</td>\n",
              "    </tr>\n",
              "    <tr>\n",
              "      <th>7</th>\n",
              "      <td>NaN</td>\n",
              "      <td>NaN</td>\n",
              "      <td>NaN</td>\n",
              "      <td>NaN</td>\n",
              "      <td>105</td>\n",
              "      <td>blue</td>\n",
              "      <td>21.0</td>\n",
              "      <td>331.0</td>\n",
              "    </tr>\n",
              "  </tbody>\n",
              "</table>\n",
              "</div>"
            ],
            "text/plain": [
              "  customer category important  sales customer   color  distance  sales\n",
              "0      101     cat2       yes  123.0      NaN     NaN       NaN    NaN\n",
              "1      102     cat2        no   52.0      NaN     NaN       NaN    NaN\n",
              "2      103     cat1       yes  214.0      NaN     NaN       NaN    NaN\n",
              "3      104     cat3       yes  663.0      NaN     NaN       NaN    NaN\n",
              "4      NaN      NaN       NaN    NaN      101  yellow      12.0  123.0\n",
              "5      NaN      NaN       NaN    NaN      103   green       9.0  214.0\n",
              "6      NaN      NaN       NaN    NaN      104   green      44.0  663.0\n",
              "7      NaN      NaN       NaN    NaN      105    blue      21.0  331.0"
            ]
          },
          "execution_count": 106,
          "metadata": {},
          "output_type": "execute_result"
        }
      ],
      "source": [
        "pd.concat([df7,df8],axis=1,sort=False)"
      ]
    },
    {
      "cell_type": "markdown",
      "metadata": {
        "id": "D4mHgShaZzmA"
      },
      "source": [
        "# Merge and Join\n",
        "\n",
        "Merge combines dataframes using a column's values to identify common entries\n",
        "\n",
        "Join combines dataframes using the index to identify common entries"
      ]
    },
    {
      "cell_type": "code",
      "execution_count": null,
      "metadata": {
        "id": "ggrDglUbZzmB",
        "outputId": "b02bf829-fe81-4bd4-afc7-2ff7fa5da2e2"
      },
      "outputs": [
        {
          "data": {
            "text/html": [
              "<div>\n",
              "<style scoped>\n",
              "    .dataframe tbody tr th:only-of-type {\n",
              "        vertical-align: middle;\n",
              "    }\n",
              "\n",
              "    .dataframe tbody tr th {\n",
              "        vertical-align: top;\n",
              "    }\n",
              "\n",
              "    .dataframe thead th {\n",
              "        text-align: right;\n",
              "    }\n",
              "</style>\n",
              "<table border=\"1\" class=\"dataframe\">\n",
              "  <thead>\n",
              "    <tr style=\"text-align: right;\">\n",
              "      <th></th>\n",
              "      <th>customer</th>\n",
              "      <th>category</th>\n",
              "      <th>important</th>\n",
              "      <th>sales</th>\n",
              "      <th>color</th>\n",
              "      <th>distance</th>\n",
              "    </tr>\n",
              "  </thead>\n",
              "  <tbody>\n",
              "    <tr>\n",
              "      <th>0</th>\n",
              "      <td>101</td>\n",
              "      <td>cat2</td>\n",
              "      <td>yes</td>\n",
              "      <td>123</td>\n",
              "      <td>yellow</td>\n",
              "      <td>12.0</td>\n",
              "    </tr>\n",
              "    <tr>\n",
              "      <th>1</th>\n",
              "      <td>102</td>\n",
              "      <td>cat2</td>\n",
              "      <td>no</td>\n",
              "      <td>52</td>\n",
              "      <td>NaN</td>\n",
              "      <td>NaN</td>\n",
              "    </tr>\n",
              "    <tr>\n",
              "      <th>2</th>\n",
              "      <td>103</td>\n",
              "      <td>cat1</td>\n",
              "      <td>yes</td>\n",
              "      <td>214</td>\n",
              "      <td>green</td>\n",
              "      <td>9.0</td>\n",
              "    </tr>\n",
              "    <tr>\n",
              "      <th>3</th>\n",
              "      <td>104</td>\n",
              "      <td>cat3</td>\n",
              "      <td>yes</td>\n",
              "      <td>663</td>\n",
              "      <td>green</td>\n",
              "      <td>44.0</td>\n",
              "    </tr>\n",
              "  </tbody>\n",
              "</table>\n",
              "</div>"
            ],
            "text/plain": [
              "  customer category important  sales   color  distance\n",
              "0      101     cat2       yes    123  yellow      12.0\n",
              "1      102     cat2        no     52     NaN       NaN\n",
              "2      103     cat1       yes    214   green       9.0\n",
              "3      104     cat3       yes    663   green      44.0"
            ]
          },
          "execution_count": 116,
          "metadata": {},
          "output_type": "execute_result"
        }
      ],
      "source": [
        "pd.merge(df7,df8,how='left',on=['customer','sales']) # outer merge is union of on"
      ]
    },
    {
      "cell_type": "code",
      "execution_count": null,
      "metadata": {
        "id": "9fE-Z8Y7ZzmB",
        "outputId": "b97b7dd6-44c7-4d16-a901-eaaa758329c0"
      },
      "outputs": [
        {
          "data": {
            "text/html": [
              "<div>\n",
              "<style scoped>\n",
              "    .dataframe tbody tr th:only-of-type {\n",
              "        vertical-align: middle;\n",
              "    }\n",
              "\n",
              "    .dataframe tbody tr th {\n",
              "        vertical-align: top;\n",
              "    }\n",
              "\n",
              "    .dataframe thead th {\n",
              "        text-align: right;\n",
              "    }\n",
              "</style>\n",
              "<table border=\"1\" class=\"dataframe\">\n",
              "  <thead>\n",
              "    <tr style=\"text-align: right;\">\n",
              "      <th></th>\n",
              "      <th>customer</th>\n",
              "      <th>category</th>\n",
              "      <th>important</th>\n",
              "      <th>sales_x</th>\n",
              "      <th>color</th>\n",
              "      <th>distance</th>\n",
              "      <th>sales_y</th>\n",
              "    </tr>\n",
              "  </thead>\n",
              "  <tbody>\n",
              "    <tr>\n",
              "      <th>0</th>\n",
              "      <td>101</td>\n",
              "      <td>cat2</td>\n",
              "      <td>yes</td>\n",
              "      <td>123</td>\n",
              "      <td>yellow</td>\n",
              "      <td>12</td>\n",
              "      <td>123</td>\n",
              "    </tr>\n",
              "    <tr>\n",
              "      <th>1</th>\n",
              "      <td>103</td>\n",
              "      <td>cat1</td>\n",
              "      <td>yes</td>\n",
              "      <td>214</td>\n",
              "      <td>green</td>\n",
              "      <td>9</td>\n",
              "      <td>214</td>\n",
              "    </tr>\n",
              "    <tr>\n",
              "      <th>2</th>\n",
              "      <td>104</td>\n",
              "      <td>cat3</td>\n",
              "      <td>yes</td>\n",
              "      <td>663</td>\n",
              "      <td>green</td>\n",
              "      <td>44</td>\n",
              "      <td>663</td>\n",
              "    </tr>\n",
              "  </tbody>\n",
              "</table>\n",
              "</div>"
            ],
            "text/plain": [
              "  customer category important  sales_x   color  distance  sales_y\n",
              "0      101     cat2       yes      123  yellow        12      123\n",
              "1      103     cat1       yes      214   green         9      214\n",
              "2      104     cat3       yes      663   green        44      663"
            ]
          },
          "execution_count": 117,
          "metadata": {},
          "output_type": "execute_result"
        }
      ],
      "source": [
        "pd.merge(df7,df8,how='inner',on='customer') # inner merge is intersection of on"
      ]
    },
    {
      "cell_type": "code",
      "execution_count": null,
      "metadata": {
        "scrolled": false,
        "id": "7Y8mZgCPZzmB",
        "outputId": "9b5a8fc3-116f-4710-f697-8bc5cb6f6b1b"
      },
      "outputs": [
        {
          "data": {
            "text/html": [
              "<div>\n",
              "<style scoped>\n",
              "    .dataframe tbody tr th:only-of-type {\n",
              "        vertical-align: middle;\n",
              "    }\n",
              "\n",
              "    .dataframe tbody tr th {\n",
              "        vertical-align: top;\n",
              "    }\n",
              "\n",
              "    .dataframe thead th {\n",
              "        text-align: right;\n",
              "    }\n",
              "</style>\n",
              "<table border=\"1\" class=\"dataframe\">\n",
              "  <thead>\n",
              "    <tr style=\"text-align: right;\">\n",
              "      <th></th>\n",
              "      <th>customer</th>\n",
              "      <th>category</th>\n",
              "      <th>important</th>\n",
              "      <th>sales_x</th>\n",
              "      <th>color</th>\n",
              "      <th>distance</th>\n",
              "      <th>sales_y</th>\n",
              "    </tr>\n",
              "  </thead>\n",
              "  <tbody>\n",
              "    <tr>\n",
              "      <th>0</th>\n",
              "      <td>101</td>\n",
              "      <td>cat2</td>\n",
              "      <td>yes</td>\n",
              "      <td>123.0</td>\n",
              "      <td>yellow</td>\n",
              "      <td>12</td>\n",
              "      <td>123</td>\n",
              "    </tr>\n",
              "    <tr>\n",
              "      <th>1</th>\n",
              "      <td>103</td>\n",
              "      <td>cat1</td>\n",
              "      <td>yes</td>\n",
              "      <td>214.0</td>\n",
              "      <td>green</td>\n",
              "      <td>9</td>\n",
              "      <td>214</td>\n",
              "    </tr>\n",
              "    <tr>\n",
              "      <th>2</th>\n",
              "      <td>104</td>\n",
              "      <td>cat3</td>\n",
              "      <td>yes</td>\n",
              "      <td>663.0</td>\n",
              "      <td>green</td>\n",
              "      <td>44</td>\n",
              "      <td>663</td>\n",
              "    </tr>\n",
              "    <tr>\n",
              "      <th>3</th>\n",
              "      <td>105</td>\n",
              "      <td>NaN</td>\n",
              "      <td>NaN</td>\n",
              "      <td>NaN</td>\n",
              "      <td>blue</td>\n",
              "      <td>21</td>\n",
              "      <td>331</td>\n",
              "    </tr>\n",
              "  </tbody>\n",
              "</table>\n",
              "</div>"
            ],
            "text/plain": [
              "  customer category important  sales_x   color  distance  sales_y\n",
              "0      101     cat2       yes    123.0  yellow        12      123\n",
              "1      103     cat1       yes    214.0   green         9      214\n",
              "2      104     cat3       yes    663.0   green        44      663\n",
              "3      105      NaN       NaN      NaN    blue        21      331"
            ]
          },
          "execution_count": 118,
          "metadata": {},
          "output_type": "execute_result"
        }
      ],
      "source": [
        "pd.merge(df7,df8,'right','customer') # left merge is just first on, but all columns ... right is second"
      ]
    },
    {
      "cell_type": "code",
      "execution_count": null,
      "metadata": {
        "id": "YVrZOLVsZzmB",
        "outputId": "164bb8e7-fd0a-4960-9674-a1449da05c6f"
      },
      "outputs": [
        {
          "data": {
            "text/html": [
              "<div>\n",
              "<style scoped>\n",
              "    .dataframe tbody tr th:only-of-type {\n",
              "        vertical-align: middle;\n",
              "    }\n",
              "\n",
              "    .dataframe tbody tr th {\n",
              "        vertical-align: top;\n",
              "    }\n",
              "\n",
              "    .dataframe thead th {\n",
              "        text-align: right;\n",
              "    }\n",
              "</style>\n",
              "<table border=\"1\" class=\"dataframe\">\n",
              "  <thead>\n",
              "    <tr style=\"text-align: right;\">\n",
              "      <th></th>\n",
              "      <th>customer</th>\n",
              "      <th>category</th>\n",
              "      <th>important</th>\n",
              "      <th>sales_x</th>\n",
              "      <th>color</th>\n",
              "      <th>distance</th>\n",
              "      <th>sales_y</th>\n",
              "    </tr>\n",
              "  </thead>\n",
              "  <tbody>\n",
              "    <tr>\n",
              "      <th>0</th>\n",
              "      <td>101</td>\n",
              "      <td>cat2</td>\n",
              "      <td>yes</td>\n",
              "      <td>123.0</td>\n",
              "      <td>yellow</td>\n",
              "      <td>12.0</td>\n",
              "      <td>123.0</td>\n",
              "    </tr>\n",
              "    <tr>\n",
              "      <th>1</th>\n",
              "      <td>102</td>\n",
              "      <td>cat2</td>\n",
              "      <td>no</td>\n",
              "      <td>52.0</td>\n",
              "      <td>NaN</td>\n",
              "      <td>NaN</td>\n",
              "      <td>NaN</td>\n",
              "    </tr>\n",
              "    <tr>\n",
              "      <th>2</th>\n",
              "      <td>103</td>\n",
              "      <td>cat1</td>\n",
              "      <td>yes</td>\n",
              "      <td>214.0</td>\n",
              "      <td>green</td>\n",
              "      <td>9.0</td>\n",
              "      <td>214.0</td>\n",
              "    </tr>\n",
              "    <tr>\n",
              "      <th>3</th>\n",
              "      <td>104</td>\n",
              "      <td>cat3</td>\n",
              "      <td>yes</td>\n",
              "      <td>663.0</td>\n",
              "      <td>green</td>\n",
              "      <td>44.0</td>\n",
              "      <td>663.0</td>\n",
              "    </tr>\n",
              "    <tr>\n",
              "      <th>4</th>\n",
              "      <td>105</td>\n",
              "      <td>NaN</td>\n",
              "      <td>NaN</td>\n",
              "      <td>NaN</td>\n",
              "      <td>blue</td>\n",
              "      <td>21.0</td>\n",
              "      <td>331.0</td>\n",
              "    </tr>\n",
              "  </tbody>\n",
              "</table>\n",
              "</div>"
            ],
            "text/plain": [
              "  customer category important  sales_x   color  distance  sales_y\n",
              "0      101     cat2       yes    123.0  yellow      12.0    123.0\n",
              "1      102     cat2        no     52.0     NaN       NaN      NaN\n",
              "2      103     cat1       yes    214.0   green       9.0    214.0\n",
              "3      104     cat3       yes    663.0   green      44.0    663.0\n",
              "4      105      NaN       NaN      NaN    blue      21.0    331.0"
            ]
          },
          "execution_count": 119,
          "metadata": {},
          "output_type": "execute_result"
        }
      ],
      "source": [
        "pd.merge(df7,df8,'outer','customer') # left merge is just first on, but all columns ... right is second"
      ]
    },
    {
      "cell_type": "code",
      "execution_count": null,
      "metadata": {
        "id": "LvbRGWRsZzmB"
      },
      "outputs": [],
      "source": [
        "df9 = pd.DataFrame({'Q1': [101,102,103],\n",
        "                    'Q2': [201,202,203]},\n",
        "                   index=['I0','I1','I2'])\n",
        "\n",
        "df10 = pd.DataFrame({'Q3': [301,302,303],\n",
        "                    'Q4': [401,402,403]},\n",
        "                   index=['I0','I2','I3'])"
      ]
    },
    {
      "cell_type": "code",
      "execution_count": null,
      "metadata": {
        "id": "0wbBkGKvZzmB",
        "outputId": "607889fb-0694-4bd3-b622-c087c510913d"
      },
      "outputs": [
        {
          "name": "stdout",
          "output_type": "stream",
          "text": [
            "     Q1   Q2\n",
            "I0  101  201\n",
            "I1  102  202\n",
            "I2  103  203\n",
            "\n",
            "     Q3   Q4\n",
            "I0  301  401\n",
            "I2  302  402\n",
            "I3  303  403\n"
          ]
        }
      ],
      "source": [
        "print(df9)\n",
        "print('')\n",
        "print(df10)"
      ]
    },
    {
      "cell_type": "code",
      "execution_count": null,
      "metadata": {
        "id": "wycccn_WZzmB",
        "outputId": "a6432269-fa85-4d99-c2d8-c307a14bc74e"
      },
      "outputs": [
        {
          "data": {
            "text/html": [
              "<div>\n",
              "<style scoped>\n",
              "    .dataframe tbody tr th:only-of-type {\n",
              "        vertical-align: middle;\n",
              "    }\n",
              "\n",
              "    .dataframe tbody tr th {\n",
              "        vertical-align: top;\n",
              "    }\n",
              "\n",
              "    .dataframe thead th {\n",
              "        text-align: right;\n",
              "    }\n",
              "</style>\n",
              "<table border=\"1\" class=\"dataframe\">\n",
              "  <thead>\n",
              "    <tr style=\"text-align: right;\">\n",
              "      <th></th>\n",
              "      <th>Q1</th>\n",
              "      <th>Q2</th>\n",
              "      <th>Q3</th>\n",
              "      <th>Q4</th>\n",
              "    </tr>\n",
              "  </thead>\n",
              "  <tbody>\n",
              "    <tr>\n",
              "      <th>I0</th>\n",
              "      <td>101</td>\n",
              "      <td>201</td>\n",
              "      <td>301.0</td>\n",
              "      <td>401.0</td>\n",
              "    </tr>\n",
              "    <tr>\n",
              "      <th>I1</th>\n",
              "      <td>102</td>\n",
              "      <td>202</td>\n",
              "      <td>NaN</td>\n",
              "      <td>NaN</td>\n",
              "    </tr>\n",
              "    <tr>\n",
              "      <th>I2</th>\n",
              "      <td>103</td>\n",
              "      <td>203</td>\n",
              "      <td>302.0</td>\n",
              "      <td>402.0</td>\n",
              "    </tr>\n",
              "  </tbody>\n",
              "</table>\n",
              "</div>"
            ],
            "text/plain": [
              "     Q1   Q2     Q3     Q4\n",
              "I0  101  201  301.0  401.0\n",
              "I1  102  202    NaN    NaN\n",
              "I2  103  203  302.0  402.0"
            ]
          },
          "execution_count": 123,
          "metadata": {},
          "output_type": "execute_result"
        }
      ],
      "source": [
        "# join behaves just like merge,\n",
        "# except instead of using the values of one of the columns\n",
        "# to combine data frames, it uses the index labels\n",
        "df9.join(df10,how='left') # outer, inner, left, and right work the same as merge"
      ]
    },
    {
      "cell_type": "code",
      "execution_count": null,
      "metadata": {
        "scrolled": true,
        "id": "1yGZzREQZzmB",
        "outputId": "d29383ab-06f2-47f1-beec-c63d3477c2b7"
      },
      "outputs": [
        {
          "data": {
            "text/plain": [
              "4    yellow\n",
              "5     green\n",
              "6     green\n",
              "7      blue\n",
              "Name: color, dtype: object"
            ]
          },
          "execution_count": 127,
          "metadata": {},
          "output_type": "execute_result"
        }
      ],
      "source": [
        "df8['color']\n",
        "df8.color"
      ]
    },
    {
      "cell_type": "code",
      "execution_count": null,
      "metadata": {
        "id": "_ToXaQqMZzmC",
        "outputId": "91f73b1b-331c-4b8f-b184-ffe19deb9c55"
      },
      "outputs": [
        {
          "data": {
            "text/plain": [
              "3"
            ]
          },
          "execution_count": 134,
          "metadata": {},
          "output_type": "execute_result"
        }
      ],
      "source": [
        "df8.color.nunique()\n",
        "\n",
        "# - unique - gives all unique values\n",
        "# - unique() - output - np.array\n",
        "# - nunique() - number of unique values - len(df.color.unique())"
      ]
    },
    {
      "cell_type": "code",
      "execution_count": null,
      "metadata": {
        "id": "EirvFxTvZzmC",
        "outputId": "49489210-9b28-4d8b-f651-b8992b8bc6ae"
      },
      "outputs": [
        {
          "data": {
            "text/plain": [
              "123    1\n",
              "214    1\n",
              "663    1\n",
              "331    1\n",
              "Name: sales, dtype: int64"
            ]
          },
          "execution_count": 137,
          "metadata": {},
          "output_type": "execute_result"
        }
      ],
      "source": [
        "df8.sales.value_counts()\n",
        "# output - series"
      ]
    },
    {
      "cell_type": "code",
      "execution_count": null,
      "metadata": {
        "id": "9ieM6BLhZzmC",
        "outputId": "f2ee67c6-6145-4869-9146-24eda58d27ee"
      },
      "outputs": [
        {
          "data": {
            "text/plain": [
              "green     2\n",
              "yellow    1\n",
              "blue      1\n",
              "Name: color, dtype: int64"
            ]
          },
          "execution_count": 135,
          "metadata": {},
          "output_type": "execute_result"
        }
      ],
      "source": [
        "df8.color.value_counts()"
      ]
    },
    {
      "cell_type": "code",
      "execution_count": null,
      "metadata": {
        "id": "LOs9uBRsZzmC"
      },
      "outputs": [],
      "source": []
    },
    {
      "cell_type": "code",
      "execution_count": null,
      "metadata": {
        "id": "o3JWnRqaZzmC"
      },
      "outputs": [],
      "source": []
    },
    {
      "cell_type": "code",
      "execution_count": null,
      "metadata": {
        "id": "f4cfSC_oZzmC",
        "outputId": "d5858a13-3765-4b14-a603-1febd19a785c"
      },
      "outputs": [
        {
          "data": {
            "text/plain": [
              "array(['yellow', 'green', 'blue'], dtype=object)"
            ]
          },
          "execution_count": 47,
          "metadata": {},
          "output_type": "execute_result"
        }
      ],
      "source": [
        "df8['color'].unique()"
      ]
    },
    {
      "cell_type": "code",
      "execution_count": null,
      "metadata": {
        "id": "UuaaKU9MZzmC",
        "outputId": "1e192199-e905-4f5d-8099-e04c9c2a82b8"
      },
      "outputs": [
        {
          "data": {
            "text/plain": [
              "array(['yellow', 'green', 'blue'], dtype=object)"
            ]
          },
          "execution_count": 121,
          "metadata": {},
          "output_type": "execute_result"
        }
      ],
      "source": [
        "# let's now go over a few more basic functialities of pandas\n",
        "\n",
        "df8['color'].unique()"
      ]
    },
    {
      "cell_type": "code",
      "execution_count": null,
      "metadata": {
        "id": "S23JDggyZzmD",
        "outputId": "e1bf2502-bd1e-42a8-a115-591d071bc21c"
      },
      "outputs": [
        {
          "data": {
            "text/plain": [
              "green     2\n",
              "yellow    1\n",
              "blue      1\n",
              "Name: color, dtype: int64"
            ]
          },
          "execution_count": 48,
          "metadata": {},
          "output_type": "execute_result"
        }
      ],
      "source": [
        "df8['color'].value_counts()"
      ]
    },
    {
      "cell_type": "code",
      "execution_count": null,
      "metadata": {
        "id": "u3XNBiPKZzmD",
        "outputId": "9b6a0f9d-bdbf-4d09-dfc3-46968da971c5"
      },
      "outputs": [
        {
          "data": {
            "text/html": [
              "<div>\n",
              "<style scoped>\n",
              "    .dataframe tbody tr th:only-of-type {\n",
              "        vertical-align: middle;\n",
              "    }\n",
              "\n",
              "    .dataframe tbody tr th {\n",
              "        vertical-align: top;\n",
              "    }\n",
              "\n",
              "    .dataframe thead th {\n",
              "        text-align: right;\n",
              "    }\n",
              "</style>\n",
              "<table border=\"1\" class=\"dataframe\">\n",
              "  <thead>\n",
              "    <tr style=\"text-align: right;\">\n",
              "      <th></th>\n",
              "      <th>Q1</th>\n",
              "      <th>Q2</th>\n",
              "    </tr>\n",
              "  </thead>\n",
              "  <tbody>\n",
              "    <tr>\n",
              "      <th>I0</th>\n",
              "      <td>101</td>\n",
              "      <td>201</td>\n",
              "    </tr>\n",
              "    <tr>\n",
              "      <th>I1</th>\n",
              "      <td>102</td>\n",
              "      <td>202</td>\n",
              "    </tr>\n",
              "    <tr>\n",
              "      <th>I2</th>\n",
              "      <td>103</td>\n",
              "      <td>203</td>\n",
              "    </tr>\n",
              "  </tbody>\n",
              "</table>\n",
              "</div>"
            ],
            "text/plain": [
              "     Q1   Q2\n",
              "I0  101  201\n",
              "I1  102  202\n",
              "I2  103  203"
            ]
          },
          "execution_count": 138,
          "metadata": {},
          "output_type": "execute_result"
        }
      ],
      "source": [
        "df9"
      ]
    },
    {
      "cell_type": "code",
      "execution_count": null,
      "metadata": {
        "id": "vooGaE6DZzmD",
        "outputId": "6067460e-08b1-44b3-f191-d9d62a74c77c"
      },
      "outputs": [
        {
          "data": {
            "text/plain": [
              "Q1    102.0\n",
              "Q2    202.0\n",
              "dtype: float64"
            ]
          },
          "execution_count": 140,
          "metadata": {},
          "output_type": "execute_result"
        }
      ],
      "source": [
        "df9.mean(axis=0)"
      ]
    },
    {
      "cell_type": "code",
      "execution_count": null,
      "metadata": {
        "id": "WZuJ-h_7ZzmD"
      },
      "outputs": [],
      "source": []
    },
    {
      "cell_type": "code",
      "execution_count": null,
      "metadata": {
        "id": "Ek87I6RkZzmD"
      },
      "outputs": [],
      "source": []
    },
    {
      "cell_type": "code",
      "execution_count": null,
      "metadata": {
        "id": "esCieDRtZzmD"
      },
      "outputs": [],
      "source": []
    },
    {
      "cell_type": "code",
      "execution_count": null,
      "metadata": {
        "id": "Ii1FRJG9ZzmD"
      },
      "outputs": [],
      "source": []
    },
    {
      "cell_type": "code",
      "execution_count": null,
      "metadata": {
        "id": "3kqF5mqiZzmD",
        "outputId": "5d55fbed-45a7-4ad6-c309-d57dfc7c6d92"
      },
      "outputs": [
        {
          "data": {
            "text/plain": [
              "Q1    102.0\n",
              "Q2    202.0\n",
              "dtype: float64"
            ]
          },
          "execution_count": 54,
          "metadata": {},
          "output_type": "execute_result"
        }
      ],
      "source": [
        "df9.mean(axis=0)"
      ]
    },
    {
      "cell_type": "code",
      "execution_count": null,
      "metadata": {
        "id": "Xm5OLvPUZzmD",
        "outputId": "8e61b1eb-dfb6-4bce-996f-e3544eaa8e3f"
      },
      "outputs": [
        {
          "data": {
            "text/plain": [
              "Index(['customer', 'color', 'distance', 'sales'], dtype='object')"
            ]
          },
          "execution_count": 141,
          "metadata": {},
          "output_type": "execute_result"
        }
      ],
      "source": [
        "df8.columns"
      ]
    },
    {
      "cell_type": "code",
      "execution_count": null,
      "metadata": {
        "scrolled": true,
        "id": "Dc973N1AZzmD",
        "outputId": "b325543d-b123-4025-9dfd-88f05b9c866c"
      },
      "outputs": [
        {
          "data": {
            "text/plain": [
              "4    yellow\n",
              "5     green\n",
              "6     green\n",
              "7      blue\n",
              "Name: color, dtype: object"
            ]
          },
          "execution_count": 142,
          "metadata": {},
          "output_type": "execute_result"
        }
      ],
      "source": [
        "df8['color']"
      ]
    },
    {
      "cell_type": "code",
      "execution_count": null,
      "metadata": {
        "id": "uVItWdToZzmE",
        "outputId": "39d7713c-25bf-41bc-813e-f6fb96fa1520"
      },
      "outputs": [
        {
          "data": {
            "text/html": [
              "<div>\n",
              "<style scoped>\n",
              "    .dataframe tbody tr th:only-of-type {\n",
              "        vertical-align: middle;\n",
              "    }\n",
              "\n",
              "    .dataframe tbody tr th {\n",
              "        vertical-align: top;\n",
              "    }\n",
              "\n",
              "    .dataframe thead th {\n",
              "        text-align: right;\n",
              "    }\n",
              "</style>\n",
              "<table border=\"1\" class=\"dataframe\">\n",
              "  <thead>\n",
              "    <tr style=\"text-align: right;\">\n",
              "      <th></th>\n",
              "      <th>customer</th>\n",
              "      <th>color</th>\n",
              "      <th>distance</th>\n",
              "      <th>sales</th>\n",
              "    </tr>\n",
              "  </thead>\n",
              "  <tbody>\n",
              "    <tr>\n",
              "      <th>4</th>\n",
              "      <td>101</td>\n",
              "      <td>yellow</td>\n",
              "      <td>12</td>\n",
              "      <td>123</td>\n",
              "    </tr>\n",
              "    <tr>\n",
              "      <th>5</th>\n",
              "      <td>103</td>\n",
              "      <td>green</td>\n",
              "      <td>9</td>\n",
              "      <td>214</td>\n",
              "    </tr>\n",
              "    <tr>\n",
              "      <th>6</th>\n",
              "      <td>104</td>\n",
              "      <td>green</td>\n",
              "      <td>44</td>\n",
              "      <td>663</td>\n",
              "    </tr>\n",
              "    <tr>\n",
              "      <th>7</th>\n",
              "      <td>105</td>\n",
              "      <td>blue</td>\n",
              "      <td>21</td>\n",
              "      <td>331</td>\n",
              "    </tr>\n",
              "  </tbody>\n",
              "</table>\n",
              "</div>"
            ],
            "text/plain": [
              "  customer   color  distance  sales\n",
              "4      101  yellow        12    123\n",
              "5      103   green         9    214\n",
              "6      104   green        44    663\n",
              "7      105    blue        21    331"
            ]
          },
          "execution_count": 143,
          "metadata": {},
          "output_type": "execute_result"
        }
      ],
      "source": [
        "df8"
      ]
    },
    {
      "cell_type": "code",
      "execution_count": null,
      "metadata": {
        "scrolled": true,
        "id": "i70eLfs3ZzmE",
        "outputId": "a20a33aa-3872-42ac-e3f8-dbbb5f0f50a2"
      },
      "outputs": [
        {
          "data": {
            "text/html": [
              "<div>\n",
              "<style scoped>\n",
              "    .dataframe tbody tr th:only-of-type {\n",
              "        vertical-align: middle;\n",
              "    }\n",
              "\n",
              "    .dataframe tbody tr th {\n",
              "        vertical-align: top;\n",
              "    }\n",
              "\n",
              "    .dataframe thead th {\n",
              "        text-align: right;\n",
              "    }\n",
              "</style>\n",
              "<table border=\"1\" class=\"dataframe\">\n",
              "  <thead>\n",
              "    <tr style=\"text-align: right;\">\n",
              "      <th></th>\n",
              "      <th>customer</th>\n",
              "      <th>color</th>\n",
              "      <th>distance</th>\n",
              "      <th>sales</th>\n",
              "    </tr>\n",
              "  </thead>\n",
              "  <tbody>\n",
              "    <tr>\n",
              "      <th>5</th>\n",
              "      <td>103</td>\n",
              "      <td>green</td>\n",
              "      <td>9</td>\n",
              "      <td>214</td>\n",
              "    </tr>\n",
              "    <tr>\n",
              "      <th>6</th>\n",
              "      <td>104</td>\n",
              "      <td>green</td>\n",
              "      <td>44</td>\n",
              "      <td>663</td>\n",
              "    </tr>\n",
              "  </tbody>\n",
              "</table>\n",
              "</div>"
            ],
            "text/plain": [
              "  customer  color  distance  sales\n",
              "5      103  green         9    214\n",
              "6      104  green        44    663"
            ]
          },
          "execution_count": 144,
          "metadata": {},
          "output_type": "execute_result"
        }
      ],
      "source": [
        "# -- rows having color as green\n",
        "df8[df8.color=='green']"
      ]
    },
    {
      "cell_type": "code",
      "execution_count": null,
      "metadata": {
        "scrolled": true,
        "id": "SMVuA6NTZzmE",
        "outputId": "e3332e4a-5143-473e-ef18-4349c5a5059e"
      },
      "outputs": [
        {
          "data": {
            "text/html": [
              "<div>\n",
              "<style scoped>\n",
              "    .dataframe tbody tr th:only-of-type {\n",
              "        vertical-align: middle;\n",
              "    }\n",
              "\n",
              "    .dataframe tbody tr th {\n",
              "        vertical-align: top;\n",
              "    }\n",
              "\n",
              "    .dataframe thead th {\n",
              "        text-align: right;\n",
              "    }\n",
              "</style>\n",
              "<table border=\"1\" class=\"dataframe\">\n",
              "  <thead>\n",
              "    <tr style=\"text-align: right;\">\n",
              "      <th></th>\n",
              "      <th>color</th>\n",
              "      <th>distance</th>\n",
              "    </tr>\n",
              "  </thead>\n",
              "  <tbody>\n",
              "    <tr>\n",
              "      <th>6</th>\n",
              "      <td>green</td>\n",
              "      <td>44</td>\n",
              "    </tr>\n",
              "  </tbody>\n",
              "</table>\n",
              "</div>"
            ],
            "text/plain": [
              "   color  distance\n",
              "6  green        44"
            ]
          },
          "execution_count": 152,
          "metadata": {},
          "output_type": "execute_result"
        }
      ],
      "source": [
        "# Rows having green and distance even\n",
        "df8[(df8.color=='green') & (df8.distance%2==0)][['color','distance']]"
      ]
    },
    {
      "cell_type": "code",
      "execution_count": null,
      "metadata": {
        "id": "QF8zKuDpZzmE",
        "outputId": "6d92de62-66e3-4c1d-c13a-a471ad434ed8"
      },
      "outputs": [
        {
          "data": {
            "text/html": [
              "<div>\n",
              "<style scoped>\n",
              "    .dataframe tbody tr th:only-of-type {\n",
              "        vertical-align: middle;\n",
              "    }\n",
              "\n",
              "    .dataframe tbody tr th {\n",
              "        vertical-align: top;\n",
              "    }\n",
              "\n",
              "    .dataframe thead th {\n",
              "        text-align: right;\n",
              "    }\n",
              "</style>\n",
              "<table border=\"1\" class=\"dataframe\">\n",
              "  <thead>\n",
              "    <tr style=\"text-align: right;\">\n",
              "      <th></th>\n",
              "      <th>color</th>\n",
              "      <th>distance</th>\n",
              "    </tr>\n",
              "  </thead>\n",
              "  <tbody>\n",
              "    <tr>\n",
              "      <th>6</th>\n",
              "      <td>green</td>\n",
              "      <td>44</td>\n",
              "    </tr>\n",
              "  </tbody>\n",
              "</table>\n",
              "</div>"
            ],
            "text/plain": [
              "   color  distance\n",
              "6  green        44"
            ]
          },
          "execution_count": 147,
          "metadata": {},
          "output_type": "execute_result"
        }
      ],
      "source": [
        "df[['color','distance']]"
      ]
    },
    {
      "cell_type": "code",
      "execution_count": null,
      "metadata": {
        "id": "qPnViJuxZzmE",
        "outputId": "9090f164-5c0e-457b-b1bc-2a06411782ce"
      },
      "outputs": [
        {
          "data": {
            "text/html": [
              "<div>\n",
              "<style scoped>\n",
              "    .dataframe tbody tr th:only-of-type {\n",
              "        vertical-align: middle;\n",
              "    }\n",
              "\n",
              "    .dataframe tbody tr th {\n",
              "        vertical-align: top;\n",
              "    }\n",
              "\n",
              "    .dataframe thead th {\n",
              "        text-align: right;\n",
              "    }\n",
              "</style>\n",
              "<table border=\"1\" class=\"dataframe\">\n",
              "  <thead>\n",
              "    <tr style=\"text-align: right;\">\n",
              "      <th></th>\n",
              "      <th>customer</th>\n",
              "      <th>color</th>\n",
              "      <th>distance</th>\n",
              "      <th>sales</th>\n",
              "    </tr>\n",
              "  </thead>\n",
              "  <tbody>\n",
              "    <tr>\n",
              "      <th>5</th>\n",
              "      <td>103</td>\n",
              "      <td>green</td>\n",
              "      <td>9</td>\n",
              "      <td>214</td>\n",
              "    </tr>\n",
              "  </tbody>\n",
              "</table>\n",
              "</div>"
            ],
            "text/plain": [
              "  customer  color  distance  sales\n",
              "5      103  green         9    214"
            ]
          },
          "execution_count": 56,
          "metadata": {},
          "output_type": "execute_result"
        }
      ],
      "source": [
        "df8[(df8['color']=='green') & (df8['distance']<10)]"
      ]
    },
    {
      "cell_type": "code",
      "execution_count": null,
      "metadata": {
        "scrolled": true,
        "id": "WaP599hiZzmE",
        "outputId": "b58966db-814f-4c3f-c89a-41736a965926"
      },
      "outputs": [
        {
          "data": {
            "text/html": [
              "<div>\n",
              "<style scoped>\n",
              "    .dataframe tbody tr th:only-of-type {\n",
              "        vertical-align: middle;\n",
              "    }\n",
              "\n",
              "    .dataframe tbody tr th {\n",
              "        vertical-align: top;\n",
              "    }\n",
              "\n",
              "    .dataframe thead th {\n",
              "        text-align: right;\n",
              "    }\n",
              "</style>\n",
              "<table border=\"1\" class=\"dataframe\">\n",
              "  <thead>\n",
              "    <tr style=\"text-align: right;\">\n",
              "      <th></th>\n",
              "      <th>customer</th>\n",
              "      <th>color</th>\n",
              "      <th>distance</th>\n",
              "      <th>sales</th>\n",
              "    </tr>\n",
              "  </thead>\n",
              "  <tbody>\n",
              "    <tr>\n",
              "      <th>4</th>\n",
              "      <td>101</td>\n",
              "      <td>yellow</td>\n",
              "      <td>12</td>\n",
              "      <td>123</td>\n",
              "    </tr>\n",
              "    <tr>\n",
              "      <th>5</th>\n",
              "      <td>103</td>\n",
              "      <td>green</td>\n",
              "      <td>9</td>\n",
              "      <td>214</td>\n",
              "    </tr>\n",
              "    <tr>\n",
              "      <th>6</th>\n",
              "      <td>104</td>\n",
              "      <td>green</td>\n",
              "      <td>44</td>\n",
              "      <td>663</td>\n",
              "    </tr>\n",
              "    <tr>\n",
              "      <th>7</th>\n",
              "      <td>105</td>\n",
              "      <td>blue</td>\n",
              "      <td>21</td>\n",
              "      <td>331</td>\n",
              "    </tr>\n",
              "  </tbody>\n",
              "</table>\n",
              "</div>"
            ],
            "text/plain": [
              "  customer   color  distance  sales\n",
              "4      101  yellow        12    123\n",
              "5      103   green         9    214\n",
              "6      104   green        44    663\n",
              "7      105    blue        21    331"
            ]
          },
          "execution_count": 127,
          "metadata": {},
          "output_type": "execute_result"
        }
      ],
      "source": [
        "df8"
      ]
    },
    {
      "cell_type": "code",
      "execution_count": null,
      "metadata": {
        "id": "kE68GLYkZzmF",
        "outputId": "2760a936-fd96-4f9d-878c-8ec7a0d3f7db"
      },
      "outputs": [
        {
          "data": {
            "text/html": [
              "<div>\n",
              "<style scoped>\n",
              "    .dataframe tbody tr th:only-of-type {\n",
              "        vertical-align: middle;\n",
              "    }\n",
              "\n",
              "    .dataframe tbody tr th {\n",
              "        vertical-align: top;\n",
              "    }\n",
              "\n",
              "    .dataframe thead th {\n",
              "        text-align: right;\n",
              "    }\n",
              "</style>\n",
              "<table border=\"1\" class=\"dataframe\">\n",
              "  <thead>\n",
              "    <tr style=\"text-align: right;\">\n",
              "      <th></th>\n",
              "      <th>customer</th>\n",
              "      <th>color</th>\n",
              "      <th>distance</th>\n",
              "      <th>sales</th>\n",
              "    </tr>\n",
              "  </thead>\n",
              "  <tbody>\n",
              "    <tr>\n",
              "      <th>5</th>\n",
              "      <td>103</td>\n",
              "      <td>green</td>\n",
              "      <td>9</td>\n",
              "      <td>214</td>\n",
              "    </tr>\n",
              "  </tbody>\n",
              "</table>\n",
              "</div>"
            ],
            "text/plain": [
              "  customer  color  distance  sales\n",
              "5      103  green         9    214"
            ]
          },
          "execution_count": 136,
          "metadata": {},
          "output_type": "execute_result"
        }
      ],
      "source": [
        "df8[(df8['color']=='green') & (df8.distance<10)]\n"
      ]
    },
    {
      "cell_type": "code",
      "execution_count": null,
      "metadata": {
        "id": "FYeGi9SVZzmF",
        "outputId": "66e93cbc-d2dd-4c7e-f93f-604dc305fb85"
      },
      "outputs": [
        {
          "data": {
            "text/plain": [
              "332.75"
            ]
          },
          "execution_count": 154,
          "metadata": {},
          "output_type": "execute_result"
        }
      ],
      "source": [
        "df8.sales.mean()"
      ]
    },
    {
      "cell_type": "code",
      "execution_count": null,
      "metadata": {
        "id": "_d76YKrQZzmF"
      },
      "outputs": [],
      "source": []
    },
    {
      "cell_type": "code",
      "execution_count": null,
      "metadata": {
        "id": "GvfO6z1UZzmF"
      },
      "outputs": [],
      "source": []
    },
    {
      "cell_type": "code",
      "execution_count": null,
      "metadata": {
        "id": "J7-nSbhuZzmF",
        "outputId": "7cb8b242-5c8c-446d-ed6d-3a4079e3bcfd"
      },
      "outputs": [
        {
          "name": "stdout",
          "output_type": "stream",
          "text": [
            "1331\n"
          ]
        },
        {
          "data": {
            "text/plain": [
              "9"
            ]
          },
          "execution_count": 138,
          "metadata": {},
          "output_type": "execute_result"
        }
      ],
      "source": [
        "print(df8['sales'].sum())\n",
        "# print(df8['distance'].min()) #\n",
        "df8.distance.min()\n"
      ]
    },
    {
      "cell_type": "code",
      "execution_count": null,
      "metadata": {
        "id": "AkgoKWdeZzmG",
        "outputId": "ae4ac4de-f02d-4a9d-87b3-d08a2336a316"
      },
      "outputs": [
        {
          "data": {
            "text/html": [
              "<div>\n",
              "<style scoped>\n",
              "    .dataframe tbody tr th:only-of-type {\n",
              "        vertical-align: middle;\n",
              "    }\n",
              "\n",
              "    .dataframe tbody tr th {\n",
              "        vertical-align: top;\n",
              "    }\n",
              "\n",
              "    .dataframe thead th {\n",
              "        text-align: right;\n",
              "    }\n",
              "</style>\n",
              "<table border=\"1\" class=\"dataframe\">\n",
              "  <thead>\n",
              "    <tr style=\"text-align: right;\">\n",
              "      <th></th>\n",
              "      <th>customer</th>\n",
              "      <th>color</th>\n",
              "      <th>distance</th>\n",
              "      <th>sales</th>\n",
              "    </tr>\n",
              "  </thead>\n",
              "  <tbody>\n",
              "    <tr>\n",
              "      <th>4</th>\n",
              "      <td>101</td>\n",
              "      <td>yellow</td>\n",
              "      <td>12</td>\n",
              "      <td>123</td>\n",
              "    </tr>\n",
              "    <tr>\n",
              "      <th>5</th>\n",
              "      <td>103</td>\n",
              "      <td>green</td>\n",
              "      <td>9</td>\n",
              "      <td>214</td>\n",
              "    </tr>\n",
              "    <tr>\n",
              "      <th>6</th>\n",
              "      <td>104</td>\n",
              "      <td>green</td>\n",
              "      <td>44</td>\n",
              "      <td>663</td>\n",
              "    </tr>\n",
              "    <tr>\n",
              "      <th>7</th>\n",
              "      <td>105</td>\n",
              "      <td>blue</td>\n",
              "      <td>21</td>\n",
              "      <td>331</td>\n",
              "    </tr>\n",
              "  </tbody>\n",
              "</table>\n",
              "</div>"
            ],
            "text/plain": [
              "  customer   color  distance  sales\n",
              "4      101  yellow        12    123\n",
              "5      103   green         9    214\n",
              "6      104   green        44    663\n",
              "7      105    blue        21    331"
            ]
          },
          "execution_count": 155,
          "metadata": {},
          "output_type": "execute_result"
        }
      ],
      "source": [
        "df8"
      ]
    },
    {
      "cell_type": "code",
      "execution_count": null,
      "metadata": {
        "id": "GL5mM96MZzmG"
      },
      "outputs": [],
      "source": [
        "df8['profit']=df8.sales*0.2"
      ]
    },
    {
      "cell_type": "code",
      "execution_count": null,
      "metadata": {
        "id": "i9GstcF1ZzmG",
        "outputId": "1a127e88-c10f-474a-8c24-b7f702036bf1"
      },
      "outputs": [
        {
          "data": {
            "text/html": [
              "<div>\n",
              "<style scoped>\n",
              "    .dataframe tbody tr th:only-of-type {\n",
              "        vertical-align: middle;\n",
              "    }\n",
              "\n",
              "    .dataframe tbody tr th {\n",
              "        vertical-align: top;\n",
              "    }\n",
              "\n",
              "    .dataframe thead th {\n",
              "        text-align: right;\n",
              "    }\n",
              "</style>\n",
              "<table border=\"1\" class=\"dataframe\">\n",
              "  <thead>\n",
              "    <tr style=\"text-align: right;\">\n",
              "      <th></th>\n",
              "      <th>customer</th>\n",
              "      <th>color</th>\n",
              "      <th>distance</th>\n",
              "      <th>sales</th>\n",
              "      <th>profit</th>\n",
              "    </tr>\n",
              "  </thead>\n",
              "  <tbody>\n",
              "    <tr>\n",
              "      <th>4</th>\n",
              "      <td>101</td>\n",
              "      <td>yellow</td>\n",
              "      <td>12</td>\n",
              "      <td>123</td>\n",
              "      <td>24.6</td>\n",
              "    </tr>\n",
              "    <tr>\n",
              "      <th>5</th>\n",
              "      <td>103</td>\n",
              "      <td>green</td>\n",
              "      <td>9</td>\n",
              "      <td>214</td>\n",
              "      <td>42.8</td>\n",
              "    </tr>\n",
              "    <tr>\n",
              "      <th>6</th>\n",
              "      <td>104</td>\n",
              "      <td>green</td>\n",
              "      <td>44</td>\n",
              "      <td>663</td>\n",
              "      <td>132.6</td>\n",
              "    </tr>\n",
              "    <tr>\n",
              "      <th>7</th>\n",
              "      <td>105</td>\n",
              "      <td>blue</td>\n",
              "      <td>21</td>\n",
              "      <td>331</td>\n",
              "      <td>66.2</td>\n",
              "    </tr>\n",
              "  </tbody>\n",
              "</table>\n",
              "</div>"
            ],
            "text/plain": [
              "  customer   color  distance  sales  profit\n",
              "4      101  yellow        12    123    24.6\n",
              "5      103   green         9    214    42.8\n",
              "6      104   green        44    663   132.6\n",
              "7      105    blue        21    331    66.2"
            ]
          },
          "execution_count": 157,
          "metadata": {},
          "output_type": "execute_result"
        }
      ],
      "source": [
        "df8"
      ]
    },
    {
      "cell_type": "code",
      "execution_count": null,
      "metadata": {
        "id": "ZCcFB0fxZzmG"
      },
      "outputs": [],
      "source": [
        "def profit(s):\n",
        "    return s*20/100"
      ]
    },
    {
      "cell_type": "code",
      "execution_count": null,
      "metadata": {
        "id": "F7MduFICZzmH"
      },
      "outputs": [],
      "source": [
        "df8['profit1']=df8.sales.apply(profit)"
      ]
    },
    {
      "cell_type": "code",
      "execution_count": null,
      "metadata": {
        "id": "c5z0yuRhZzmH"
      },
      "outputs": [],
      "source": [
        "df8['discount']=df8.profit.apply(lambda x:x/2)"
      ]
    },
    {
      "cell_type": "code",
      "execution_count": null,
      "metadata": {
        "id": "b3dsq9chZzmH",
        "outputId": "24a3807c-78fd-4a64-ba60-39b8efadc70f"
      },
      "outputs": [
        {
          "data": {
            "text/html": [
              "<div>\n",
              "<style scoped>\n",
              "    .dataframe tbody tr th:only-of-type {\n",
              "        vertical-align: middle;\n",
              "    }\n",
              "\n",
              "    .dataframe tbody tr th {\n",
              "        vertical-align: top;\n",
              "    }\n",
              "\n",
              "    .dataframe thead th {\n",
              "        text-align: right;\n",
              "    }\n",
              "</style>\n",
              "<table border=\"1\" class=\"dataframe\">\n",
              "  <thead>\n",
              "    <tr style=\"text-align: right;\">\n",
              "      <th></th>\n",
              "      <th>customer</th>\n",
              "      <th>color</th>\n",
              "      <th>distance</th>\n",
              "      <th>sales</th>\n",
              "      <th>profit</th>\n",
              "      <th>profit1</th>\n",
              "      <th>discount</th>\n",
              "    </tr>\n",
              "  </thead>\n",
              "  <tbody>\n",
              "    <tr>\n",
              "      <th>4</th>\n",
              "      <td>101</td>\n",
              "      <td>yellow</td>\n",
              "      <td>12</td>\n",
              "      <td>123</td>\n",
              "      <td>24.6</td>\n",
              "      <td>24.6</td>\n",
              "      <td>12.3</td>\n",
              "    </tr>\n",
              "    <tr>\n",
              "      <th>5</th>\n",
              "      <td>103</td>\n",
              "      <td>green</td>\n",
              "      <td>9</td>\n",
              "      <td>214</td>\n",
              "      <td>42.8</td>\n",
              "      <td>42.8</td>\n",
              "      <td>21.4</td>\n",
              "    </tr>\n",
              "    <tr>\n",
              "      <th>6</th>\n",
              "      <td>104</td>\n",
              "      <td>green</td>\n",
              "      <td>44</td>\n",
              "      <td>663</td>\n",
              "      <td>132.6</td>\n",
              "      <td>132.6</td>\n",
              "      <td>66.3</td>\n",
              "    </tr>\n",
              "    <tr>\n",
              "      <th>7</th>\n",
              "      <td>105</td>\n",
              "      <td>blue</td>\n",
              "      <td>21</td>\n",
              "      <td>331</td>\n",
              "      <td>66.2</td>\n",
              "      <td>66.2</td>\n",
              "      <td>33.1</td>\n",
              "    </tr>\n",
              "  </tbody>\n",
              "</table>\n",
              "</div>"
            ],
            "text/plain": [
              "  customer   color  distance  sales  profit  profit1  discount\n",
              "4      101  yellow        12    123    24.6     24.6      12.3\n",
              "5      103   green         9    214    42.8     42.8      21.4\n",
              "6      104   green        44    663   132.6    132.6      66.3\n",
              "7      105    blue        21    331    66.2     66.2      33.1"
            ]
          },
          "execution_count": 166,
          "metadata": {},
          "output_type": "execute_result"
        }
      ],
      "source": [
        "df8"
      ]
    },
    {
      "cell_type": "code",
      "execution_count": null,
      "metadata": {
        "id": "JpPenlSgZzmH"
      },
      "outputs": [],
      "source": []
    },
    {
      "cell_type": "code",
      "execution_count": null,
      "metadata": {
        "id": "XcK6pkiBZzmH"
      },
      "outputs": [],
      "source": []
    },
    {
      "cell_type": "code",
      "execution_count": null,
      "metadata": {
        "id": "H55GfSV5ZzmI"
      },
      "outputs": [],
      "source": []
    },
    {
      "cell_type": "code",
      "execution_count": null,
      "metadata": {
        "id": "772mPmBOZzmI"
      },
      "outputs": [],
      "source": [
        "def profit(s):\n",
        "    return s*0.5 # 50% markup..."
      ]
    },
    {
      "cell_type": "code",
      "execution_count": null,
      "metadata": {
        "id": "Vzt1UHY3ZzmI",
        "outputId": "76719a3d-141c-4eeb-9370-e1ad5d96d3e8"
      },
      "outputs": [
        {
          "data": {
            "text/plain": [
              "4    123\n",
              "5    214\n",
              "6    663\n",
              "7    331\n",
              "Name: sales, dtype: int64"
            ]
          },
          "execution_count": 63,
          "metadata": {},
          "output_type": "execute_result"
        }
      ],
      "source": [
        "df8['sales']"
      ]
    },
    {
      "cell_type": "code",
      "execution_count": null,
      "metadata": {
        "id": "ICmt2PcYZzmI",
        "outputId": "07fd0b27-c8f6-4211-be78-2e625d18acd7"
      },
      "outputs": [
        {
          "data": {
            "text/plain": [
              "4     61.5\n",
              "5    107.0\n",
              "6    331.5\n",
              "7    165.5\n",
              "Name: sales, dtype: float64"
            ]
          },
          "execution_count": 62,
          "metadata": {},
          "output_type": "execute_result"
        }
      ],
      "source": [
        "df8['sales'].apply(profit)"
      ]
    },
    {
      "cell_type": "code",
      "execution_count": null,
      "metadata": {
        "id": "LEsFyKMeZzmI",
        "outputId": "d29a1da7-84ab-468a-8638-1a5aea9d18de"
      },
      "outputs": [
        {
          "data": {
            "text/plain": [
              "4    6\n",
              "5    5\n",
              "6    5\n",
              "7    4\n",
              "Name: color, dtype: int64"
            ]
          },
          "execution_count": 64,
          "metadata": {},
          "output_type": "execute_result"
        }
      ],
      "source": [
        "df8['color'].apply(len)"
      ]
    },
    {
      "cell_type": "code",
      "execution_count": null,
      "metadata": {
        "id": "rlWpLJH-ZzmI",
        "outputId": "5f2861c9-d09f-4fa2-e9a9-ef39657ec531"
      },
      "outputs": [
        {
          "data": {
            "text/html": [
              "<div>\n",
              "<style scoped>\n",
              "    .dataframe tbody tr th:only-of-type {\n",
              "        vertical-align: middle;\n",
              "    }\n",
              "\n",
              "    .dataframe tbody tr th {\n",
              "        vertical-align: top;\n",
              "    }\n",
              "\n",
              "    .dataframe thead th {\n",
              "        text-align: right;\n",
              "    }\n",
              "</style>\n",
              "<table border=\"1\" class=\"dataframe\">\n",
              "  <thead>\n",
              "    <tr style=\"text-align: right;\">\n",
              "      <th></th>\n",
              "      <th>distance</th>\n",
              "      <th>sales</th>\n",
              "    </tr>\n",
              "  </thead>\n",
              "  <tbody>\n",
              "    <tr>\n",
              "      <th>4</th>\n",
              "      <td>6.0</td>\n",
              "      <td>61.5</td>\n",
              "    </tr>\n",
              "    <tr>\n",
              "      <th>5</th>\n",
              "      <td>4.5</td>\n",
              "      <td>107.0</td>\n",
              "    </tr>\n",
              "    <tr>\n",
              "      <th>6</th>\n",
              "      <td>22.0</td>\n",
              "      <td>331.5</td>\n",
              "    </tr>\n",
              "    <tr>\n",
              "      <th>7</th>\n",
              "      <td>10.5</td>\n",
              "      <td>165.5</td>\n",
              "    </tr>\n",
              "  </tbody>\n",
              "</table>\n",
              "</div>"
            ],
            "text/plain": [
              "   distance  sales\n",
              "4       6.0   61.5\n",
              "5       4.5  107.0\n",
              "6      22.0  331.5\n",
              "7      10.5  165.5"
            ]
          },
          "execution_count": 65,
          "metadata": {},
          "output_type": "execute_result"
        }
      ],
      "source": [
        "df11 = df8[['distance','sales']]\n",
        "df11.applymap(profit)\n",
        "# df11"
      ]
    },
    {
      "cell_type": "code",
      "execution_count": null,
      "metadata": {
        "id": "dpl-Y8kCZzmJ",
        "outputId": "9d133fd3-aac3-4029-cfc3-16a68bb2664e"
      },
      "outputs": [
        {
          "data": {
            "text/html": [
              "<div>\n",
              "<style scoped>\n",
              "    .dataframe tbody tr th:only-of-type {\n",
              "        vertical-align: middle;\n",
              "    }\n",
              "\n",
              "    .dataframe tbody tr th {\n",
              "        vertical-align: top;\n",
              "    }\n",
              "\n",
              "    .dataframe thead th {\n",
              "        text-align: right;\n",
              "    }\n",
              "</style>\n",
              "<table border=\"1\" class=\"dataframe\">\n",
              "  <thead>\n",
              "    <tr style=\"text-align: right;\">\n",
              "      <th></th>\n",
              "      <th>distance</th>\n",
              "      <th>sales</th>\n",
              "    </tr>\n",
              "  </thead>\n",
              "  <tbody>\n",
              "    <tr>\n",
              "      <th>4</th>\n",
              "      <td>12</td>\n",
              "      <td>123</td>\n",
              "    </tr>\n",
              "    <tr>\n",
              "      <th>5</th>\n",
              "      <td>9</td>\n",
              "      <td>214</td>\n",
              "    </tr>\n",
              "    <tr>\n",
              "      <th>6</th>\n",
              "      <td>44</td>\n",
              "      <td>663</td>\n",
              "    </tr>\n",
              "    <tr>\n",
              "      <th>7</th>\n",
              "      <td>21</td>\n",
              "      <td>331</td>\n",
              "    </tr>\n",
              "  </tbody>\n",
              "</table>\n",
              "</div>"
            ],
            "text/plain": [
              "   distance  sales\n",
              "4        12    123\n",
              "5         9    214\n",
              "6        44    663\n",
              "7        21    331"
            ]
          },
          "execution_count": 66,
          "metadata": {},
          "output_type": "execute_result"
        }
      ],
      "source": [
        "df11"
      ]
    },
    {
      "cell_type": "code",
      "execution_count": null,
      "metadata": {
        "id": "-xQp69MmZzmJ",
        "outputId": "55ccf927-94b9-4777-fb90-5b82ade1dfb2"
      },
      "outputs": [
        {
          "data": {
            "text/plain": [
              "distance      86\n",
              "sales       1331\n",
              "dtype: int64"
            ]
          },
          "execution_count": 149,
          "metadata": {},
          "output_type": "execute_result"
        }
      ],
      "source": [
        "def col_sum(abc):\n",
        "    return sum(abc)\n",
        "df11.apply(col_sum)"
      ]
    },
    {
      "cell_type": "code",
      "execution_count": null,
      "metadata": {
        "id": "iPf3r-F8ZzmJ"
      },
      "outputs": [],
      "source": [
        "del df11"
      ]
    },
    {
      "cell_type": "code",
      "execution_count": null,
      "metadata": {
        "id": "dZTIBmt-ZzmJ",
        "outputId": "8cc7f437-5aec-4662-94cd-11372a6b09a3"
      },
      "outputs": [
        {
          "ename": "NameError",
          "evalue": "name 'df11' is not defined",
          "output_type": "error",
          "traceback": [
            "\u001b[1;31m---------------------------------------------------------------------------\u001b[0m",
            "\u001b[1;31mNameError\u001b[0m                                 Traceback (most recent call last)",
            "Input \u001b[1;32mIn [68]\u001b[0m, in \u001b[0;36m<cell line: 1>\u001b[1;34m()\u001b[0m\n\u001b[1;32m----> 1\u001b[0m \u001b[43mdf11\u001b[49m\n",
            "\u001b[1;31mNameError\u001b[0m: name 'df11' is not defined"
          ]
        }
      ],
      "source": [
        "df11"
      ]
    },
    {
      "cell_type": "code",
      "execution_count": null,
      "metadata": {
        "id": "RdkhtUx3ZzmK",
        "outputId": "70ee500e-0bf8-44f6-cd19-a40757d7394b"
      },
      "outputs": [
        {
          "data": {
            "text/html": [
              "<div>\n",
              "<style scoped>\n",
              "    .dataframe tbody tr th:only-of-type {\n",
              "        vertical-align: middle;\n",
              "    }\n",
              "\n",
              "    .dataframe tbody tr th {\n",
              "        vertical-align: top;\n",
              "    }\n",
              "\n",
              "    .dataframe thead th {\n",
              "        text-align: right;\n",
              "    }\n",
              "</style>\n",
              "<table border=\"1\" class=\"dataframe\">\n",
              "  <thead>\n",
              "    <tr style=\"text-align: right;\">\n",
              "      <th></th>\n",
              "      <th>customer</th>\n",
              "      <th>distance</th>\n",
              "      <th>sales</th>\n",
              "    </tr>\n",
              "  </thead>\n",
              "  <tbody>\n",
              "    <tr>\n",
              "      <th>4</th>\n",
              "      <td>101</td>\n",
              "      <td>12</td>\n",
              "      <td>123</td>\n",
              "    </tr>\n",
              "    <tr>\n",
              "      <th>5</th>\n",
              "      <td>103</td>\n",
              "      <td>9</td>\n",
              "      <td>214</td>\n",
              "    </tr>\n",
              "    <tr>\n",
              "      <th>6</th>\n",
              "      <td>104</td>\n",
              "      <td>44</td>\n",
              "      <td>663</td>\n",
              "    </tr>\n",
              "    <tr>\n",
              "      <th>7</th>\n",
              "      <td>105</td>\n",
              "      <td>21</td>\n",
              "      <td>331</td>\n",
              "    </tr>\n",
              "  </tbody>\n",
              "</table>\n",
              "</div>"
            ],
            "text/plain": [
              "  customer  distance  sales\n",
              "4      101        12    123\n",
              "5      103         9    214\n",
              "6      104        44    663\n",
              "7      105        21    331"
            ]
          },
          "execution_count": 69,
          "metadata": {},
          "output_type": "execute_result"
        }
      ],
      "source": [
        "del df8['color']\n",
        "df8"
      ]
    },
    {
      "cell_type": "code",
      "execution_count": null,
      "metadata": {
        "id": "Avj9LzOxZzmK",
        "outputId": "17736267-74dc-4b46-e2bd-ee9319f37b85"
      },
      "outputs": [
        {
          "data": {
            "text/plain": [
              "Index(['customer', 'distance', 'sales'], dtype='object')"
            ]
          },
          "execution_count": 70,
          "metadata": {},
          "output_type": "execute_result"
        }
      ],
      "source": [
        "df8.columns"
      ]
    },
    {
      "cell_type": "code",
      "execution_count": null,
      "metadata": {
        "id": "XKGne_pRZzmK",
        "outputId": "0a0f6a3b-9dc7-4302-e83b-4ef60fe362f1"
      },
      "outputs": [
        {
          "data": {
            "text/plain": [
              "Int64Index([4, 5, 6, 7], dtype='int64')"
            ]
          },
          "execution_count": 71,
          "metadata": {},
          "output_type": "execute_result"
        }
      ],
      "source": [
        "df8.index"
      ]
    },
    {
      "cell_type": "code",
      "execution_count": null,
      "metadata": {
        "scrolled": true,
        "id": "BKTiRRZ0ZzmK",
        "outputId": "254ea018-80bf-40b8-9981-37b8574e557d"
      },
      "outputs": [
        {
          "data": {
            "text/html": [
              "<div>\n",
              "<style scoped>\n",
              "    .dataframe tbody tr th:only-of-type {\n",
              "        vertical-align: middle;\n",
              "    }\n",
              "\n",
              "    .dataframe tbody tr th {\n",
              "        vertical-align: top;\n",
              "    }\n",
              "\n",
              "    .dataframe thead th {\n",
              "        text-align: right;\n",
              "    }\n",
              "</style>\n",
              "<table border=\"1\" class=\"dataframe\">\n",
              "  <thead>\n",
              "    <tr style=\"text-align: right;\">\n",
              "      <th></th>\n",
              "      <th>customer</th>\n",
              "      <th>distance</th>\n",
              "      <th>sales</th>\n",
              "    </tr>\n",
              "  </thead>\n",
              "  <tbody>\n",
              "    <tr>\n",
              "      <th>6</th>\n",
              "      <td>104</td>\n",
              "      <td>44</td>\n",
              "      <td>663</td>\n",
              "    </tr>\n",
              "    <tr>\n",
              "      <th>7</th>\n",
              "      <td>105</td>\n",
              "      <td>21</td>\n",
              "      <td>331</td>\n",
              "    </tr>\n",
              "    <tr>\n",
              "      <th>5</th>\n",
              "      <td>103</td>\n",
              "      <td>9</td>\n",
              "      <td>214</td>\n",
              "    </tr>\n",
              "    <tr>\n",
              "      <th>4</th>\n",
              "      <td>101</td>\n",
              "      <td>12</td>\n",
              "      <td>123</td>\n",
              "    </tr>\n",
              "  </tbody>\n",
              "</table>\n",
              "</div>"
            ],
            "text/plain": [
              "  customer  distance  sales\n",
              "6      104        44    663\n",
              "7      105        21    331\n",
              "5      103         9    214\n",
              "4      101        12    123"
            ]
          },
          "execution_count": 72,
          "metadata": {},
          "output_type": "execute_result"
        }
      ],
      "source": [
        "df8.sort_values(by=['sales'],ascending=False,inplace=True)\n",
        "df8"
      ]
    },
    {
      "cell_type": "code",
      "execution_count": null,
      "metadata": {
        "id": "Iy1Ny8ZsZzmK",
        "outputId": "722b56fa-2c98-4737-fd8d-045e7332d0a7"
      },
      "outputs": [
        {
          "data": {
            "text/html": [
              "<div>\n",
              "<style scoped>\n",
              "    .dataframe tbody tr th:only-of-type {\n",
              "        vertical-align: middle;\n",
              "    }\n",
              "\n",
              "    .dataframe tbody tr th {\n",
              "        vertical-align: top;\n",
              "    }\n",
              "\n",
              "    .dataframe thead th {\n",
              "        text-align: right;\n",
              "    }\n",
              "</style>\n",
              "<table border=\"1\" class=\"dataframe\">\n",
              "  <thead>\n",
              "    <tr style=\"text-align: right;\">\n",
              "      <th></th>\n",
              "      <th>customer</th>\n",
              "      <th>distance</th>\n",
              "      <th>sales</th>\n",
              "    </tr>\n",
              "  </thead>\n",
              "  <tbody>\n",
              "    <tr>\n",
              "      <th>6</th>\n",
              "      <td>104</td>\n",
              "      <td>44</td>\n",
              "      <td>663</td>\n",
              "    </tr>\n",
              "    <tr>\n",
              "      <th>7</th>\n",
              "      <td>105</td>\n",
              "      <td>21</td>\n",
              "      <td>331</td>\n",
              "    </tr>\n",
              "    <tr>\n",
              "      <th>5</th>\n",
              "      <td>103</td>\n",
              "      <td>9</td>\n",
              "      <td>214</td>\n",
              "    </tr>\n",
              "    <tr>\n",
              "      <th>4</th>\n",
              "      <td>101</td>\n",
              "      <td>12</td>\n",
              "      <td>123</td>\n",
              "    </tr>\n",
              "  </tbody>\n",
              "</table>\n",
              "</div>"
            ],
            "text/plain": [
              "  customer  distance  sales\n",
              "6      104        44    663\n",
              "7      105        21    331\n",
              "5      103         9    214\n",
              "4      101        12    123"
            ]
          },
          "execution_count": 158,
          "metadata": {},
          "output_type": "execute_result"
        }
      ],
      "source": [
        "df8"
      ]
    },
    {
      "cell_type": "code",
      "execution_count": null,
      "metadata": {
        "id": "IgCWzoRYZzmL",
        "outputId": "caac22d8-5353-4c79-a9c2-bcfcf31b3b08"
      },
      "outputs": [
        {
          "data": {
            "text/html": [
              "<div>\n",
              "<style scoped>\n",
              "    .dataframe tbody tr th:only-of-type {\n",
              "        vertical-align: middle;\n",
              "    }\n",
              "\n",
              "    .dataframe tbody tr th {\n",
              "        vertical-align: top;\n",
              "    }\n",
              "\n",
              "    .dataframe thead th {\n",
              "        text-align: right;\n",
              "    }\n",
              "</style>\n",
              "<table border=\"1\" class=\"dataframe\">\n",
              "  <thead>\n",
              "    <tr style=\"text-align: right;\">\n",
              "      <th></th>\n",
              "      <th>customer</th>\n",
              "      <th>product1</th>\n",
              "      <th>product2</th>\n",
              "    </tr>\n",
              "  </thead>\n",
              "  <tbody>\n",
              "    <tr>\n",
              "      <th>Purchase 1</th>\n",
              "      <td>Customer 1</td>\n",
              "      <td>1.1</td>\n",
              "      <td>8.20</td>\n",
              "    </tr>\n",
              "    <tr>\n",
              "      <th>Purchase 2</th>\n",
              "      <td>Customer 1</td>\n",
              "      <td>2.1</td>\n",
              "      <td>9.10</td>\n",
              "    </tr>\n",
              "    <tr>\n",
              "      <th>Purchase 3</th>\n",
              "      <td>Customer2</td>\n",
              "      <td>3.8</td>\n",
              "      <td>11.10</td>\n",
              "    </tr>\n",
              "    <tr>\n",
              "      <th>Purchase 4</th>\n",
              "      <td>Customer2</td>\n",
              "      <td>4.2</td>\n",
              "      <td>5.20</td>\n",
              "    </tr>\n",
              "    <tr>\n",
              "      <th>Purchase 5</th>\n",
              "      <td>Customer3</td>\n",
              "      <td>5.5</td>\n",
              "      <td>44.66</td>\n",
              "    </tr>\n",
              "    <tr>\n",
              "      <th>Purchase 6</th>\n",
              "      <td>Customer3</td>\n",
              "      <td>6.9</td>\n",
              "      <td>983.00</td>\n",
              "    </tr>\n",
              "  </tbody>\n",
              "</table>\n",
              "</div>"
            ],
            "text/plain": [
              "              customer  product1  product2\n",
              "Purchase 1  Customer 1       1.1      8.20\n",
              "Purchase 2  Customer 1       2.1      9.10\n",
              "Purchase 3   Customer2       3.8     11.10\n",
              "Purchase 4   Customer2       4.2      5.20\n",
              "Purchase 5   Customer3       5.5     44.66\n",
              "Purchase 6   Customer3       6.9    983.00"
            ]
          },
          "execution_count": 159,
          "metadata": {},
          "output_type": "execute_result"
        }
      ],
      "source": [
        "# if some series has multiple of the same value then we can group all the unique entries together\n",
        "mydict = {'customer': ['Customer 1','Customer 1','Customer2','Customer2','Customer3','Customer3'],\n",
        "          'product1': [1.1,2.1,3.8,4.2,5.5,6.9],\n",
        "          'product2': [8.2,9.1,11.1,5.2,44.66,983]}\n",
        "df6 = pd.DataFrame(mydict,index=['Purchase 1','Purchase 2','Purchase 3','Purchase 4','Purchase 5','Purchase 6'])\n",
        "df6"
      ]
    },
    {
      "cell_type": "code",
      "execution_count": null,
      "metadata": {
        "id": "nk05LUMIZzmL",
        "outputId": "3b9b0d19-d9cd-4c0c-f59e-2dd451bf0227"
      },
      "outputs": [
        {
          "data": {
            "text/html": [
              "<div>\n",
              "<style scoped>\n",
              "    .dataframe tbody tr th:only-of-type {\n",
              "        vertical-align: middle;\n",
              "    }\n",
              "\n",
              "    .dataframe tbody tr th {\n",
              "        vertical-align: top;\n",
              "    }\n",
              "\n",
              "    .dataframe thead th {\n",
              "        text-align: right;\n",
              "    }\n",
              "</style>\n",
              "<table border=\"1\" class=\"dataframe\">\n",
              "  <thead>\n",
              "    <tr style=\"text-align: right;\">\n",
              "      <th></th>\n",
              "      <th>product1</th>\n",
              "      <th>product2</th>\n",
              "    </tr>\n",
              "    <tr>\n",
              "      <th>customer</th>\n",
              "      <th></th>\n",
              "      <th></th>\n",
              "    </tr>\n",
              "  </thead>\n",
              "  <tbody>\n",
              "    <tr>\n",
              "      <th>Customer 1</th>\n",
              "      <td>1.6</td>\n",
              "      <td>8.65</td>\n",
              "    </tr>\n",
              "    <tr>\n",
              "      <th>Customer2</th>\n",
              "      <td>4.0</td>\n",
              "      <td>8.15</td>\n",
              "    </tr>\n",
              "    <tr>\n",
              "      <th>Customer3</th>\n",
              "      <td>6.2</td>\n",
              "      <td>513.83</td>\n",
              "    </tr>\n",
              "  </tbody>\n",
              "</table>\n",
              "</div>"
            ],
            "text/plain": [
              "            product1  product2\n",
              "customer                      \n",
              "Customer 1       1.6      8.65\n",
              "Customer2        4.0      8.15\n",
              "Customer3        6.2    513.83"
            ]
          },
          "execution_count": 163,
          "metadata": {},
          "output_type": "execute_result"
        }
      ],
      "source": [
        "df6.groupby('customer').mean()\n"
      ]
    },
    {
      "cell_type": "code",
      "execution_count": null,
      "metadata": {
        "id": "ZK7E2FydZzmL"
      },
      "outputs": [],
      "source": [
        "df8"
      ]
    },
    {
      "cell_type": "markdown",
      "metadata": {
        "id": "znPVXWWNZzmM"
      },
      "source": [
        "## Working with a CSV File"
      ]
    },
    {
      "cell_type": "code",
      "execution_count": null,
      "metadata": {
        "id": "YoCSJNVFE2Sg",
        "outputId": "4e465819-da2f-4c29-bd8b-13022cd89277"
      },
      "outputs": [
        {
          "data": {
            "text/html": [
              "<div>\n",
              "<style scoped>\n",
              "    .dataframe tbody tr th:only-of-type {\n",
              "        vertical-align: middle;\n",
              "    }\n",
              "\n",
              "    .dataframe tbody tr th {\n",
              "        vertical-align: top;\n",
              "    }\n",
              "\n",
              "    .dataframe thead th {\n",
              "        text-align: right;\n",
              "    }\n",
              "</style>\n",
              "<table border=\"1\" class=\"dataframe\">\n",
              "  <thead>\n",
              "    <tr style=\"text-align: right;\">\n",
              "      <th></th>\n",
              "      <th>day</th>\n",
              "      <th>temperature</th>\n",
              "      <th>windspeed</th>\n",
              "      <th>event</th>\n",
              "    </tr>\n",
              "  </thead>\n",
              "  <tbody>\n",
              "    <tr>\n",
              "      <th>0</th>\n",
              "      <td>1/1/2017</td>\n",
              "      <td>32</td>\n",
              "      <td>6</td>\n",
              "      <td>Rain</td>\n",
              "    </tr>\n",
              "    <tr>\n",
              "      <th>1</th>\n",
              "      <td>1/2/2017</td>\n",
              "      <td>35</td>\n",
              "      <td>7</td>\n",
              "      <td>Sunny</td>\n",
              "    </tr>\n",
              "    <tr>\n",
              "      <th>2</th>\n",
              "      <td>1/3/2017</td>\n",
              "      <td>28</td>\n",
              "      <td>2</td>\n",
              "      <td>Snow</td>\n",
              "    </tr>\n",
              "    <tr>\n",
              "      <th>3</th>\n",
              "      <td>1/4/2017</td>\n",
              "      <td>24</td>\n",
              "      <td>7</td>\n",
              "      <td>Snow</td>\n",
              "    </tr>\n",
              "    <tr>\n",
              "      <th>4</th>\n",
              "      <td>1/5/2017</td>\n",
              "      <td>32</td>\n",
              "      <td>4</td>\n",
              "      <td>Rain</td>\n",
              "    </tr>\n",
              "    <tr>\n",
              "      <th>5</th>\n",
              "      <td>1/6/2017</td>\n",
              "      <td>31</td>\n",
              "      <td>2</td>\n",
              "      <td>Sunny</td>\n",
              "    </tr>\n",
              "  </tbody>\n",
              "</table>\n",
              "</div>"
            ],
            "text/plain": [
              "        day  temperature  windspeed  event\n",
              "0  1/1/2017           32          6   Rain\n",
              "1  1/2/2017           35          7  Sunny\n",
              "2  1/3/2017           28          2   Snow\n",
              "3  1/4/2017           24          7   Snow\n",
              "4  1/5/2017           32          4   Rain\n",
              "5  1/6/2017           31          2  Sunny"
            ]
          },
          "execution_count": 167,
          "metadata": {},
          "output_type": "execute_result"
        }
      ],
      "source": [
        "import pandas as pd\n",
        "df = pd.read_csv(\"weather_data.csv\")   #read weather.csv data\n",
        "df"
      ]
    },
    {
      "cell_type": "code",
      "execution_count": null,
      "metadata": {
        "id": "8K3vksgGE2Sp",
        "outputId": "f5ae1ecc-2de4-4bb8-bbef-dfe0b80c29ce",
        "scrolled": true
      },
      "outputs": [
        {
          "data": {
            "text/html": [
              "<div>\n",
              "<style>\n",
              "    .dataframe thead tr:only-child th {\n",
              "        text-align: right;\n",
              "    }\n",
              "\n",
              "    .dataframe thead th {\n",
              "        text-align: left;\n",
              "    }\n",
              "\n",
              "    .dataframe tbody tr th {\n",
              "        vertical-align: top;\n",
              "    }\n",
              "</style>\n",
              "<table border=\"1\" class=\"dataframe\">\n",
              "  <thead>\n",
              "    <tr style=\"text-align: right;\">\n",
              "      <th></th>\n",
              "      <th>day</th>\n",
              "      <th>temp</th>\n",
              "      <th>windspeed</th>\n",
              "      <th>event</th>\n",
              "    </tr>\n",
              "  </thead>\n",
              "  <tbody>\n",
              "    <tr>\n",
              "      <th>0</th>\n",
              "      <td>1/1/2017</td>\n",
              "      <td>32</td>\n",
              "      <td>6</td>\n",
              "      <td>Rain</td>\n",
              "    </tr>\n",
              "    <tr>\n",
              "      <th>1</th>\n",
              "      <td>1/2/2017</td>\n",
              "      <td>35</td>\n",
              "      <td>7</td>\n",
              "      <td>Sunny</td>\n",
              "    </tr>\n",
              "    <tr>\n",
              "      <th>2</th>\n",
              "      <td>1/3/2017</td>\n",
              "      <td>28</td>\n",
              "      <td>2</td>\n",
              "      <td>Snow</td>\n",
              "    </tr>\n",
              "    <tr>\n",
              "      <th>3</th>\n",
              "      <td>1/4/2017</td>\n",
              "      <td>24</td>\n",
              "      <td>7</td>\n",
              "      <td>Snow</td>\n",
              "    </tr>\n",
              "    <tr>\n",
              "      <th>4</th>\n",
              "      <td>1/5/2017</td>\n",
              "      <td>32</td>\n",
              "      <td>4</td>\n",
              "      <td>Rain</td>\n",
              "    </tr>\n",
              "    <tr>\n",
              "      <th>5</th>\n",
              "      <td>1/6/2017</td>\n",
              "      <td>31</td>\n",
              "      <td>2</td>\n",
              "      <td>Sunny</td>\n",
              "    </tr>\n",
              "  </tbody>\n",
              "</table>\n",
              "</div>"
            ],
            "text/plain": [
              "        day  temp  windspeed  event\n",
              "0  1/1/2017    32          6   Rain\n",
              "1  1/2/2017    35          7  Sunny\n",
              "2  1/3/2017    28          2   Snow\n",
              "3  1/4/2017    24          7   Snow\n",
              "4  1/5/2017    32          4   Rain\n",
              "5  1/6/2017    31          2  Sunny"
            ]
          },
          "execution_count": 15,
          "metadata": {
            "tags": []
          },
          "output_type": "execute_result"
        }
      ],
      "source": [
        "#list of tuples\n",
        "\n",
        "weather_data = [('1/1/2017', 32, 6, 'Rain'),\n",
        "                ('1/2/2017', 35, 7, 'Sunny'),\n",
        "                ('1/3/2017', 28, 2, 'Snow'),\n",
        "                ('1/4/2017', 24, 7, 'Snow'),\n",
        "                ('1/5/2017', 32, 4, 'Rain'),\n",
        "                ('1/6/2017', 31, 2, 'Sunny')\n",
        "               ]\n",
        "df = pd.DataFrame(weather_data, columns=['day', 'temperature', 'windspeed', 'event'])\n",
        "df"
      ]
    },
    {
      "cell_type": "code",
      "execution_count": null,
      "metadata": {
        "id": "uaeYPoNIE2St",
        "outputId": "f4dc4a5a-8a3c-44bc-9af2-047768bda050"
      },
      "outputs": [
        {
          "data": {
            "text/plain": [
              "(6, 4)"
            ]
          },
          "execution_count": 168,
          "metadata": {},
          "output_type": "execute_result"
        }
      ],
      "source": [
        "#get dimentions of the table\n",
        "\n",
        "df.shape   #total number of rows and columns"
      ]
    },
    {
      "cell_type": "code",
      "execution_count": null,
      "metadata": {
        "id": "rcjXmdj9ZzmN",
        "outputId": "cdabd5ac-6b2a-4c89-99b6-ca064c78bf44"
      },
      "outputs": [
        {
          "data": {
            "text/html": [
              "<div>\n",
              "<style scoped>\n",
              "    .dataframe tbody tr th:only-of-type {\n",
              "        vertical-align: middle;\n",
              "    }\n",
              "\n",
              "    .dataframe tbody tr th {\n",
              "        vertical-align: top;\n",
              "    }\n",
              "\n",
              "    .dataframe thead th {\n",
              "        text-align: right;\n",
              "    }\n",
              "</style>\n",
              "<table border=\"1\" class=\"dataframe\">\n",
              "  <thead>\n",
              "    <tr style=\"text-align: right;\">\n",
              "      <th></th>\n",
              "      <th>day</th>\n",
              "      <th>temperature</th>\n",
              "      <th>windspeed</th>\n",
              "      <th>event</th>\n",
              "    </tr>\n",
              "  </thead>\n",
              "  <tbody>\n",
              "    <tr>\n",
              "      <th>0</th>\n",
              "      <td>1/1/2017</td>\n",
              "      <td>32</td>\n",
              "      <td>6</td>\n",
              "      <td>Rain</td>\n",
              "    </tr>\n",
              "    <tr>\n",
              "      <th>1</th>\n",
              "      <td>1/2/2017</td>\n",
              "      <td>35</td>\n",
              "      <td>7</td>\n",
              "      <td>Sunny</td>\n",
              "    </tr>\n",
              "  </tbody>\n",
              "</table>\n",
              "</div>"
            ],
            "text/plain": [
              "        day  temperature  windspeed  event\n",
              "0  1/1/2017           32          6   Rain\n",
              "1  1/2/2017           35          7  Sunny"
            ]
          },
          "execution_count": 170,
          "metadata": {},
          "output_type": "execute_result"
        }
      ],
      "source": [
        "df.head(2)"
      ]
    },
    {
      "cell_type": "code",
      "execution_count": null,
      "metadata": {
        "id": "VGWUM55wZzmN",
        "outputId": "ef773978-bae7-4358-e9c7-c8a9c58b9676"
      },
      "outputs": [
        {
          "data": {
            "text/html": [
              "<div>\n",
              "<style scoped>\n",
              "    .dataframe tbody tr th:only-of-type {\n",
              "        vertical-align: middle;\n",
              "    }\n",
              "\n",
              "    .dataframe tbody tr th {\n",
              "        vertical-align: top;\n",
              "    }\n",
              "\n",
              "    .dataframe thead th {\n",
              "        text-align: right;\n",
              "    }\n",
              "</style>\n",
              "<table border=\"1\" class=\"dataframe\">\n",
              "  <thead>\n",
              "    <tr style=\"text-align: right;\">\n",
              "      <th></th>\n",
              "      <th>day</th>\n",
              "      <th>temperature</th>\n",
              "      <th>windspeed</th>\n",
              "      <th>event</th>\n",
              "    </tr>\n",
              "  </thead>\n",
              "  <tbody>\n",
              "    <tr>\n",
              "      <th>2</th>\n",
              "      <td>1/3/2017</td>\n",
              "      <td>28</td>\n",
              "      <td>2</td>\n",
              "      <td>Snow</td>\n",
              "    </tr>\n",
              "    <tr>\n",
              "      <th>3</th>\n",
              "      <td>1/4/2017</td>\n",
              "      <td>24</td>\n",
              "      <td>7</td>\n",
              "      <td>Snow</td>\n",
              "    </tr>\n",
              "    <tr>\n",
              "      <th>4</th>\n",
              "      <td>1/5/2017</td>\n",
              "      <td>32</td>\n",
              "      <td>4</td>\n",
              "      <td>Rain</td>\n",
              "    </tr>\n",
              "    <tr>\n",
              "      <th>5</th>\n",
              "      <td>1/6/2017</td>\n",
              "      <td>31</td>\n",
              "      <td>2</td>\n",
              "      <td>Sunny</td>\n",
              "    </tr>\n",
              "  </tbody>\n",
              "</table>\n",
              "</div>"
            ],
            "text/plain": [
              "        day  temperature  windspeed  event\n",
              "2  1/3/2017           28          2   Snow\n",
              "3  1/4/2017           24          7   Snow\n",
              "4  1/5/2017           32          4   Rain\n",
              "5  1/6/2017           31          2  Sunny"
            ]
          },
          "execution_count": 172,
          "metadata": {},
          "output_type": "execute_result"
        }
      ],
      "source": [
        "df.tail(4)"
      ]
    },
    {
      "cell_type": "code",
      "execution_count": null,
      "metadata": {
        "id": "LZfHq3zdZzmN",
        "outputId": "ab97b8b4-ae9b-49ae-c90b-43d1d430684a"
      },
      "outputs": [
        {
          "data": {
            "text/html": [
              "<div>\n",
              "<style scoped>\n",
              "    .dataframe tbody tr th:only-of-type {\n",
              "        vertical-align: middle;\n",
              "    }\n",
              "\n",
              "    .dataframe tbody tr th {\n",
              "        vertical-align: top;\n",
              "    }\n",
              "\n",
              "    .dataframe thead th {\n",
              "        text-align: right;\n",
              "    }\n",
              "</style>\n",
              "<table border=\"1\" class=\"dataframe\">\n",
              "  <thead>\n",
              "    <tr style=\"text-align: right;\">\n",
              "      <th></th>\n",
              "      <th>temperature</th>\n",
              "      <th>windspeed</th>\n",
              "    </tr>\n",
              "  </thead>\n",
              "  <tbody>\n",
              "    <tr>\n",
              "      <th>count</th>\n",
              "      <td>6.000000</td>\n",
              "      <td>6.000000</td>\n",
              "    </tr>\n",
              "    <tr>\n",
              "      <th>mean</th>\n",
              "      <td>30.333333</td>\n",
              "      <td>4.666667</td>\n",
              "    </tr>\n",
              "    <tr>\n",
              "      <th>std</th>\n",
              "      <td>3.829708</td>\n",
              "      <td>2.338090</td>\n",
              "    </tr>\n",
              "    <tr>\n",
              "      <th>min</th>\n",
              "      <td>24.000000</td>\n",
              "      <td>2.000000</td>\n",
              "    </tr>\n",
              "    <tr>\n",
              "      <th>25%</th>\n",
              "      <td>28.750000</td>\n",
              "      <td>2.500000</td>\n",
              "    </tr>\n",
              "    <tr>\n",
              "      <th>50%</th>\n",
              "      <td>31.500000</td>\n",
              "      <td>5.000000</td>\n",
              "    </tr>\n",
              "    <tr>\n",
              "      <th>75%</th>\n",
              "      <td>32.000000</td>\n",
              "      <td>6.750000</td>\n",
              "    </tr>\n",
              "    <tr>\n",
              "      <th>max</th>\n",
              "      <td>35.000000</td>\n",
              "      <td>7.000000</td>\n",
              "    </tr>\n",
              "  </tbody>\n",
              "</table>\n",
              "</div>"
            ],
            "text/plain": [
              "       temperature  windspeed\n",
              "count     6.000000   6.000000\n",
              "mean     30.333333   4.666667\n",
              "std       3.829708   2.338090\n",
              "min      24.000000   2.000000\n",
              "25%      28.750000   2.500000\n",
              "50%      31.500000   5.000000\n",
              "75%      32.000000   6.750000\n",
              "max      35.000000   7.000000"
            ]
          },
          "execution_count": 173,
          "metadata": {},
          "output_type": "execute_result"
        }
      ],
      "source": [
        "df.describe()"
      ]
    },
    {
      "cell_type": "code",
      "execution_count": null,
      "metadata": {
        "id": "wGvFxfPpZzmN"
      },
      "outputs": [],
      "source": []
    },
    {
      "cell_type": "code",
      "execution_count": null,
      "metadata": {
        "id": "6aaD_jAxE2Sx",
        "outputId": "18a50237-12bd-4268-9053-f2fc2d2cdc43"
      },
      "outputs": [
        {
          "data": {
            "text/html": [
              "<div>\n",
              "<style scoped>\n",
              "    .dataframe tbody tr th:only-of-type {\n",
              "        vertical-align: middle;\n",
              "    }\n",
              "\n",
              "    .dataframe tbody tr th {\n",
              "        vertical-align: top;\n",
              "    }\n",
              "\n",
              "    .dataframe thead th {\n",
              "        text-align: right;\n",
              "    }\n",
              "</style>\n",
              "<table border=\"1\" class=\"dataframe\">\n",
              "  <thead>\n",
              "    <tr style=\"text-align: right;\">\n",
              "      <th></th>\n",
              "      <th>day</th>\n",
              "      <th>temperature</th>\n",
              "      <th>windspeed</th>\n",
              "      <th>event</th>\n",
              "    </tr>\n",
              "  </thead>\n",
              "  <tbody>\n",
              "    <tr>\n",
              "      <th>0</th>\n",
              "      <td>1/1/2017</td>\n",
              "      <td>32</td>\n",
              "      <td>6</td>\n",
              "      <td>Rain</td>\n",
              "    </tr>\n",
              "    <tr>\n",
              "      <th>1</th>\n",
              "      <td>1/2/2017</td>\n",
              "      <td>35</td>\n",
              "      <td>7</td>\n",
              "      <td>Sunny</td>\n",
              "    </tr>\n",
              "    <tr>\n",
              "      <th>2</th>\n",
              "      <td>1/3/2017</td>\n",
              "      <td>28</td>\n",
              "      <td>2</td>\n",
              "      <td>Snow</td>\n",
              "    </tr>\n",
              "    <tr>\n",
              "      <th>3</th>\n",
              "      <td>1/4/2017</td>\n",
              "      <td>24</td>\n",
              "      <td>7</td>\n",
              "      <td>Snow</td>\n",
              "    </tr>\n",
              "    <tr>\n",
              "      <th>4</th>\n",
              "      <td>1/5/2017</td>\n",
              "      <td>32</td>\n",
              "      <td>4</td>\n",
              "      <td>Rain</td>\n",
              "    </tr>\n",
              "  </tbody>\n",
              "</table>\n",
              "</div>"
            ],
            "text/plain": [
              "        day  temperature  windspeed  event\n",
              "0  1/1/2017           32          6   Rain\n",
              "1  1/2/2017           35          7  Sunny\n",
              "2  1/3/2017           28          2   Snow\n",
              "3  1/4/2017           24          7   Snow\n",
              "4  1/5/2017           32          4   Rain"
            ]
          },
          "execution_count": 75,
          "metadata": {},
          "output_type": "execute_result"
        }
      ],
      "source": [
        "#if you want to see initial some rows then use head command (default 5 rows)\n",
        "df.head()"
      ]
    },
    {
      "cell_type": "code",
      "execution_count": null,
      "metadata": {
        "id": "UxLwacUpE2S4",
        "outputId": "79603545-12a4-4d36-9ab1-6de6cfb60ae6"
      },
      "outputs": [
        {
          "data": {
            "text/html": [
              "<div>\n",
              "<style scoped>\n",
              "    .dataframe tbody tr th:only-of-type {\n",
              "        vertical-align: middle;\n",
              "    }\n",
              "\n",
              "    .dataframe tbody tr th {\n",
              "        vertical-align: top;\n",
              "    }\n",
              "\n",
              "    .dataframe thead th {\n",
              "        text-align: right;\n",
              "    }\n",
              "</style>\n",
              "<table border=\"1\" class=\"dataframe\">\n",
              "  <thead>\n",
              "    <tr style=\"text-align: right;\">\n",
              "      <th></th>\n",
              "      <th>day</th>\n",
              "      <th>temperature</th>\n",
              "      <th>windspeed</th>\n",
              "      <th>event</th>\n",
              "    </tr>\n",
              "  </thead>\n",
              "  <tbody>\n",
              "    <tr>\n",
              "      <th>1</th>\n",
              "      <td>1/2/2017</td>\n",
              "      <td>35</td>\n",
              "      <td>7</td>\n",
              "      <td>Sunny</td>\n",
              "    </tr>\n",
              "    <tr>\n",
              "      <th>2</th>\n",
              "      <td>1/3/2017</td>\n",
              "      <td>28</td>\n",
              "      <td>2</td>\n",
              "      <td>Snow</td>\n",
              "    </tr>\n",
              "    <tr>\n",
              "      <th>3</th>\n",
              "      <td>1/4/2017</td>\n",
              "      <td>24</td>\n",
              "      <td>7</td>\n",
              "      <td>Snow</td>\n",
              "    </tr>\n",
              "    <tr>\n",
              "      <th>4</th>\n",
              "      <td>1/5/2017</td>\n",
              "      <td>32</td>\n",
              "      <td>4</td>\n",
              "      <td>Rain</td>\n",
              "    </tr>\n",
              "    <tr>\n",
              "      <th>5</th>\n",
              "      <td>1/6/2017</td>\n",
              "      <td>31</td>\n",
              "      <td>2</td>\n",
              "      <td>Sunny</td>\n",
              "    </tr>\n",
              "  </tbody>\n",
              "</table>\n",
              "</div>"
            ],
            "text/plain": [
              "        day  temperature  windspeed  event\n",
              "1  1/2/2017           35          7  Sunny\n",
              "2  1/3/2017           28          2   Snow\n",
              "3  1/4/2017           24          7   Snow\n",
              "4  1/5/2017           32          4   Rain\n",
              "5  1/6/2017           31          2  Sunny"
            ]
          },
          "execution_count": 76,
          "metadata": {},
          "output_type": "execute_result"
        }
      ],
      "source": [
        "#if you want to see last few rows then use tail command (default last 5 rows will print)\n",
        "df.tail()"
      ]
    },
    {
      "cell_type": "code",
      "execution_count": null,
      "metadata": {
        "id": "xWkZ7rqAE2S8",
        "outputId": "935837e9-5a8a-4aac-ce26-bbddd9c3bd5f"
      },
      "outputs": [
        {
          "data": {
            "text/html": [
              "<div>\n",
              "<style scoped>\n",
              "    .dataframe tbody tr th:only-of-type {\n",
              "        vertical-align: middle;\n",
              "    }\n",
              "\n",
              "    .dataframe tbody tr th {\n",
              "        vertical-align: top;\n",
              "    }\n",
              "\n",
              "    .dataframe thead th {\n",
              "        text-align: right;\n",
              "    }\n",
              "</style>\n",
              "<table border=\"1\" class=\"dataframe\">\n",
              "  <thead>\n",
              "    <tr style=\"text-align: right;\">\n",
              "      <th></th>\n",
              "      <th>day</th>\n",
              "      <th>temperature</th>\n",
              "      <th>windspeed</th>\n",
              "      <th>event</th>\n",
              "    </tr>\n",
              "  </thead>\n",
              "  <tbody>\n",
              "    <tr>\n",
              "      <th>2</th>\n",
              "      <td>1/3/2017</td>\n",
              "      <td>28</td>\n",
              "      <td>2</td>\n",
              "      <td>Snow</td>\n",
              "    </tr>\n",
              "    <tr>\n",
              "      <th>3</th>\n",
              "      <td>1/4/2017</td>\n",
              "      <td>24</td>\n",
              "      <td>7</td>\n",
              "      <td>Snow</td>\n",
              "    </tr>\n",
              "    <tr>\n",
              "      <th>4</th>\n",
              "      <td>1/5/2017</td>\n",
              "      <td>32</td>\n",
              "      <td>4</td>\n",
              "      <td>Rain</td>\n",
              "    </tr>\n",
              "  </tbody>\n",
              "</table>\n",
              "</div>"
            ],
            "text/plain": [
              "        day  temperature  windspeed event\n",
              "2  1/3/2017           28          2  Snow\n",
              "3  1/4/2017           24          7  Snow\n",
              "4  1/5/2017           32          4  Rain"
            ]
          },
          "execution_count": 77,
          "metadata": {},
          "output_type": "execute_result"
        }
      ],
      "source": [
        "#slicing\n",
        "df[2:5]"
      ]
    },
    {
      "cell_type": "code",
      "execution_count": null,
      "metadata": {
        "id": "TQUyOoktE2TB",
        "outputId": "083c82f6-41d6-4a7f-dd03-75d8218a6746"
      },
      "outputs": [
        {
          "data": {
            "text/plain": [
              "Index(['day', 'temperature', 'windspeed', 'event'], dtype='object')"
            ]
          },
          "execution_count": 21,
          "metadata": {
            "tags": []
          },
          "output_type": "execute_result"
        }
      ],
      "source": [
        "df.columns   #print columns in a table"
      ]
    },
    {
      "cell_type": "code",
      "execution_count": null,
      "metadata": {
        "id": "s1vnbMmuE2TG",
        "outputId": "7903f35b-882b-4cac-b8a8-0aed51d655d0"
      },
      "outputs": [
        {
          "data": {
            "text/plain": [
              "0    1/1/2017\n",
              "1    1/2/2017\n",
              "2    1/3/2017\n",
              "3    1/4/2017\n",
              "4    1/5/2017\n",
              "5    1/6/2017\n",
              "Name: day, dtype: object"
            ]
          },
          "execution_count": 174,
          "metadata": {},
          "output_type": "execute_result"
        }
      ],
      "source": [
        "df.day      #print particular column data\n",
        "\n",
        "df['day']\n"
      ]
    },
    {
      "cell_type": "code",
      "execution_count": null,
      "metadata": {
        "id": "V9rPH1YFE2TK",
        "outputId": "df20a1fe-651c-4e18-cbd9-e2ded3d637da"
      },
      "outputs": [
        {
          "data": {
            "text/plain": [
              "0    1/1/2017\n",
              "1    1/2/2017\n",
              "2    1/3/2017\n",
              "3    1/4/2017\n",
              "4    1/5/2017\n",
              "5    1/6/2017\n",
              "Name: day, dtype: object"
            ]
          },
          "execution_count": 24,
          "metadata": {
            "tags": []
          },
          "output_type": "execute_result"
        }
      ],
      "source": [
        "#another way of accessing column\n",
        "df['day'] #df.day (both are same)"
      ]
    },
    {
      "cell_type": "code",
      "execution_count": null,
      "metadata": {
        "id": "MbsjOYiCE2TN",
        "outputId": "d0d1b487-7623-46aa-f980-02de70f9305c"
      },
      "outputs": [
        {
          "data": {
            "text/html": [
              "<div>\n",
              "<style>\n",
              "    .dataframe thead tr:only-child th {\n",
              "        text-align: right;\n",
              "    }\n",
              "\n",
              "    .dataframe thead th {\n",
              "        text-align: left;\n",
              "    }\n",
              "\n",
              "    .dataframe tbody tr th {\n",
              "        vertical-align: top;\n",
              "    }\n",
              "</style>\n",
              "<table border=\"1\" class=\"dataframe\">\n",
              "  <thead>\n",
              "    <tr style=\"text-align: right;\">\n",
              "      <th></th>\n",
              "      <th>day</th>\n",
              "      <th>event</th>\n",
              "    </tr>\n",
              "  </thead>\n",
              "  <tbody>\n",
              "    <tr>\n",
              "      <th>0</th>\n",
              "      <td>1/1/2017</td>\n",
              "      <td>Rain</td>\n",
              "    </tr>\n",
              "    <tr>\n",
              "      <th>1</th>\n",
              "      <td>1/2/2017</td>\n",
              "      <td>Sunny</td>\n",
              "    </tr>\n",
              "    <tr>\n",
              "      <th>2</th>\n",
              "      <td>1/3/2017</td>\n",
              "      <td>Snow</td>\n",
              "    </tr>\n",
              "    <tr>\n",
              "      <th>3</th>\n",
              "      <td>1/4/2017</td>\n",
              "      <td>Snow</td>\n",
              "    </tr>\n",
              "    <tr>\n",
              "      <th>4</th>\n",
              "      <td>1/5/2017</td>\n",
              "      <td>Rain</td>\n",
              "    </tr>\n",
              "    <tr>\n",
              "      <th>5</th>\n",
              "      <td>1/6/2017</td>\n",
              "      <td>Sunny</td>\n",
              "    </tr>\n",
              "  </tbody>\n",
              "</table>\n",
              "</div>"
            ],
            "text/plain": [
              "        day  event\n",
              "0  1/1/2017   Rain\n",
              "1  1/2/2017  Sunny\n",
              "2  1/3/2017   Snow\n",
              "3  1/4/2017   Snow\n",
              "4  1/5/2017   Rain\n",
              "5  1/6/2017  Sunny"
            ]
          },
          "execution_count": 26,
          "metadata": {
            "tags": []
          },
          "output_type": "execute_result"
        }
      ],
      "source": [
        "#get 2 or more columns\n",
        "df[['day', 'event']]"
      ]
    },
    {
      "cell_type": "code",
      "execution_count": null,
      "metadata": {
        "id": "Fq-v38n-ZzmO",
        "outputId": "4aa4a95c-d4a0-41cb-e995-e5343f0489e9"
      },
      "outputs": [
        {
          "data": {
            "text/html": [
              "<div>\n",
              "<style scoped>\n",
              "    .dataframe tbody tr th:only-of-type {\n",
              "        vertical-align: middle;\n",
              "    }\n",
              "\n",
              "    .dataframe tbody tr th {\n",
              "        vertical-align: top;\n",
              "    }\n",
              "\n",
              "    .dataframe thead th {\n",
              "        text-align: right;\n",
              "    }\n",
              "</style>\n",
              "<table border=\"1\" class=\"dataframe\">\n",
              "  <thead>\n",
              "    <tr style=\"text-align: right;\">\n",
              "      <th></th>\n",
              "      <th>day</th>\n",
              "      <th>temperature</th>\n",
              "      <th>windspeed</th>\n",
              "      <th>event</th>\n",
              "    </tr>\n",
              "  </thead>\n",
              "  <tbody>\n",
              "    <tr>\n",
              "      <th>3</th>\n",
              "      <td>1/4/2017</td>\n",
              "      <td>24</td>\n",
              "      <td>7</td>\n",
              "      <td>Snow</td>\n",
              "    </tr>\n",
              "  </tbody>\n",
              "</table>\n",
              "</div>"
            ],
            "text/plain": [
              "        day  temperature  windspeed event\n",
              "3  1/4/2017           24          7  Snow"
            ]
          },
          "execution_count": 180,
          "metadata": {},
          "output_type": "execute_result"
        }
      ],
      "source": [
        "# row with min temp\n",
        "df[df.temperature==df.temperature.min()]"
      ]
    },
    {
      "cell_type": "code",
      "execution_count": null,
      "metadata": {
        "id": "lrr51XzfE2TR",
        "outputId": "449f85ed-808e-4f86-df48-3170e2420d76",
        "scrolled": false
      },
      "outputs": [
        {
          "data": {
            "text/plain": [
              "0    32\n",
              "1    35\n",
              "2    28\n",
              "3    24\n",
              "4    32\n",
              "5    31\n",
              "Name: temperature, dtype: int64"
            ]
          },
          "execution_count": 175,
          "metadata": {},
          "output_type": "execute_result"
        }
      ],
      "source": [
        "#get all temperatures\n",
        "df['temperature']"
      ]
    },
    {
      "cell_type": "code",
      "execution_count": null,
      "metadata": {
        "id": "RDbcg0FhE2TV",
        "outputId": "1bda9a4d-9774-4e53-fa46-954a1000c864"
      },
      "outputs": [
        {
          "data": {
            "text/plain": [
              "35"
            ]
          },
          "execution_count": 78,
          "metadata": {},
          "output_type": "execute_result"
        }
      ],
      "source": [
        "#print max temperature\n",
        "df['temperature'].max()"
      ]
    },
    {
      "cell_type": "code",
      "execution_count": null,
      "metadata": {
        "id": "xIKB8jvjE2Ta",
        "outputId": "1b6ae228-bd62-4bea-fc78-b80f870ed83a"
      },
      "outputs": [
        {
          "data": {
            "text/plain": [
              "24"
            ]
          },
          "execution_count": 30,
          "metadata": {
            "tags": []
          },
          "output_type": "execute_result"
        }
      ],
      "source": [
        "#print max temperature\n",
        "df['temperature'].min()"
      ]
    },
    {
      "cell_type": "code",
      "execution_count": null,
      "metadata": {
        "id": "0uWj9DdXE2Te",
        "outputId": "dcb7b3a3-c928-4a0c-e1dd-97f7f98e8c41"
      },
      "outputs": [
        {
          "data": {
            "text/plain": [
              "count     6.000000\n",
              "mean     30.333333\n",
              "std       3.829708\n",
              "min      24.000000\n",
              "25%      28.750000\n",
              "50%      31.500000\n",
              "75%      32.000000\n",
              "max      35.000000\n",
              "Name: temperature, dtype: float64"
            ]
          },
          "execution_count": 31,
          "metadata": {
            "tags": []
          },
          "output_type": "execute_result"
        }
      ],
      "source": [
        "#print max temperature\n",
        "df['temperature'].describe()"
      ]
    },
    {
      "cell_type": "code",
      "execution_count": null,
      "metadata": {
        "id": "f7yFrONKE2Th",
        "outputId": "0453933b-844a-44de-b0df-783beb4c3dcd"
      },
      "outputs": [
        {
          "data": {
            "text/html": [
              "<div>\n",
              "<style>\n",
              "    .dataframe thead tr:only-child th {\n",
              "        text-align: right;\n",
              "    }\n",
              "\n",
              "    .dataframe thead th {\n",
              "        text-align: left;\n",
              "    }\n",
              "\n",
              "    .dataframe tbody tr th {\n",
              "        vertical-align: top;\n",
              "    }\n",
              "</style>\n",
              "<table border=\"1\" class=\"dataframe\">\n",
              "  <thead>\n",
              "    <tr style=\"text-align: right;\">\n",
              "      <th></th>\n",
              "      <th>day</th>\n",
              "      <th>temperature</th>\n",
              "      <th>windspeed</th>\n",
              "      <th>event</th>\n",
              "    </tr>\n",
              "  </thead>\n",
              "  <tbody>\n",
              "    <tr>\n",
              "      <th>1</th>\n",
              "      <td>1/2/2017</td>\n",
              "      <td>35</td>\n",
              "      <td>7</td>\n",
              "      <td>Sunny</td>\n",
              "    </tr>\n",
              "  </tbody>\n",
              "</table>\n",
              "</div>"
            ],
            "text/plain": [
              "        day  temperature  windspeed  event\n",
              "1  1/2/2017           35          7  Sunny"
            ]
          },
          "execution_count": 32,
          "metadata": {
            "tags": []
          },
          "output_type": "execute_result"
        }
      ],
      "source": [
        "# select rows which has maximum temperature\n",
        "df[df.temperature == df.temperature.max()]\n"
      ]
    },
    {
      "cell_type": "code",
      "execution_count": null,
      "metadata": {
        "id": "NBaLglmXE2Tk",
        "outputId": "2aa0863a-316e-46f5-df5b-8020d166d6e8",
        "scrolled": true
      },
      "outputs": [
        {
          "data": {
            "text/html": [
              "<div>\n",
              "<style scoped>\n",
              "    .dataframe tbody tr th:only-of-type {\n",
              "        vertical-align: middle;\n",
              "    }\n",
              "\n",
              "    .dataframe tbody tr th {\n",
              "        vertical-align: top;\n",
              "    }\n",
              "\n",
              "    .dataframe thead th {\n",
              "        text-align: right;\n",
              "    }\n",
              "</style>\n",
              "<table border=\"1\" class=\"dataframe\">\n",
              "  <thead>\n",
              "    <tr style=\"text-align: right;\">\n",
              "      <th></th>\n",
              "      <th>day</th>\n",
              "      <th>event</th>\n",
              "    </tr>\n",
              "  </thead>\n",
              "  <tbody>\n",
              "    <tr>\n",
              "      <th>1</th>\n",
              "      <td>1/2/2017</td>\n",
              "      <td>Sunny</td>\n",
              "    </tr>\n",
              "  </tbody>\n",
              "</table>\n",
              "</div>"
            ],
            "text/plain": [
              "        day  event\n",
              "1  1/2/2017  Sunny"
            ]
          },
          "execution_count": 182,
          "metadata": {},
          "output_type": "execute_result"
        }
      ],
      "source": [
        "#select only day column which has maximum temperature\n",
        "df[df.temperature == df.temperature.max()][['day','event']]\n"
      ]
    },
    {
      "cell_type": "code",
      "execution_count": null,
      "metadata": {
        "id": "Pc2bMm6tZzmP"
      },
      "outputs": [],
      "source": []
    }
  ],
  "metadata": {
    "kernelspec": {
      "display_name": "Python 3 (ipykernel)",
      "language": "python",
      "name": "python3"
    },
    "language_info": {
      "codemirror_mode": {
        "name": "ipython",
        "version": 3
      },
      "file_extension": ".py",
      "mimetype": "text/x-python",
      "name": "python",
      "nbconvert_exporter": "python",
      "pygments_lexer": "ipython3",
      "version": "3.9.12"
    },
    "colab": {
      "provenance": []
    }
  },
  "nbformat": 4,
  "nbformat_minor": 0
}